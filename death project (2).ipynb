{
 "cells": [
  {
   "cell_type": "code",
   "execution_count": 148,
   "id": "a757082e",
   "metadata": {},
   "outputs": [],
   "source": [
    "import pandas as pd\n",
    "import numpy as np\n",
    "import matplotlib.pyplot as plt"
   ]
  },
  {
   "cell_type": "code",
   "execution_count": 149,
   "id": "8eac2545",
   "metadata": {},
   "outputs": [],
   "source": [
    "death = pd.read_csv('death_final.csv')\n",
    "education = pd.read_csv('education_final.csv')\n",
    "unemployment = pd.read_csv('unemployment_final.csv')\n",
    "poverty = pd.read_csv('poverty_final.csv')"
   ]
  },
  {
   "cell_type": "code",
   "execution_count": 150,
   "id": "07eabbdb",
   "metadata": {},
   "outputs": [
    {
     "data": {
      "text/html": [
       "<div>\n",
       "<style scoped>\n",
       "    .dataframe tbody tr th:only-of-type {\n",
       "        vertical-align: middle;\n",
       "    }\n",
       "\n",
       "    .dataframe tbody tr th {\n",
       "        vertical-align: top;\n",
       "    }\n",
       "\n",
       "    .dataframe thead th {\n",
       "        text-align: right;\n",
       "    }\n",
       "</style>\n",
       "<table border=\"1\" class=\"dataframe\">\n",
       "  <thead>\n",
       "    <tr style=\"text-align: right;\">\n",
       "      <th></th>\n",
       "      <th>FIPS</th>\n",
       "      <th>Age-Adjusted Death Rate([rate note]) - deaths per 100,000</th>\n",
       "    </tr>\n",
       "  </thead>\n",
       "  <tbody>\n",
       "    <tr>\n",
       "      <th>0</th>\n",
       "      <td>0</td>\n",
       "      <td>152.4</td>\n",
       "    </tr>\n",
       "    <tr>\n",
       "      <th>1</th>\n",
       "      <td>12125</td>\n",
       "      <td>441.1</td>\n",
       "    </tr>\n",
       "    <tr>\n",
       "      <th>2</th>\n",
       "      <td>51640</td>\n",
       "      <td>384.3</td>\n",
       "    </tr>\n",
       "    <tr>\n",
       "      <th>3</th>\n",
       "      <td>20095</td>\n",
       "      <td>315.8</td>\n",
       "    </tr>\n",
       "    <tr>\n",
       "      <th>4</th>\n",
       "      <td>51580</td>\n",
       "      <td>293.1</td>\n",
       "    </tr>\n",
       "  </tbody>\n",
       "</table>\n",
       "</div>"
      ],
      "text/plain": [
       "    FIPS Age-Adjusted Death Rate([rate note]) - deaths per 100,000\n",
       "0      0                                              152.4       \n",
       "1  12125                                              441.1       \n",
       "2  51640                                              384.3       \n",
       "3  20095                                              315.8       \n",
       "4  51580                                              293.1       "
      ]
     },
     "execution_count": 150,
     "metadata": {},
     "output_type": "execute_result"
    }
   ],
   "source": [
    "death.head()"
   ]
  },
  {
   "cell_type": "code",
   "execution_count": 151,
   "id": "a5ab662f",
   "metadata": {},
   "outputs": [
    {
     "data": {
      "text/html": [
       "<div>\n",
       "<style scoped>\n",
       "    .dataframe tbody tr th:only-of-type {\n",
       "        vertical-align: middle;\n",
       "    }\n",
       "\n",
       "    .dataframe tbody tr th {\n",
       "        vertical-align: top;\n",
       "    }\n",
       "\n",
       "    .dataframe thead th {\n",
       "        text-align: right;\n",
       "    }\n",
       "</style>\n",
       "<table border=\"1\" class=\"dataframe\">\n",
       "  <thead>\n",
       "    <tr style=\"text-align: right;\">\n",
       "      <th></th>\n",
       "      <th>FIPS Code</th>\n",
       "      <th>State</th>\n",
       "      <th>Area name</th>\n",
       "      <th>2013 Rural-urban Continuum Code</th>\n",
       "      <th>2013 Urban Influence Code</th>\n",
       "      <th>Percent of adults with less than a high school diploma, 1970</th>\n",
       "      <th>Percent of adults with a high school diploma only, 1970</th>\n",
       "      <th>Percent of adults completing some college (1-3 years), 1970</th>\n",
       "      <th>Percent of adults completing four years of college or higher, 1970</th>\n",
       "      <th>Percent of adults with less than a high school diploma, 1980</th>\n",
       "      <th>...</th>\n",
       "      <th>Percent of adults completing some college or associate's degree, 1990</th>\n",
       "      <th>Percent of adults with a bachelor's degree or higher, 1990</th>\n",
       "      <th>Percent of adults with less than a high school diploma, 2000</th>\n",
       "      <th>Percent of adults with a high school diploma only, 2000</th>\n",
       "      <th>Percent of adults completing some college or associate's degree, 2000</th>\n",
       "      <th>Percent of adults with a bachelor's degree or higher, 2000</th>\n",
       "      <th>Percent of adults with less than a high school diploma, 2015-19</th>\n",
       "      <th>Percent of adults with a high school diploma only, 2015-19</th>\n",
       "      <th>Percent of adults completing some college or associate's degree, 2015-19</th>\n",
       "      <th>Percent of adults with a bachelor's degree or higher, 2015-19</th>\n",
       "    </tr>\n",
       "  </thead>\n",
       "  <tbody>\n",
       "    <tr>\n",
       "      <th>0</th>\n",
       "      <td>0</td>\n",
       "      <td>US</td>\n",
       "      <td>United States</td>\n",
       "      <td>NaN</td>\n",
       "      <td>NaN</td>\n",
       "      <td>47.7</td>\n",
       "      <td>31.1</td>\n",
       "      <td>10.6</td>\n",
       "      <td>10.7</td>\n",
       "      <td>33.5</td>\n",
       "      <td>...</td>\n",
       "      <td>24.9</td>\n",
       "      <td>20.3</td>\n",
       "      <td>19.6</td>\n",
       "      <td>28.6</td>\n",
       "      <td>27.4</td>\n",
       "      <td>24.4</td>\n",
       "      <td>12.0</td>\n",
       "      <td>27.0</td>\n",
       "      <td>28.9</td>\n",
       "      <td>32.1</td>\n",
       "    </tr>\n",
       "    <tr>\n",
       "      <th>1</th>\n",
       "      <td>1000</td>\n",
       "      <td>AL</td>\n",
       "      <td>Alabama</td>\n",
       "      <td>NaN</td>\n",
       "      <td>NaN</td>\n",
       "      <td>58.7</td>\n",
       "      <td>25.9</td>\n",
       "      <td>7.5</td>\n",
       "      <td>7.8</td>\n",
       "      <td>43.5</td>\n",
       "      <td>...</td>\n",
       "      <td>21.7</td>\n",
       "      <td>15.7</td>\n",
       "      <td>24.7</td>\n",
       "      <td>30.4</td>\n",
       "      <td>25.9</td>\n",
       "      <td>19.0</td>\n",
       "      <td>13.8</td>\n",
       "      <td>30.8</td>\n",
       "      <td>29.9</td>\n",
       "      <td>25.5</td>\n",
       "    </tr>\n",
       "    <tr>\n",
       "      <th>2</th>\n",
       "      <td>1001</td>\n",
       "      <td>AL</td>\n",
       "      <td>Autauga County</td>\n",
       "      <td>2.0</td>\n",
       "      <td>2.0</td>\n",
       "      <td>54.8</td>\n",
       "      <td>31.1</td>\n",
       "      <td>7.7</td>\n",
       "      <td>6.4</td>\n",
       "      <td>40.6</td>\n",
       "      <td>...</td>\n",
       "      <td>23.5</td>\n",
       "      <td>14.5</td>\n",
       "      <td>21.3</td>\n",
       "      <td>33.8</td>\n",
       "      <td>26.9</td>\n",
       "      <td>18.0</td>\n",
       "      <td>11.5</td>\n",
       "      <td>33.6</td>\n",
       "      <td>28.4</td>\n",
       "      <td>26.6</td>\n",
       "    </tr>\n",
       "    <tr>\n",
       "      <th>3</th>\n",
       "      <td>1003</td>\n",
       "      <td>AL</td>\n",
       "      <td>Baldwin County</td>\n",
       "      <td>3.0</td>\n",
       "      <td>2.0</td>\n",
       "      <td>59.4</td>\n",
       "      <td>26.7</td>\n",
       "      <td>7.4</td>\n",
       "      <td>6.5</td>\n",
       "      <td>39.7</td>\n",
       "      <td>...</td>\n",
       "      <td>24.6</td>\n",
       "      <td>16.8</td>\n",
       "      <td>18.0</td>\n",
       "      <td>29.6</td>\n",
       "      <td>29.3</td>\n",
       "      <td>23.1</td>\n",
       "      <td>9.2</td>\n",
       "      <td>27.7</td>\n",
       "      <td>31.3</td>\n",
       "      <td>31.9</td>\n",
       "    </tr>\n",
       "    <tr>\n",
       "      <th>4</th>\n",
       "      <td>1005</td>\n",
       "      <td>AL</td>\n",
       "      <td>Barbour County</td>\n",
       "      <td>6.0</td>\n",
       "      <td>6.0</td>\n",
       "      <td>68.8</td>\n",
       "      <td>19.0</td>\n",
       "      <td>4.9</td>\n",
       "      <td>7.3</td>\n",
       "      <td>55.1</td>\n",
       "      <td>...</td>\n",
       "      <td>16.7</td>\n",
       "      <td>11.8</td>\n",
       "      <td>35.3</td>\n",
       "      <td>32.4</td>\n",
       "      <td>21.3</td>\n",
       "      <td>10.9</td>\n",
       "      <td>26.8</td>\n",
       "      <td>35.6</td>\n",
       "      <td>26.0</td>\n",
       "      <td>11.6</td>\n",
       "    </tr>\n",
       "  </tbody>\n",
       "</table>\n",
       "<p>5 rows × 25 columns</p>\n",
       "</div>"
      ],
      "text/plain": [
       "   FIPS Code State       Area name  2013 Rural-urban Continuum Code  \\\n",
       "0          0    US   United States                              NaN   \n",
       "1       1000    AL         Alabama                              NaN   \n",
       "2       1001    AL  Autauga County                              2.0   \n",
       "3       1003    AL  Baldwin County                              3.0   \n",
       "4       1005    AL  Barbour County                              6.0   \n",
       "\n",
       "   2013 Urban Influence Code  \\\n",
       "0                        NaN   \n",
       "1                        NaN   \n",
       "2                        2.0   \n",
       "3                        2.0   \n",
       "4                        6.0   \n",
       "\n",
       "   Percent of adults with less than a high school diploma, 1970  \\\n",
       "0                                               47.7              \n",
       "1                                               58.7              \n",
       "2                                               54.8              \n",
       "3                                               59.4              \n",
       "4                                               68.8              \n",
       "\n",
       "   Percent of adults with a high school diploma only, 1970  \\\n",
       "0                                               31.1         \n",
       "1                                               25.9         \n",
       "2                                               31.1         \n",
       "3                                               26.7         \n",
       "4                                               19.0         \n",
       "\n",
       "   Percent of adults completing some college (1-3 years), 1970  \\\n",
       "0                                               10.6             \n",
       "1                                                7.5             \n",
       "2                                                7.7             \n",
       "3                                                7.4             \n",
       "4                                                4.9             \n",
       "\n",
       "   Percent of adults completing four years of college or higher, 1970  \\\n",
       "0                                               10.7                    \n",
       "1                                                7.8                    \n",
       "2                                                6.4                    \n",
       "3                                                6.5                    \n",
       "4                                                7.3                    \n",
       "\n",
       "   Percent of adults with less than a high school diploma, 1980  ...  \\\n",
       "0                                               33.5             ...   \n",
       "1                                               43.5             ...   \n",
       "2                                               40.6             ...   \n",
       "3                                               39.7             ...   \n",
       "4                                               55.1             ...   \n",
       "\n",
       "   Percent of adults completing some college or associate's degree, 1990  \\\n",
       "0                                               24.9                       \n",
       "1                                               21.7                       \n",
       "2                                               23.5                       \n",
       "3                                               24.6                       \n",
       "4                                               16.7                       \n",
       "\n",
       "   Percent of adults with a bachelor's degree or higher, 1990  \\\n",
       "0                                               20.3            \n",
       "1                                               15.7            \n",
       "2                                               14.5            \n",
       "3                                               16.8            \n",
       "4                                               11.8            \n",
       "\n",
       "   Percent of adults with less than a high school diploma, 2000  \\\n",
       "0                                               19.6              \n",
       "1                                               24.7              \n",
       "2                                               21.3              \n",
       "3                                               18.0              \n",
       "4                                               35.3              \n",
       "\n",
       "   Percent of adults with a high school diploma only, 2000  \\\n",
       "0                                               28.6         \n",
       "1                                               30.4         \n",
       "2                                               33.8         \n",
       "3                                               29.6         \n",
       "4                                               32.4         \n",
       "\n",
       "   Percent of adults completing some college or associate's degree, 2000  \\\n",
       "0                                               27.4                       \n",
       "1                                               25.9                       \n",
       "2                                               26.9                       \n",
       "3                                               29.3                       \n",
       "4                                               21.3                       \n",
       "\n",
       "   Percent of adults with a bachelor's degree or higher, 2000  \\\n",
       "0                                               24.4            \n",
       "1                                               19.0            \n",
       "2                                               18.0            \n",
       "3                                               23.1            \n",
       "4                                               10.9            \n",
       "\n",
       "   Percent of adults with less than a high school diploma, 2015-19  \\\n",
       "0                                               12.0                 \n",
       "1                                               13.8                 \n",
       "2                                               11.5                 \n",
       "3                                                9.2                 \n",
       "4                                               26.8                 \n",
       "\n",
       "   Percent of adults with a high school diploma only, 2015-19  \\\n",
       "0                                               27.0            \n",
       "1                                               30.8            \n",
       "2                                               33.6            \n",
       "3                                               27.7            \n",
       "4                                               35.6            \n",
       "\n",
       "   Percent of adults completing some college or associate's degree, 2015-19  \\\n",
       "0                                               28.9                          \n",
       "1                                               29.9                          \n",
       "2                                               28.4                          \n",
       "3                                               31.3                          \n",
       "4                                               26.0                          \n",
       "\n",
       "   Percent of adults with a bachelor's degree or higher, 2015-19  \n",
       "0                                               32.1              \n",
       "1                                               25.5              \n",
       "2                                               26.6              \n",
       "3                                               31.9              \n",
       "4                                               11.6              \n",
       "\n",
       "[5 rows x 25 columns]"
      ]
     },
     "execution_count": 151,
     "metadata": {},
     "output_type": "execute_result"
    }
   ],
   "source": [
    "education.head()"
   ]
  },
  {
   "cell_type": "code",
   "execution_count": 152,
   "id": "3b9299db",
   "metadata": {},
   "outputs": [
    {
     "data": {
      "text/html": [
       "<div>\n",
       "<style scoped>\n",
       "    .dataframe tbody tr th:only-of-type {\n",
       "        vertical-align: middle;\n",
       "    }\n",
       "\n",
       "    .dataframe tbody tr th {\n",
       "        vertical-align: top;\n",
       "    }\n",
       "\n",
       "    .dataframe thead th {\n",
       "        text-align: right;\n",
       "    }\n",
       "</style>\n",
       "<table border=\"1\" class=\"dataframe\">\n",
       "  <thead>\n",
       "    <tr style=\"text-align: right;\">\n",
       "      <th></th>\n",
       "      <th>FIPS</th>\n",
       "      <th>Civilian_labor_force_2015</th>\n",
       "      <th>Unemployed_2015</th>\n",
       "      <th>Unemployment_rate_2015</th>\n",
       "      <th>Civilian_labor_force_2016</th>\n",
       "      <th>Unemployed_2016</th>\n",
       "      <th>Unemployment_rate_2016</th>\n",
       "      <th>Civilian_labor_force_2017</th>\n",
       "      <th>Unemployed_2017</th>\n",
       "      <th>Unemployment_rate_2017</th>\n",
       "      <th>Civilian_labor_force_2018</th>\n",
       "      <th>Unemployed_2018</th>\n",
       "      <th>Unemployment_rate_2018</th>\n",
       "      <th>Civilian_labor_force_2019</th>\n",
       "      <th>Unemployed_2019</th>\n",
       "      <th>Unemployment_rate_2019</th>\n",
       "      <th>Civilian_labor_force_2020</th>\n",
       "      <th>Unemployed_2020</th>\n",
       "      <th>Unemployment_rate_2020</th>\n",
       "    </tr>\n",
       "  </thead>\n",
       "  <tbody>\n",
       "    <tr>\n",
       "      <th>0</th>\n",
       "      <td>0</td>\n",
       "      <td>156,840,649</td>\n",
       "      <td>8,285,731</td>\n",
       "      <td>5.3</td>\n",
       "      <td>158,674,951</td>\n",
       "      <td>7,725,602</td>\n",
       "      <td>4.9</td>\n",
       "      <td>160,214,378</td>\n",
       "      <td>6,977,228</td>\n",
       "      <td>4.4</td>\n",
       "      <td>161,441,134</td>\n",
       "      <td>6,288,584</td>\n",
       "      <td>3.9</td>\n",
       "      <td>163,140,305</td>\n",
       "      <td>5,986,120</td>\n",
       "      <td>3.7</td>\n",
       "      <td>160,611,064</td>\n",
       "      <td>12,933,704</td>\n",
       "      <td>8.1</td>\n",
       "    </tr>\n",
       "    <tr>\n",
       "      <th>1</th>\n",
       "      <td>1000</td>\n",
       "      <td>2,152,295</td>\n",
       "      <td>131,852</td>\n",
       "      <td>6.1</td>\n",
       "      <td>2,155,729</td>\n",
       "      <td>126,572</td>\n",
       "      <td>5.9</td>\n",
       "      <td>2,172,455</td>\n",
       "      <td>99,059</td>\n",
       "      <td>4.6</td>\n",
       "      <td>2,207,019</td>\n",
       "      <td>86,315</td>\n",
       "      <td>3.9</td>\n",
       "      <td>2,237,278</td>\n",
       "      <td>67,883</td>\n",
       "      <td>3.0</td>\n",
       "      <td>2,230,118</td>\n",
       "      <td>131,056</td>\n",
       "      <td>5.9</td>\n",
       "    </tr>\n",
       "    <tr>\n",
       "      <th>2</th>\n",
       "      <td>1001</td>\n",
       "      <td>25,541</td>\n",
       "      <td>1,335</td>\n",
       "      <td>5.2</td>\n",
       "      <td>25,710</td>\n",
       "      <td>1,315</td>\n",
       "      <td>5.1</td>\n",
       "      <td>25,898</td>\n",
       "      <td>1,040</td>\n",
       "      <td>4.0</td>\n",
       "      <td>26,081</td>\n",
       "      <td>941</td>\n",
       "      <td>3.6</td>\n",
       "      <td>26,281</td>\n",
       "      <td>720</td>\n",
       "      <td>2.7</td>\n",
       "      <td>25,838</td>\n",
       "      <td>1,262</td>\n",
       "      <td>4.9</td>\n",
       "    </tr>\n",
       "    <tr>\n",
       "      <th>3</th>\n",
       "      <td>1003</td>\n",
       "      <td>87,493</td>\n",
       "      <td>4,874</td>\n",
       "      <td>5.6</td>\n",
       "      <td>89,778</td>\n",
       "      <td>4,806</td>\n",
       "      <td>5.4</td>\n",
       "      <td>91,838</td>\n",
       "      <td>3,844</td>\n",
       "      <td>4.2</td>\n",
       "      <td>94,820</td>\n",
       "      <td>3,445</td>\n",
       "      <td>3.6</td>\n",
       "      <td>97,424</td>\n",
       "      <td>2,711</td>\n",
       "      <td>2.8</td>\n",
       "      <td>96,763</td>\n",
       "      <td>5,425</td>\n",
       "      <td>5.6</td>\n",
       "    </tr>\n",
       "    <tr>\n",
       "      <th>4</th>\n",
       "      <td>1005</td>\n",
       "      <td>8,590</td>\n",
       "      <td>767</td>\n",
       "      <td>8.9</td>\n",
       "      <td>8,334</td>\n",
       "      <td>696</td>\n",
       "      <td>8.4</td>\n",
       "      <td>8,298</td>\n",
       "      <td>498</td>\n",
       "      <td>6.0</td>\n",
       "      <td>8,379</td>\n",
       "      <td>430</td>\n",
       "      <td>5.1</td>\n",
       "      <td>8,502</td>\n",
       "      <td>325</td>\n",
       "      <td>3.8</td>\n",
       "      <td>8,587</td>\n",
       "      <td>605</td>\n",
       "      <td>7.0</td>\n",
       "    </tr>\n",
       "  </tbody>\n",
       "</table>\n",
       "</div>"
      ],
      "text/plain": [
       "   FIPS Civilian_labor_force_2015 Unemployed_2015  Unemployment_rate_2015  \\\n",
       "0     0               156,840,649       8,285,731                     5.3   \n",
       "1  1000                 2,152,295         131,852                     6.1   \n",
       "2  1001                    25,541           1,335                     5.2   \n",
       "3  1003                    87,493           4,874                     5.6   \n",
       "4  1005                     8,590             767                     8.9   \n",
       "\n",
       "  Civilian_labor_force_2016 Unemployed_2016  Unemployment_rate_2016  \\\n",
       "0               158,674,951       7,725,602                     4.9   \n",
       "1                 2,155,729         126,572                     5.9   \n",
       "2                    25,710           1,315                     5.1   \n",
       "3                    89,778           4,806                     5.4   \n",
       "4                     8,334             696                     8.4   \n",
       "\n",
       "  Civilian_labor_force_2017 Unemployed_2017  Unemployment_rate_2017  \\\n",
       "0               160,214,378       6,977,228                     4.4   \n",
       "1                 2,172,455          99,059                     4.6   \n",
       "2                    25,898           1,040                     4.0   \n",
       "3                    91,838           3,844                     4.2   \n",
       "4                     8,298             498                     6.0   \n",
       "\n",
       "  Civilian_labor_force_2018 Unemployed_2018  Unemployment_rate_2018  \\\n",
       "0               161,441,134       6,288,584                     3.9   \n",
       "1                 2,207,019          86,315                     3.9   \n",
       "2                    26,081             941                     3.6   \n",
       "3                    94,820           3,445                     3.6   \n",
       "4                     8,379             430                     5.1   \n",
       "\n",
       "  Civilian_labor_force_2019 Unemployed_2019  Unemployment_rate_2019  \\\n",
       "0               163,140,305       5,986,120                     3.7   \n",
       "1                 2,237,278          67,883                     3.0   \n",
       "2                    26,281             720                     2.7   \n",
       "3                    97,424           2,711                     2.8   \n",
       "4                     8,502             325                     3.8   \n",
       "\n",
       "  Civilian_labor_force_2020 Unemployed_2020  Unemployment_rate_2020  \n",
       "0               160,611,064      12,933,704                     8.1  \n",
       "1                 2,230,118         131,056                     5.9  \n",
       "2                    25,838           1,262                     4.9  \n",
       "3                    96,763           5,425                     5.6  \n",
       "4                     8,587             605                     7.0  "
      ]
     },
     "execution_count": 152,
     "metadata": {},
     "output_type": "execute_result"
    }
   ],
   "source": [
    "unemployment.head()"
   ]
  },
  {
   "cell_type": "code",
   "execution_count": 153,
   "id": "3c5b6935",
   "metadata": {},
   "outputs": [
    {
     "data": {
      "text/html": [
       "<div>\n",
       "<style scoped>\n",
       "    .dataframe tbody tr th:only-of-type {\n",
       "        vertical-align: middle;\n",
       "    }\n",
       "\n",
       "    .dataframe tbody tr th {\n",
       "        vertical-align: top;\n",
       "    }\n",
       "\n",
       "    .dataframe thead th {\n",
       "        text-align: right;\n",
       "    }\n",
       "</style>\n",
       "<table border=\"1\" class=\"dataframe\">\n",
       "  <thead>\n",
       "    <tr style=\"text-align: right;\">\n",
       "      <th></th>\n",
       "      <th>FIPS</th>\n",
       "      <th>POVALL_2019</th>\n",
       "      <th>PCTPOVALL_2019</th>\n",
       "      <th>POV017_2019</th>\n",
       "      <th>PCTPOV017_2019</th>\n",
       "      <th>MEDHHINC_2019</th>\n",
       "    </tr>\n",
       "  </thead>\n",
       "  <tbody>\n",
       "    <tr>\n",
       "      <th>0</th>\n",
       "      <td>0</td>\n",
       "      <td>39,490,096</td>\n",
       "      <td>12.3</td>\n",
       "      <td>12,000,470</td>\n",
       "      <td>16.8</td>\n",
       "      <td>65,712</td>\n",
       "    </tr>\n",
       "    <tr>\n",
       "      <th>1</th>\n",
       "      <td>1000</td>\n",
       "      <td>747,478</td>\n",
       "      <td>15.6</td>\n",
       "      <td>233,890</td>\n",
       "      <td>21.9</td>\n",
       "      <td>51,771</td>\n",
       "    </tr>\n",
       "    <tr>\n",
       "      <th>2</th>\n",
       "      <td>1001</td>\n",
       "      <td>6,723</td>\n",
       "      <td>12.1</td>\n",
       "      <td>2,040</td>\n",
       "      <td>15.9</td>\n",
       "      <td>58,233</td>\n",
       "    </tr>\n",
       "    <tr>\n",
       "      <th>3</th>\n",
       "      <td>1003</td>\n",
       "      <td>22,360</td>\n",
       "      <td>10.1</td>\n",
       "      <td>6,323</td>\n",
       "      <td>13.5</td>\n",
       "      <td>59,871</td>\n",
       "    </tr>\n",
       "    <tr>\n",
       "      <th>4</th>\n",
       "      <td>1005</td>\n",
       "      <td>5,909</td>\n",
       "      <td>27.1</td>\n",
       "      <td>2,050</td>\n",
       "      <td>41.0</td>\n",
       "      <td>35,972</td>\n",
       "    </tr>\n",
       "  </tbody>\n",
       "</table>\n",
       "</div>"
      ],
      "text/plain": [
       "   FIPS POVALL_2019  PCTPOVALL_2019 POV017_2019  PCTPOV017_2019 MEDHHINC_2019\n",
       "0     0  39,490,096            12.3  12,000,470            16.8        65,712\n",
       "1  1000     747,478            15.6     233,890            21.9        51,771\n",
       "2  1001       6,723            12.1       2,040            15.9        58,233\n",
       "3  1003      22,360            10.1       6,323            13.5        59,871\n",
       "4  1005       5,909            27.1       2,050            41.0        35,972"
      ]
     },
     "execution_count": 153,
     "metadata": {},
     "output_type": "execute_result"
    }
   ],
   "source": [
    "poverty.head()"
   ]
  },
  {
   "cell_type": "code",
   "execution_count": 154,
   "id": "c1435e02",
   "metadata": {},
   "outputs": [],
   "source": [
    "education = education.rename({'FIPS Code': 'FIPS'}, axis='columns')\n",
    "death = death.rename({' FIPS': 'FIPS'}, axis='columns')"
   ]
  },
  {
   "cell_type": "code",
   "execution_count": 155,
   "id": "a5d16400",
   "metadata": {},
   "outputs": [
    {
     "data": {
      "text/plain": [
       "(3134, 49)"
      ]
     },
     "execution_count": 155,
     "metadata": {},
     "output_type": "execute_result"
    }
   ],
   "source": [
    "join_one = pd.merge(poverty, education, on = 'FIPS')\n",
    "join_two = pd.merge(join_one, unemployment, on = 'FIPS')\n",
    "all_data = pd.merge(join_two, death, on = 'FIPS')\n",
    "all_data.shape"
   ]
  },
  {
   "cell_type": "code",
   "execution_count": 156,
   "id": "5b961422",
   "metadata": {},
   "outputs": [],
   "source": [
    "all_data = all_data.dropna()"
   ]
  },
  {
   "cell_type": "code",
   "execution_count": 157,
   "id": "5c03ea3b",
   "metadata": {},
   "outputs": [],
   "source": [
    "all_data = all_data.rename({'Age-Adjusted Death Rate([rate note]) - deaths per 100,000': 'Death Rate'}, axis='columns')"
   ]
  },
  {
   "cell_type": "code",
   "execution_count": 158,
   "id": "f4e99490",
   "metadata": {},
   "outputs": [
    {
     "data": {
      "text/plain": [
       "FIPS                                                                        0\n",
       "POVALL_2019                                                                 0\n",
       "PCTPOVALL_2019                                                              0\n",
       "POV017_2019                                                                 0\n",
       "PCTPOV017_2019                                                              0\n",
       "MEDHHINC_2019                                                               0\n",
       "State                                                                       0\n",
       "Area name                                                                   0\n",
       "2013 Rural-urban Continuum Code                                             0\n",
       "2013 Urban Influence Code                                                   0\n",
       "Percent of adults with less than a high school diploma, 1970                0\n",
       "Percent of adults with a high school diploma only, 1970                     0\n",
       "Percent of adults completing some college (1-3 years), 1970                 0\n",
       "Percent of adults completing four years of college or higher, 1970          0\n",
       "Percent of adults with less than a high school diploma, 1980                0\n",
       "Percent of adults with a high school diploma only, 1980                     0\n",
       "Percent of adults completing some college (1-3 years), 1980                 0\n",
       "Percent of adults completing four years of college or higher, 1980          0\n",
       "Percent of adults with less than a high school diploma, 1990                0\n",
       "Percent of adults with a high school diploma only, 1990                     0\n",
       "Percent of adults completing some college or associate's degree, 1990       0\n",
       "Percent of adults with a bachelor's degree or higher, 1990                  0\n",
       "Percent of adults with less than a high school diploma, 2000                0\n",
       "Percent of adults with a high school diploma only, 2000                     0\n",
       "Percent of adults completing some college or associate's degree, 2000       0\n",
       "Percent of adults with a bachelor's degree or higher, 2000                  0\n",
       "Percent of adults with less than a high school diploma, 2015-19             0\n",
       "Percent of adults with a high school diploma only, 2015-19                  0\n",
       "Percent of adults completing some college or associate's degree, 2015-19    0\n",
       "Percent of adults with a bachelor's degree or higher, 2015-19               0\n",
       "Civilian_labor_force_2015                                                   0\n",
       "Unemployed_2015                                                             0\n",
       "Unemployment_rate_2015                                                      0\n",
       "Civilian_labor_force_2016                                                   0\n",
       "Unemployed_2016                                                             0\n",
       "Unemployment_rate_2016                                                      0\n",
       "Civilian_labor_force_2017                                                   0\n",
       "Unemployed_2017                                                             0\n",
       "Unemployment_rate_2017                                                      0\n",
       "Civilian_labor_force_2018                                                   0\n",
       "Unemployed_2018                                                             0\n",
       "Unemployment_rate_2018                                                      0\n",
       "Civilian_labor_force_2019                                                   0\n",
       "Unemployed_2019                                                             0\n",
       "Unemployment_rate_2019                                                      0\n",
       "Civilian_labor_force_2020                                                   0\n",
       "Unemployed_2020                                                             0\n",
       "Unemployment_rate_2020                                                      0\n",
       "Death Rate                                                                  0\n",
       "dtype: int64"
      ]
     },
     "execution_count": 158,
     "metadata": {},
     "output_type": "execute_result"
    }
   ],
   "source": [
    "all_data.isna().sum()"
   ]
  },
  {
   "cell_type": "code",
   "execution_count": 159,
   "id": "38c57fc6",
   "metadata": {},
   "outputs": [
    {
     "data": {
      "text/html": [
       "<div>\n",
       "<style scoped>\n",
       "    .dataframe tbody tr th:only-of-type {\n",
       "        vertical-align: middle;\n",
       "    }\n",
       "\n",
       "    .dataframe tbody tr th {\n",
       "        vertical-align: top;\n",
       "    }\n",
       "\n",
       "    .dataframe thead th {\n",
       "        text-align: right;\n",
       "    }\n",
       "</style>\n",
       "<table border=\"1\" class=\"dataframe\">\n",
       "  <thead>\n",
       "    <tr style=\"text-align: right;\">\n",
       "      <th></th>\n",
       "      <th>FIPS</th>\n",
       "      <th>POVALL_2019</th>\n",
       "      <th>PCTPOVALL_2019</th>\n",
       "      <th>POV017_2019</th>\n",
       "      <th>PCTPOV017_2019</th>\n",
       "      <th>MEDHHINC_2019</th>\n",
       "      <th>State</th>\n",
       "      <th>Area name</th>\n",
       "      <th>2013 Rural-urban Continuum Code</th>\n",
       "      <th>2013 Urban Influence Code</th>\n",
       "      <th>...</th>\n",
       "      <th>Civilian_labor_force_2018</th>\n",
       "      <th>Unemployed_2018</th>\n",
       "      <th>Unemployment_rate_2018</th>\n",
       "      <th>Civilian_labor_force_2019</th>\n",
       "      <th>Unemployed_2019</th>\n",
       "      <th>Unemployment_rate_2019</th>\n",
       "      <th>Civilian_labor_force_2020</th>\n",
       "      <th>Unemployed_2020</th>\n",
       "      <th>Unemployment_rate_2020</th>\n",
       "      <th>Death Rate</th>\n",
       "    </tr>\n",
       "  </thead>\n",
       "  <tbody>\n",
       "    <tr>\n",
       "      <th>1</th>\n",
       "      <td>1001</td>\n",
       "      <td>6723</td>\n",
       "      <td>12.1</td>\n",
       "      <td>2040</td>\n",
       "      <td>15.9</td>\n",
       "      <td>58233</td>\n",
       "      <td>AL</td>\n",
       "      <td>Autauga County</td>\n",
       "      <td>2.0</td>\n",
       "      <td>2.0</td>\n",
       "      <td>...</td>\n",
       "      <td>26081</td>\n",
       "      <td>941</td>\n",
       "      <td>3.6</td>\n",
       "      <td>26281</td>\n",
       "      <td>720</td>\n",
       "      <td>2.7</td>\n",
       "      <td>25838</td>\n",
       "      <td>1262</td>\n",
       "      <td>4.9</td>\n",
       "      <td>161.4</td>\n",
       "    </tr>\n",
       "    <tr>\n",
       "      <th>2</th>\n",
       "      <td>1003</td>\n",
       "      <td>22360</td>\n",
       "      <td>10.1</td>\n",
       "      <td>6323</td>\n",
       "      <td>13.5</td>\n",
       "      <td>59871</td>\n",
       "      <td>AL</td>\n",
       "      <td>Baldwin County</td>\n",
       "      <td>3.0</td>\n",
       "      <td>2.0</td>\n",
       "      <td>...</td>\n",
       "      <td>94820</td>\n",
       "      <td>3445</td>\n",
       "      <td>3.6</td>\n",
       "      <td>97424</td>\n",
       "      <td>2711</td>\n",
       "      <td>2.8</td>\n",
       "      <td>96763</td>\n",
       "      <td>5425</td>\n",
       "      <td>5.6</td>\n",
       "      <td>158.2</td>\n",
       "    </tr>\n",
       "    <tr>\n",
       "      <th>3</th>\n",
       "      <td>1005</td>\n",
       "      <td>5909</td>\n",
       "      <td>27.1</td>\n",
       "      <td>2050</td>\n",
       "      <td>41.0</td>\n",
       "      <td>35972</td>\n",
       "      <td>AL</td>\n",
       "      <td>Barbour County</td>\n",
       "      <td>6.0</td>\n",
       "      <td>6.0</td>\n",
       "      <td>...</td>\n",
       "      <td>8379</td>\n",
       "      <td>430</td>\n",
       "      <td>5.1</td>\n",
       "      <td>8502</td>\n",
       "      <td>325</td>\n",
       "      <td>3.8</td>\n",
       "      <td>8587</td>\n",
       "      <td>605</td>\n",
       "      <td>7.0</td>\n",
       "      <td>182.7</td>\n",
       "    </tr>\n",
       "    <tr>\n",
       "      <th>4</th>\n",
       "      <td>1007</td>\n",
       "      <td>4101</td>\n",
       "      <td>20.3</td>\n",
       "      <td>1147</td>\n",
       "      <td>25.9</td>\n",
       "      <td>47918</td>\n",
       "      <td>AL</td>\n",
       "      <td>Bibb County</td>\n",
       "      <td>1.0</td>\n",
       "      <td>1.0</td>\n",
       "      <td>...</td>\n",
       "      <td>8569</td>\n",
       "      <td>340</td>\n",
       "      <td>4.0</td>\n",
       "      <td>8639</td>\n",
       "      <td>268</td>\n",
       "      <td>3.1</td>\n",
       "      <td>8640</td>\n",
       "      <td>573</td>\n",
       "      <td>6.6</td>\n",
       "      <td>183.1</td>\n",
       "    </tr>\n",
       "    <tr>\n",
       "      <th>5</th>\n",
       "      <td>1009</td>\n",
       "      <td>9324</td>\n",
       "      <td>16.3</td>\n",
       "      <td>2750</td>\n",
       "      <td>21.0</td>\n",
       "      <td>52902</td>\n",
       "      <td>AL</td>\n",
       "      <td>Blount County</td>\n",
       "      <td>1.0</td>\n",
       "      <td>1.0</td>\n",
       "      <td>...</td>\n",
       "      <td>24960</td>\n",
       "      <td>874</td>\n",
       "      <td>3.5</td>\n",
       "      <td>25196</td>\n",
       "      <td>680</td>\n",
       "      <td>2.7</td>\n",
       "      <td>24661</td>\n",
       "      <td>1008</td>\n",
       "      <td>4.1</td>\n",
       "      <td>182.2</td>\n",
       "    </tr>\n",
       "    <tr>\n",
       "      <th>...</th>\n",
       "      <td>...</td>\n",
       "      <td>...</td>\n",
       "      <td>...</td>\n",
       "      <td>...</td>\n",
       "      <td>...</td>\n",
       "      <td>...</td>\n",
       "      <td>...</td>\n",
       "      <td>...</td>\n",
       "      <td>...</td>\n",
       "      <td>...</td>\n",
       "      <td>...</td>\n",
       "      <td>...</td>\n",
       "      <td>...</td>\n",
       "      <td>...</td>\n",
       "      <td>...</td>\n",
       "      <td>...</td>\n",
       "      <td>...</td>\n",
       "      <td>...</td>\n",
       "      <td>...</td>\n",
       "      <td>...</td>\n",
       "      <td>...</td>\n",
       "    </tr>\n",
       "    <tr>\n",
       "      <th>3129</th>\n",
       "      <td>56037</td>\n",
       "      <td>3453</td>\n",
       "      <td>8.3</td>\n",
       "      <td>1075</td>\n",
       "      <td>10.1</td>\n",
       "      <td>80639</td>\n",
       "      <td>WY</td>\n",
       "      <td>Sweetwater County</td>\n",
       "      <td>5.0</td>\n",
       "      <td>8.0</td>\n",
       "      <td>...</td>\n",
       "      <td>21539</td>\n",
       "      <td>904</td>\n",
       "      <td>4.2</td>\n",
       "      <td>21424</td>\n",
       "      <td>856</td>\n",
       "      <td>4.0</td>\n",
       "      <td>20840</td>\n",
       "      <td>1532</td>\n",
       "      <td>7.4</td>\n",
       "      <td>162.9</td>\n",
       "    </tr>\n",
       "    <tr>\n",
       "      <th>3130</th>\n",
       "      <td>56039</td>\n",
       "      <td>1396</td>\n",
       "      <td>6.0</td>\n",
       "      <td>236</td>\n",
       "      <td>5.7</td>\n",
       "      <td>98837</td>\n",
       "      <td>WY</td>\n",
       "      <td>Teton County</td>\n",
       "      <td>7.0</td>\n",
       "      <td>8.0</td>\n",
       "      <td>...</td>\n",
       "      <td>15579</td>\n",
       "      <td>468</td>\n",
       "      <td>3.0</td>\n",
       "      <td>15970</td>\n",
       "      <td>449</td>\n",
       "      <td>2.8</td>\n",
       "      <td>15204</td>\n",
       "      <td>912</td>\n",
       "      <td>6.0</td>\n",
       "      <td>91</td>\n",
       "    </tr>\n",
       "    <tr>\n",
       "      <th>3131</th>\n",
       "      <td>56041</td>\n",
       "      <td>1699</td>\n",
       "      <td>8.5</td>\n",
       "      <td>541</td>\n",
       "      <td>9.6</td>\n",
       "      <td>70756</td>\n",
       "      <td>WY</td>\n",
       "      <td>Uinta County</td>\n",
       "      <td>7.0</td>\n",
       "      <td>8.0</td>\n",
       "      <td>...</td>\n",
       "      <td>9136</td>\n",
       "      <td>397</td>\n",
       "      <td>4.3</td>\n",
       "      <td>9280</td>\n",
       "      <td>368</td>\n",
       "      <td>4.0</td>\n",
       "      <td>9312</td>\n",
       "      <td>582</td>\n",
       "      <td>6.3</td>\n",
       "      <td>142.3</td>\n",
       "    </tr>\n",
       "    <tr>\n",
       "      <th>3132</th>\n",
       "      <td>56043</td>\n",
       "      <td>845</td>\n",
       "      <td>11.1</td>\n",
       "      <td>237</td>\n",
       "      <td>13.9</td>\n",
       "      <td>55122</td>\n",
       "      <td>WY</td>\n",
       "      <td>Washakie County</td>\n",
       "      <td>7.0</td>\n",
       "      <td>11.0</td>\n",
       "      <td>...</td>\n",
       "      <td>4106</td>\n",
       "      <td>174</td>\n",
       "      <td>4.2</td>\n",
       "      <td>3904</td>\n",
       "      <td>162</td>\n",
       "      <td>4.1</td>\n",
       "      <td>4004</td>\n",
       "      <td>211</td>\n",
       "      <td>5.3</td>\n",
       "      <td>144.4</td>\n",
       "    </tr>\n",
       "    <tr>\n",
       "      <th>3133</th>\n",
       "      <td>56045</td>\n",
       "      <td>692</td>\n",
       "      <td>10.5</td>\n",
       "      <td>189</td>\n",
       "      <td>13.8</td>\n",
       "      <td>59410</td>\n",
       "      <td>WY</td>\n",
       "      <td>Weston County</td>\n",
       "      <td>7.0</td>\n",
       "      <td>9.0</td>\n",
       "      <td>...</td>\n",
       "      <td>3810</td>\n",
       "      <td>132</td>\n",
       "      <td>3.5</td>\n",
       "      <td>3819</td>\n",
       "      <td>115</td>\n",
       "      <td>3.0</td>\n",
       "      <td>3836</td>\n",
       "      <td>148</td>\n",
       "      <td>3.9</td>\n",
       "      <td>150.2</td>\n",
       "    </tr>\n",
       "  </tbody>\n",
       "</table>\n",
       "<p>3122 rows × 49 columns</p>\n",
       "</div>"
      ],
      "text/plain": [
       "       FIPS POVALL_2019  PCTPOVALL_2019 POV017_2019  PCTPOV017_2019  \\\n",
       "1      1001        6723            12.1        2040            15.9   \n",
       "2      1003       22360            10.1        6323            13.5   \n",
       "3      1005        5909            27.1        2050            41.0   \n",
       "4      1007        4101            20.3        1147            25.9   \n",
       "5      1009        9324            16.3        2750            21.0   \n",
       "...     ...         ...             ...         ...             ...   \n",
       "3129  56037        3453             8.3        1075            10.1   \n",
       "3130  56039        1396             6.0         236             5.7   \n",
       "3131  56041        1699             8.5         541             9.6   \n",
       "3132  56043         845            11.1         237            13.9   \n",
       "3133  56045         692            10.5         189            13.8   \n",
       "\n",
       "     MEDHHINC_2019 State          Area name  2013 Rural-urban Continuum Code  \\\n",
       "1            58233    AL     Autauga County                              2.0   \n",
       "2            59871    AL     Baldwin County                              3.0   \n",
       "3            35972    AL     Barbour County                              6.0   \n",
       "4            47918    AL        Bibb County                              1.0   \n",
       "5            52902    AL      Blount County                              1.0   \n",
       "...            ...   ...                ...                              ...   \n",
       "3129         80639    WY  Sweetwater County                              5.0   \n",
       "3130         98837    WY       Teton County                              7.0   \n",
       "3131         70756    WY       Uinta County                              7.0   \n",
       "3132         55122    WY    Washakie County                              7.0   \n",
       "3133         59410    WY      Weston County                              7.0   \n",
       "\n",
       "      2013 Urban Influence Code  ...  Civilian_labor_force_2018  \\\n",
       "1                           2.0  ...                      26081   \n",
       "2                           2.0  ...                      94820   \n",
       "3                           6.0  ...                       8379   \n",
       "4                           1.0  ...                       8569   \n",
       "5                           1.0  ...                      24960   \n",
       "...                         ...  ...                        ...   \n",
       "3129                        8.0  ...                      21539   \n",
       "3130                        8.0  ...                      15579   \n",
       "3131                        8.0  ...                       9136   \n",
       "3132                       11.0  ...                       4106   \n",
       "3133                        9.0  ...                       3810   \n",
       "\n",
       "      Unemployed_2018  Unemployment_rate_2018  Civilian_labor_force_2019  \\\n",
       "1                 941                     3.6                      26281   \n",
       "2                3445                     3.6                      97424   \n",
       "3                 430                     5.1                       8502   \n",
       "4                 340                     4.0                       8639   \n",
       "5                 874                     3.5                      25196   \n",
       "...               ...                     ...                        ...   \n",
       "3129              904                     4.2                      21424   \n",
       "3130              468                     3.0                      15970   \n",
       "3131              397                     4.3                       9280   \n",
       "3132              174                     4.2                       3904   \n",
       "3133              132                     3.5                       3819   \n",
       "\n",
       "      Unemployed_2019  Unemployment_rate_2019  Civilian_labor_force_2020  \\\n",
       "1                 720                     2.7                      25838   \n",
       "2                2711                     2.8                      96763   \n",
       "3                 325                     3.8                       8587   \n",
       "4                 268                     3.1                       8640   \n",
       "5                 680                     2.7                      24661   \n",
       "...               ...                     ...                        ...   \n",
       "3129              856                     4.0                      20840   \n",
       "3130              449                     2.8                      15204   \n",
       "3131              368                     4.0                       9312   \n",
       "3132              162                     4.1                       4004   \n",
       "3133              115                     3.0                       3836   \n",
       "\n",
       "      Unemployed_2020  Unemployment_rate_2020  Death Rate  \n",
       "1                1262                     4.9       161.4  \n",
       "2                5425                     5.6       158.2  \n",
       "3                 605                     7.0       182.7  \n",
       "4                 573                     6.6       183.1  \n",
       "5                1008                     4.1       182.2  \n",
       "...               ...                     ...         ...  \n",
       "3129             1532                     7.4       162.9  \n",
       "3130              912                     6.0          91  \n",
       "3131              582                     6.3       142.3  \n",
       "3132              211                     5.3       144.4  \n",
       "3133              148                     3.9       150.2  \n",
       "\n",
       "[3122 rows x 49 columns]"
      ]
     },
     "execution_count": 159,
     "metadata": {},
     "output_type": "execute_result"
    }
   ],
   "source": [
    "all_data.replace(',','', regex=True, inplace=True)\n",
    "all_data"
   ]
  },
  {
   "cell_type": "code",
   "execution_count": 160,
   "id": "e5be1686",
   "metadata": {},
   "outputs": [],
   "source": [
    "all_data = all_data[all_data['Death Rate'] != '* ']"
   ]
  },
  {
   "cell_type": "code",
   "execution_count": 161,
   "id": "6fef804a",
   "metadata": {},
   "outputs": [],
   "source": [
    "X = all_data.drop(columns=['Death Rate', 'State', 'Area name'])\n",
    "y = all_data['Death Rate']"
   ]
  },
  {
   "cell_type": "code",
   "execution_count": 162,
   "id": "0775ac2b",
   "metadata": {},
   "outputs": [
    {
     "data": {
      "text/plain": [
       "array([165.3 , 182.7 , 186.78, 192.4 ])"
      ]
     },
     "execution_count": 162,
     "metadata": {},
     "output_type": "execute_result"
    }
   ],
   "source": [
    "y = y.astype(float)\n",
    "np.percentile(y, [50,75,80,85])"
   ]
  },
  {
   "cell_type": "code",
   "execution_count": 163,
   "id": "c290d453",
   "metadata": {
    "scrolled": true
   },
   "outputs": [
    {
     "data": {
      "text/html": [
       "<div>\n",
       "<style scoped>\n",
       "    .dataframe tbody tr th:only-of-type {\n",
       "        vertical-align: middle;\n",
       "    }\n",
       "\n",
       "    .dataframe tbody tr th {\n",
       "        vertical-align: top;\n",
       "    }\n",
       "\n",
       "    .dataframe thead th {\n",
       "        text-align: right;\n",
       "    }\n",
       "</style>\n",
       "<table border=\"1\" class=\"dataframe\">\n",
       "  <thead>\n",
       "    <tr style=\"text-align: right;\">\n",
       "      <th></th>\n",
       "      <th>AK</th>\n",
       "      <th>AL</th>\n",
       "      <th>AR</th>\n",
       "      <th>AZ</th>\n",
       "      <th>CA</th>\n",
       "      <th>CO</th>\n",
       "      <th>CT</th>\n",
       "      <th>DC</th>\n",
       "      <th>DE</th>\n",
       "      <th>FL</th>\n",
       "      <th>...</th>\n",
       "      <th>SD</th>\n",
       "      <th>TN</th>\n",
       "      <th>TX</th>\n",
       "      <th>UT</th>\n",
       "      <th>VA</th>\n",
       "      <th>VT</th>\n",
       "      <th>WA</th>\n",
       "      <th>WI</th>\n",
       "      <th>WV</th>\n",
       "      <th>WY</th>\n",
       "    </tr>\n",
       "  </thead>\n",
       "  <tbody>\n",
       "    <tr>\n",
       "      <th>1</th>\n",
       "      <td>0</td>\n",
       "      <td>1</td>\n",
       "      <td>0</td>\n",
       "      <td>0</td>\n",
       "      <td>0</td>\n",
       "      <td>0</td>\n",
       "      <td>0</td>\n",
       "      <td>0</td>\n",
       "      <td>0</td>\n",
       "      <td>0</td>\n",
       "      <td>...</td>\n",
       "      <td>0</td>\n",
       "      <td>0</td>\n",
       "      <td>0</td>\n",
       "      <td>0</td>\n",
       "      <td>0</td>\n",
       "      <td>0</td>\n",
       "      <td>0</td>\n",
       "      <td>0</td>\n",
       "      <td>0</td>\n",
       "      <td>0</td>\n",
       "    </tr>\n",
       "    <tr>\n",
       "      <th>2</th>\n",
       "      <td>0</td>\n",
       "      <td>1</td>\n",
       "      <td>0</td>\n",
       "      <td>0</td>\n",
       "      <td>0</td>\n",
       "      <td>0</td>\n",
       "      <td>0</td>\n",
       "      <td>0</td>\n",
       "      <td>0</td>\n",
       "      <td>0</td>\n",
       "      <td>...</td>\n",
       "      <td>0</td>\n",
       "      <td>0</td>\n",
       "      <td>0</td>\n",
       "      <td>0</td>\n",
       "      <td>0</td>\n",
       "      <td>0</td>\n",
       "      <td>0</td>\n",
       "      <td>0</td>\n",
       "      <td>0</td>\n",
       "      <td>0</td>\n",
       "    </tr>\n",
       "    <tr>\n",
       "      <th>3</th>\n",
       "      <td>0</td>\n",
       "      <td>1</td>\n",
       "      <td>0</td>\n",
       "      <td>0</td>\n",
       "      <td>0</td>\n",
       "      <td>0</td>\n",
       "      <td>0</td>\n",
       "      <td>0</td>\n",
       "      <td>0</td>\n",
       "      <td>0</td>\n",
       "      <td>...</td>\n",
       "      <td>0</td>\n",
       "      <td>0</td>\n",
       "      <td>0</td>\n",
       "      <td>0</td>\n",
       "      <td>0</td>\n",
       "      <td>0</td>\n",
       "      <td>0</td>\n",
       "      <td>0</td>\n",
       "      <td>0</td>\n",
       "      <td>0</td>\n",
       "    </tr>\n",
       "    <tr>\n",
       "      <th>4</th>\n",
       "      <td>0</td>\n",
       "      <td>1</td>\n",
       "      <td>0</td>\n",
       "      <td>0</td>\n",
       "      <td>0</td>\n",
       "      <td>0</td>\n",
       "      <td>0</td>\n",
       "      <td>0</td>\n",
       "      <td>0</td>\n",
       "      <td>0</td>\n",
       "      <td>...</td>\n",
       "      <td>0</td>\n",
       "      <td>0</td>\n",
       "      <td>0</td>\n",
       "      <td>0</td>\n",
       "      <td>0</td>\n",
       "      <td>0</td>\n",
       "      <td>0</td>\n",
       "      <td>0</td>\n",
       "      <td>0</td>\n",
       "      <td>0</td>\n",
       "    </tr>\n",
       "    <tr>\n",
       "      <th>5</th>\n",
       "      <td>0</td>\n",
       "      <td>1</td>\n",
       "      <td>0</td>\n",
       "      <td>0</td>\n",
       "      <td>0</td>\n",
       "      <td>0</td>\n",
       "      <td>0</td>\n",
       "      <td>0</td>\n",
       "      <td>0</td>\n",
       "      <td>0</td>\n",
       "      <td>...</td>\n",
       "      <td>0</td>\n",
       "      <td>0</td>\n",
       "      <td>0</td>\n",
       "      <td>0</td>\n",
       "      <td>0</td>\n",
       "      <td>0</td>\n",
       "      <td>0</td>\n",
       "      <td>0</td>\n",
       "      <td>0</td>\n",
       "      <td>0</td>\n",
       "    </tr>\n",
       "  </tbody>\n",
       "</table>\n",
       "<p>5 rows × 51 columns</p>\n",
       "</div>"
      ],
      "text/plain": [
       "   AK  AL  AR  AZ  CA  CO  CT  DC  DE  FL  ...  SD  TN  TX  UT  VA  VT  WA  \\\n",
       "1   0   1   0   0   0   0   0   0   0   0  ...   0   0   0   0   0   0   0   \n",
       "2   0   1   0   0   0   0   0   0   0   0  ...   0   0   0   0   0   0   0   \n",
       "3   0   1   0   0   0   0   0   0   0   0  ...   0   0   0   0   0   0   0   \n",
       "4   0   1   0   0   0   0   0   0   0   0  ...   0   0   0   0   0   0   0   \n",
       "5   0   1   0   0   0   0   0   0   0   0  ...   0   0   0   0   0   0   0   \n",
       "\n",
       "   WI  WV  WY  \n",
       "1   0   0   0  \n",
       "2   0   0   0  \n",
       "3   0   0   0  \n",
       "4   0   0   0  \n",
       "5   0   0   0  \n",
       "\n",
       "[5 rows x 51 columns]"
      ]
     },
     "execution_count": 163,
     "metadata": {},
     "output_type": "execute_result"
    }
   ],
   "source": [
    "dummies = pd.get_dummies(all_data['State'])\n",
    "dummies.shape\n",
    "dummies.head()"
   ]
  },
  {
   "cell_type": "code",
   "execution_count": 164,
   "id": "881e24b5",
   "metadata": {},
   "outputs": [],
   "source": [
    "dummies = dummies.drop(columns=['UT'])"
   ]
  },
  {
   "cell_type": "code",
   "execution_count": 165,
   "id": "ca809342",
   "metadata": {},
   "outputs": [
    {
     "data": {
      "text/html": [
       "<div>\n",
       "<style scoped>\n",
       "    .dataframe tbody tr th:only-of-type {\n",
       "        vertical-align: middle;\n",
       "    }\n",
       "\n",
       "    .dataframe tbody tr th {\n",
       "        vertical-align: top;\n",
       "    }\n",
       "\n",
       "    .dataframe thead th {\n",
       "        text-align: right;\n",
       "    }\n",
       "</style>\n",
       "<table border=\"1\" class=\"dataframe\">\n",
       "  <thead>\n",
       "    <tr style=\"text-align: right;\">\n",
       "      <th></th>\n",
       "      <th>FIPS</th>\n",
       "      <th>POVALL_2019</th>\n",
       "      <th>PCTPOVALL_2019</th>\n",
       "      <th>POV017_2019</th>\n",
       "      <th>PCTPOV017_2019</th>\n",
       "      <th>MEDHHINC_2019</th>\n",
       "      <th>State</th>\n",
       "      <th>Area name</th>\n",
       "      <th>2013 Rural-urban Continuum Code</th>\n",
       "      <th>2013 Urban Influence Code</th>\n",
       "      <th>...</th>\n",
       "      <th>Civilian_labor_force_2018</th>\n",
       "      <th>Unemployed_2018</th>\n",
       "      <th>Unemployment_rate_2018</th>\n",
       "      <th>Civilian_labor_force_2019</th>\n",
       "      <th>Unemployed_2019</th>\n",
       "      <th>Unemployment_rate_2019</th>\n",
       "      <th>Civilian_labor_force_2020</th>\n",
       "      <th>Unemployed_2020</th>\n",
       "      <th>Unemployment_rate_2020</th>\n",
       "      <th>Death Rate</th>\n",
       "    </tr>\n",
       "  </thead>\n",
       "  <tbody>\n",
       "    <tr>\n",
       "      <th>1</th>\n",
       "      <td>1001</td>\n",
       "      <td>6723</td>\n",
       "      <td>12.1</td>\n",
       "      <td>2040</td>\n",
       "      <td>15.9</td>\n",
       "      <td>58233</td>\n",
       "      <td>AL</td>\n",
       "      <td>Autauga County</td>\n",
       "      <td>2.0</td>\n",
       "      <td>2.0</td>\n",
       "      <td>...</td>\n",
       "      <td>26081</td>\n",
       "      <td>941</td>\n",
       "      <td>3.6</td>\n",
       "      <td>26281</td>\n",
       "      <td>720</td>\n",
       "      <td>2.7</td>\n",
       "      <td>25838</td>\n",
       "      <td>1262</td>\n",
       "      <td>4.9</td>\n",
       "      <td>161.4</td>\n",
       "    </tr>\n",
       "    <tr>\n",
       "      <th>2</th>\n",
       "      <td>1003</td>\n",
       "      <td>22360</td>\n",
       "      <td>10.1</td>\n",
       "      <td>6323</td>\n",
       "      <td>13.5</td>\n",
       "      <td>59871</td>\n",
       "      <td>AL</td>\n",
       "      <td>Baldwin County</td>\n",
       "      <td>3.0</td>\n",
       "      <td>2.0</td>\n",
       "      <td>...</td>\n",
       "      <td>94820</td>\n",
       "      <td>3445</td>\n",
       "      <td>3.6</td>\n",
       "      <td>97424</td>\n",
       "      <td>2711</td>\n",
       "      <td>2.8</td>\n",
       "      <td>96763</td>\n",
       "      <td>5425</td>\n",
       "      <td>5.6</td>\n",
       "      <td>158.2</td>\n",
       "    </tr>\n",
       "    <tr>\n",
       "      <th>3</th>\n",
       "      <td>1005</td>\n",
       "      <td>5909</td>\n",
       "      <td>27.1</td>\n",
       "      <td>2050</td>\n",
       "      <td>41.0</td>\n",
       "      <td>35972</td>\n",
       "      <td>AL</td>\n",
       "      <td>Barbour County</td>\n",
       "      <td>6.0</td>\n",
       "      <td>6.0</td>\n",
       "      <td>...</td>\n",
       "      <td>8379</td>\n",
       "      <td>430</td>\n",
       "      <td>5.1</td>\n",
       "      <td>8502</td>\n",
       "      <td>325</td>\n",
       "      <td>3.8</td>\n",
       "      <td>8587</td>\n",
       "      <td>605</td>\n",
       "      <td>7.0</td>\n",
       "      <td>182.7</td>\n",
       "    </tr>\n",
       "    <tr>\n",
       "      <th>4</th>\n",
       "      <td>1007</td>\n",
       "      <td>4101</td>\n",
       "      <td>20.3</td>\n",
       "      <td>1147</td>\n",
       "      <td>25.9</td>\n",
       "      <td>47918</td>\n",
       "      <td>AL</td>\n",
       "      <td>Bibb County</td>\n",
       "      <td>1.0</td>\n",
       "      <td>1.0</td>\n",
       "      <td>...</td>\n",
       "      <td>8569</td>\n",
       "      <td>340</td>\n",
       "      <td>4.0</td>\n",
       "      <td>8639</td>\n",
       "      <td>268</td>\n",
       "      <td>3.1</td>\n",
       "      <td>8640</td>\n",
       "      <td>573</td>\n",
       "      <td>6.6</td>\n",
       "      <td>183.1</td>\n",
       "    </tr>\n",
       "    <tr>\n",
       "      <th>5</th>\n",
       "      <td>1009</td>\n",
       "      <td>9324</td>\n",
       "      <td>16.3</td>\n",
       "      <td>2750</td>\n",
       "      <td>21.0</td>\n",
       "      <td>52902</td>\n",
       "      <td>AL</td>\n",
       "      <td>Blount County</td>\n",
       "      <td>1.0</td>\n",
       "      <td>1.0</td>\n",
       "      <td>...</td>\n",
       "      <td>24960</td>\n",
       "      <td>874</td>\n",
       "      <td>3.5</td>\n",
       "      <td>25196</td>\n",
       "      <td>680</td>\n",
       "      <td>2.7</td>\n",
       "      <td>24661</td>\n",
       "      <td>1008</td>\n",
       "      <td>4.1</td>\n",
       "      <td>182.2</td>\n",
       "    </tr>\n",
       "  </tbody>\n",
       "</table>\n",
       "<p>5 rows × 49 columns</p>\n",
       "</div>"
      ],
      "text/plain": [
       "   FIPS POVALL_2019  PCTPOVALL_2019 POV017_2019  PCTPOV017_2019 MEDHHINC_2019  \\\n",
       "1  1001        6723            12.1        2040            15.9         58233   \n",
       "2  1003       22360            10.1        6323            13.5         59871   \n",
       "3  1005        5909            27.1        2050            41.0         35972   \n",
       "4  1007        4101            20.3        1147            25.9         47918   \n",
       "5  1009        9324            16.3        2750            21.0         52902   \n",
       "\n",
       "  State       Area name  2013 Rural-urban Continuum Code  \\\n",
       "1    AL  Autauga County                              2.0   \n",
       "2    AL  Baldwin County                              3.0   \n",
       "3    AL  Barbour County                              6.0   \n",
       "4    AL     Bibb County                              1.0   \n",
       "5    AL   Blount County                              1.0   \n",
       "\n",
       "   2013 Urban Influence Code  ...  Civilian_labor_force_2018  Unemployed_2018  \\\n",
       "1                        2.0  ...                      26081              941   \n",
       "2                        2.0  ...                      94820             3445   \n",
       "3                        6.0  ...                       8379              430   \n",
       "4                        1.0  ...                       8569              340   \n",
       "5                        1.0  ...                      24960              874   \n",
       "\n",
       "   Unemployment_rate_2018  Civilian_labor_force_2019  Unemployed_2019  \\\n",
       "1                     3.6                      26281              720   \n",
       "2                     3.6                      97424             2711   \n",
       "3                     5.1                       8502              325   \n",
       "4                     4.0                       8639              268   \n",
       "5                     3.5                      25196              680   \n",
       "\n",
       "   Unemployment_rate_2019  Civilian_labor_force_2020  Unemployed_2020  \\\n",
       "1                     2.7                      25838             1262   \n",
       "2                     2.8                      96763             5425   \n",
       "3                     3.8                       8587              605   \n",
       "4                     3.1                       8640              573   \n",
       "5                     2.7                      24661             1008   \n",
       "\n",
       "   Unemployment_rate_2020  Death Rate  \n",
       "1                     4.9       161.4  \n",
       "2                     5.6       158.2  \n",
       "3                     7.0       182.7  \n",
       "4                     6.6       183.1  \n",
       "5                     4.1       182.2  \n",
       "\n",
       "[5 rows x 49 columns]"
      ]
     },
     "execution_count": 165,
     "metadata": {},
     "output_type": "execute_result"
    }
   ],
   "source": [
    "all_data.shape\n",
    "all_data.head()"
   ]
  },
  {
   "cell_type": "markdown",
   "id": "c44008da",
   "metadata": {
    "slideshow": {
     "slide_type": "slide"
    }
   },
   "source": [
    "Ok, since our dimensions are consistent, we can merge these tables. "
   ]
  },
  {
   "cell_type": "code",
   "execution_count": 166,
   "id": "54e90fcc",
   "metadata": {},
   "outputs": [],
   "source": [
    "X = pd.merge(X, dummies, right_index=True, left_index=True)"
   ]
  },
  {
   "cell_type": "code",
   "execution_count": 167,
   "id": "5d4edfc3",
   "metadata": {},
   "outputs": [
    {
     "data": {
      "text/html": [
       "<div>\n",
       "<style scoped>\n",
       "    .dataframe tbody tr th:only-of-type {\n",
       "        vertical-align: middle;\n",
       "    }\n",
       "\n",
       "    .dataframe tbody tr th {\n",
       "        vertical-align: top;\n",
       "    }\n",
       "\n",
       "    .dataframe thead th {\n",
       "        text-align: right;\n",
       "    }\n",
       "</style>\n",
       "<table border=\"1\" class=\"dataframe\">\n",
       "  <thead>\n",
       "    <tr style=\"text-align: right;\">\n",
       "      <th></th>\n",
       "      <th>FIPS</th>\n",
       "      <th>POVALL_2019</th>\n",
       "      <th>PCTPOVALL_2019</th>\n",
       "      <th>POV017_2019</th>\n",
       "      <th>PCTPOV017_2019</th>\n",
       "      <th>MEDHHINC_2019</th>\n",
       "      <th>2013 Rural-urban Continuum Code</th>\n",
       "      <th>2013 Urban Influence Code</th>\n",
       "      <th>Percent of adults with less than a high school diploma, 1970</th>\n",
       "      <th>Percent of adults with a high school diploma only, 1970</th>\n",
       "      <th>...</th>\n",
       "      <th>SC</th>\n",
       "      <th>SD</th>\n",
       "      <th>TN</th>\n",
       "      <th>TX</th>\n",
       "      <th>VA</th>\n",
       "      <th>VT</th>\n",
       "      <th>WA</th>\n",
       "      <th>WI</th>\n",
       "      <th>WV</th>\n",
       "      <th>WY</th>\n",
       "    </tr>\n",
       "  </thead>\n",
       "  <tbody>\n",
       "    <tr>\n",
       "      <th>1</th>\n",
       "      <td>1001</td>\n",
       "      <td>6723</td>\n",
       "      <td>12.1</td>\n",
       "      <td>2040</td>\n",
       "      <td>15.9</td>\n",
       "      <td>58233</td>\n",
       "      <td>2.0</td>\n",
       "      <td>2.0</td>\n",
       "      <td>54.8</td>\n",
       "      <td>31.1</td>\n",
       "      <td>...</td>\n",
       "      <td>0</td>\n",
       "      <td>0</td>\n",
       "      <td>0</td>\n",
       "      <td>0</td>\n",
       "      <td>0</td>\n",
       "      <td>0</td>\n",
       "      <td>0</td>\n",
       "      <td>0</td>\n",
       "      <td>0</td>\n",
       "      <td>0</td>\n",
       "    </tr>\n",
       "    <tr>\n",
       "      <th>2</th>\n",
       "      <td>1003</td>\n",
       "      <td>22360</td>\n",
       "      <td>10.1</td>\n",
       "      <td>6323</td>\n",
       "      <td>13.5</td>\n",
       "      <td>59871</td>\n",
       "      <td>3.0</td>\n",
       "      <td>2.0</td>\n",
       "      <td>59.4</td>\n",
       "      <td>26.7</td>\n",
       "      <td>...</td>\n",
       "      <td>0</td>\n",
       "      <td>0</td>\n",
       "      <td>0</td>\n",
       "      <td>0</td>\n",
       "      <td>0</td>\n",
       "      <td>0</td>\n",
       "      <td>0</td>\n",
       "      <td>0</td>\n",
       "      <td>0</td>\n",
       "      <td>0</td>\n",
       "    </tr>\n",
       "    <tr>\n",
       "      <th>3</th>\n",
       "      <td>1005</td>\n",
       "      <td>5909</td>\n",
       "      <td>27.1</td>\n",
       "      <td>2050</td>\n",
       "      <td>41.0</td>\n",
       "      <td>35972</td>\n",
       "      <td>6.0</td>\n",
       "      <td>6.0</td>\n",
       "      <td>68.8</td>\n",
       "      <td>19.0</td>\n",
       "      <td>...</td>\n",
       "      <td>0</td>\n",
       "      <td>0</td>\n",
       "      <td>0</td>\n",
       "      <td>0</td>\n",
       "      <td>0</td>\n",
       "      <td>0</td>\n",
       "      <td>0</td>\n",
       "      <td>0</td>\n",
       "      <td>0</td>\n",
       "      <td>0</td>\n",
       "    </tr>\n",
       "    <tr>\n",
       "      <th>4</th>\n",
       "      <td>1007</td>\n",
       "      <td>4101</td>\n",
       "      <td>20.3</td>\n",
       "      <td>1147</td>\n",
       "      <td>25.9</td>\n",
       "      <td>47918</td>\n",
       "      <td>1.0</td>\n",
       "      <td>1.0</td>\n",
       "      <td>73.1</td>\n",
       "      <td>19.4</td>\n",
       "      <td>...</td>\n",
       "      <td>0</td>\n",
       "      <td>0</td>\n",
       "      <td>0</td>\n",
       "      <td>0</td>\n",
       "      <td>0</td>\n",
       "      <td>0</td>\n",
       "      <td>0</td>\n",
       "      <td>0</td>\n",
       "      <td>0</td>\n",
       "      <td>0</td>\n",
       "    </tr>\n",
       "    <tr>\n",
       "      <th>5</th>\n",
       "      <td>1009</td>\n",
       "      <td>9324</td>\n",
       "      <td>16.3</td>\n",
       "      <td>2750</td>\n",
       "      <td>21.0</td>\n",
       "      <td>52902</td>\n",
       "      <td>1.0</td>\n",
       "      <td>1.0</td>\n",
       "      <td>70.5</td>\n",
       "      <td>22.7</td>\n",
       "      <td>...</td>\n",
       "      <td>0</td>\n",
       "      <td>0</td>\n",
       "      <td>0</td>\n",
       "      <td>0</td>\n",
       "      <td>0</td>\n",
       "      <td>0</td>\n",
       "      <td>0</td>\n",
       "      <td>0</td>\n",
       "      <td>0</td>\n",
       "      <td>0</td>\n",
       "    </tr>\n",
       "  </tbody>\n",
       "</table>\n",
       "<p>5 rows × 96 columns</p>\n",
       "</div>"
      ],
      "text/plain": [
       "   FIPS POVALL_2019  PCTPOVALL_2019 POV017_2019  PCTPOV017_2019 MEDHHINC_2019  \\\n",
       "1  1001        6723            12.1        2040            15.9         58233   \n",
       "2  1003       22360            10.1        6323            13.5         59871   \n",
       "3  1005        5909            27.1        2050            41.0         35972   \n",
       "4  1007        4101            20.3        1147            25.9         47918   \n",
       "5  1009        9324            16.3        2750            21.0         52902   \n",
       "\n",
       "   2013 Rural-urban Continuum Code  2013 Urban Influence Code  \\\n",
       "1                              2.0                        2.0   \n",
       "2                              3.0                        2.0   \n",
       "3                              6.0                        6.0   \n",
       "4                              1.0                        1.0   \n",
       "5                              1.0                        1.0   \n",
       "\n",
       "   Percent of adults with less than a high school diploma, 1970  \\\n",
       "1                                               54.8              \n",
       "2                                               59.4              \n",
       "3                                               68.8              \n",
       "4                                               73.1              \n",
       "5                                               70.5              \n",
       "\n",
       "   Percent of adults with a high school diploma only, 1970  ...  SC  SD  TN  \\\n",
       "1                                               31.1        ...   0   0   0   \n",
       "2                                               26.7        ...   0   0   0   \n",
       "3                                               19.0        ...   0   0   0   \n",
       "4                                               19.4        ...   0   0   0   \n",
       "5                                               22.7        ...   0   0   0   \n",
       "\n",
       "   TX  VA  VT  WA  WI  WV  WY  \n",
       "1   0   0   0   0   0   0   0  \n",
       "2   0   0   0   0   0   0   0  \n",
       "3   0   0   0   0   0   0   0  \n",
       "4   0   0   0   0   0   0   0  \n",
       "5   0   0   0   0   0   0   0  \n",
       "\n",
       "[5 rows x 96 columns]"
      ]
     },
     "execution_count": 167,
     "metadata": {},
     "output_type": "execute_result"
    }
   ],
   "source": [
    "X.shape\n",
    "X.head()"
   ]
  },
  {
   "cell_type": "markdown",
   "id": "866268fd",
   "metadata": {},
   "source": [
    "## Preparing the Train-Test Split Along Response Variable with Differing Percentile"
   ]
  },
  {
   "cell_type": "code",
   "execution_count": 168,
   "id": "7051f0f3",
   "metadata": {},
   "outputs": [
    {
     "data": {
      "text/plain": [
       "0.14973958333333334"
      ]
     },
     "execution_count": 168,
     "metadata": {},
     "output_type": "execute_result"
    }
   ],
   "source": [
    "np.count_nonzero(y > 192.4) / len(y)"
   ]
  },
  {
   "cell_type": "code",
   "execution_count": 169,
   "id": "73a57cd1",
   "metadata": {},
   "outputs": [
    {
     "data": {
      "text/plain": [
       "0.2001953125"
      ]
     },
     "execution_count": 169,
     "metadata": {},
     "output_type": "execute_result"
    }
   ],
   "source": [
    "np.count_nonzero(y > 186.78) / len(y)"
   ]
  },
  {
   "cell_type": "code",
   "execution_count": 170,
   "id": "8577da6d",
   "metadata": {},
   "outputs": [
    {
     "data": {
      "text/plain": [
       "0.24934895833333334"
      ]
     },
     "execution_count": 170,
     "metadata": {},
     "output_type": "execute_result"
    }
   ],
   "source": [
    "np.count_nonzero(y > 182.7) / len(y)"
   ]
  },
  {
   "cell_type": "code",
   "execution_count": 171,
   "id": "2afb5951",
   "metadata": {},
   "outputs": [],
   "source": [
    "X = X.astype(float)\n",
    "y85 = (y>192.4)*1"
   ]
  },
  {
   "cell_type": "code",
   "execution_count": 172,
   "id": "48c907bd",
   "metadata": {},
   "outputs": [],
   "source": [
    "y80 = (y>186.78)*1\n",
    "y75 = (y>182.7)"
   ]
  },
  {
   "cell_type": "code",
   "execution_count": 173,
   "id": "15c15831",
   "metadata": {},
   "outputs": [],
   "source": [
    "from sklearn.model_selection import train_test_split\n",
    "\n",
    "X_train, X_test, y_train85, y_test85 = train_test_split(X, y85, test_size=0.2, random_state=42)\n",
    "X_train, X_test, y_train80, y_test80 = train_test_split(X, y80, test_size=0.2, random_state=42)\n",
    "X_train, X_test, y_train75, y_test75 = train_test_split(X, y75, test_size=0.2, random_state=42)\n",
    "\n"
   ]
  },
  {
   "cell_type": "markdown",
   "id": "be002a8d",
   "metadata": {},
   "source": [
    "## Random Forests"
   ]
  },
  {
   "cell_type": "markdown",
   "id": "91790ae9",
   "metadata": {},
   "source": [
    "Try with 85th percentile."
   ]
  },
  {
   "cell_type": "code",
   "execution_count": 174,
   "id": "1ae3f302",
   "metadata": {},
   "outputs": [
    {
     "data": {
      "text/plain": [
       "RandomForestClassifier(max_features=8, min_samples_leaf=5, n_estimators=500,\n",
       "                       random_state=88)"
      ]
     },
     "execution_count": 174,
     "metadata": {},
     "output_type": "execute_result"
    }
   ],
   "source": [
    "from sklearn.ensemble import RandomForestClassifier\n",
    "from sklearn.metrics import confusion_matrix\n",
    "from sklearn.metrics import accuracy_score\n",
    "\n",
    "rf = RandomForestClassifier(max_features=8, min_samples_leaf=5, n_estimators=500, random_state=88)\n",
    "rf.fit(X_train, y_train85)"
   ]
  },
  {
   "cell_type": "code",
   "execution_count": 175,
   "id": "68b43d88",
   "metadata": {},
   "outputs": [
    {
     "name": "stdout",
     "output_type": "stream",
     "text": [
      "Confusion Matrix: \n",
      " [[510  10]\n",
      " [ 73  22]]\n",
      "\n",
      "Accuracy: 0.865040650406504\n"
     ]
    }
   ],
   "source": [
    "y_pred = rf.predict(X_test)\n",
    "cm = confusion_matrix(y_test85, y_pred)\n",
    "print (\"Confusion Matrix: \\n\", cm)\n",
    "print (\"\\nAccuracy:\", accuracy_score(y_test85, y_pred))"
   ]
  },
  {
   "cell_type": "markdown",
   "id": "3156cd68",
   "metadata": {},
   "source": [
    "Try with 80th percentile. "
   ]
  },
  {
   "cell_type": "code",
   "execution_count": 176,
   "id": "b492e0d3",
   "metadata": {},
   "outputs": [
    {
     "data": {
      "text/plain": [
       "RandomForestClassifier(max_features=8, min_samples_leaf=5, n_estimators=500,\n",
       "                       random_state=88)"
      ]
     },
     "execution_count": 176,
     "metadata": {},
     "output_type": "execute_result"
    }
   ],
   "source": [
    "rf = RandomForestClassifier(max_features=8, min_samples_leaf=5, n_estimators=500, random_state=88)\n",
    "rf.fit(X_train, y_train80)"
   ]
  },
  {
   "cell_type": "code",
   "execution_count": 177,
   "id": "6e8e9082",
   "metadata": {},
   "outputs": [
    {
     "name": "stdout",
     "output_type": "stream",
     "text": [
      "Confusion Matrix: \n",
      " [[474  16]\n",
      " [ 79  46]]\n",
      "\n",
      "Accuracy: 0.8455284552845529\n"
     ]
    }
   ],
   "source": [
    "y_pred = rf.predict(X_test)\n",
    "cm = confusion_matrix(y_test80, y_pred)\n",
    "print (\"Confusion Matrix: \\n\", cm)\n",
    "print (\"\\nAccuracy:\", accuracy_score(y_test80, y_pred))"
   ]
  },
  {
   "cell_type": "markdown",
   "id": "6c4bc01c",
   "metadata": {},
   "source": [
    "Try with 75th percentile."
   ]
  },
  {
   "cell_type": "code",
   "execution_count": 178,
   "id": "3056baa1",
   "metadata": {},
   "outputs": [
    {
     "data": {
      "text/plain": [
       "RandomForestClassifier(max_features=8, min_samples_leaf=5, n_estimators=500,\n",
       "                       random_state=88)"
      ]
     },
     "execution_count": 178,
     "metadata": {},
     "output_type": "execute_result"
    }
   ],
   "source": [
    "rf = RandomForestClassifier(max_features=8, min_samples_leaf=5, n_estimators=500, random_state=88)\n",
    "rf.fit(X_train, y_train75)"
   ]
  },
  {
   "cell_type": "code",
   "execution_count": 179,
   "id": "a465d784",
   "metadata": {},
   "outputs": [
    {
     "name": "stdout",
     "output_type": "stream",
     "text": [
      "Confusion Matrix: \n",
      " [[428  39]\n",
      " [ 86  62]]\n",
      "\n",
      "Accuracy: 0.7967479674796748\n"
     ]
    }
   ],
   "source": [
    "y_pred = rf.predict(X_test)\n",
    "cm = confusion_matrix(y_test75, y_pred)\n",
    "print (\"Confusion Matrix: \\n\", cm)\n",
    "print (\"\\nAccuracy:\", accuracy_score(y_test75, y_pred))"
   ]
  },
  {
   "cell_type": "markdown",
   "id": "98283f33",
   "metadata": {},
   "source": [
    "## Scikit-Learn Log"
   ]
  },
  {
   "cell_type": "code",
   "execution_count": 209,
   "id": "892644e6",
   "metadata": {},
   "outputs": [
    {
     "name": "stderr",
     "output_type": "stream",
     "text": [
      "/opt/conda/lib/python3.9/site-packages/sklearn/linear_model/_logistic.py:763: ConvergenceWarning: lbfgs failed to converge (status=1):\n",
      "STOP: TOTAL NO. of ITERATIONS REACHED LIMIT.\n",
      "\n",
      "Increase the number of iterations (max_iter) or scale the data as shown in:\n",
      "    https://scikit-learn.org/stable/modules/preprocessing.html\n",
      "Please also refer to the documentation for alternative solver options:\n",
      "    https://scikit-learn.org/stable/modules/linear_model.html#logistic-regression\n",
      "  n_iter_i = _check_optimize_result(\n"
     ]
    },
    {
     "data": {
      "text/plain": [
       "LogisticRegression(random_state=88)"
      ]
     },
     "execution_count": 209,
     "metadata": {},
     "output_type": "execute_result"
    }
   ],
   "source": [
    "from sklearn.linear_model import LogisticRegression\n",
    "\n",
    "logreg = LogisticRegression(random_state=88)\n",
    "logreg.fit(X_train, y_train85)"
   ]
  },
  {
   "cell_type": "code",
   "execution_count": 218,
   "id": "77ca77a0",
   "metadata": {},
   "outputs": [
    {
     "name": "stdout",
     "output_type": "stream",
     "text": [
      "Confusion Matrix: \n",
      " [[519   1]\n",
      " [ 93   2]]\n",
      "\n",
      "Accuracy: 0.8471544715447155\n"
     ]
    }
   ],
   "source": [
    "from sklearn.metrics import confusion_matrix\n",
    "from sklearn.metrics import accuracy_score\n",
    "\n",
    "y_prob = logreg.predict_proba(X_test)\n",
    "y_pred = pd.Series([1 if x > .5 else 0 for x in y_prob[:,1]], index=y_test85.index)\n",
    "\n",
    "cm = confusion_matrix(y_test85, y_pred)\n",
    "print (\"Confusion Matrix: \\n\", cm)\n",
    "print (\"\\nAccuracy:\", accuracy_score(y_test85, y_pred))\n"
   ]
  },
  {
   "cell_type": "code",
   "execution_count": 226,
   "id": "74eab8c8",
   "metadata": {},
   "outputs": [
    {
     "name": "stderr",
     "output_type": "stream",
     "text": [
      "/opt/conda/lib/python3.9/site-packages/sklearn/linear_model/_logistic.py:763: ConvergenceWarning: lbfgs failed to converge (status=1):\n",
      "STOP: TOTAL NO. of ITERATIONS REACHED LIMIT.\n",
      "\n",
      "Increase the number of iterations (max_iter) or scale the data as shown in:\n",
      "    https://scikit-learn.org/stable/modules/preprocessing.html\n",
      "Please also refer to the documentation for alternative solver options:\n",
      "    https://scikit-learn.org/stable/modules/linear_model.html#logistic-regression\n",
      "  n_iter_i = _check_optimize_result(\n"
     ]
    },
    {
     "data": {
      "text/plain": [
       "LogisticRegression(random_state=88)"
      ]
     },
     "execution_count": 226,
     "metadata": {},
     "output_type": "execute_result"
    }
   ],
   "source": [
    "logreg = LogisticRegression(random_state=88)\n",
    "logreg.fit(X_train, y_train80)"
   ]
  },
  {
   "cell_type": "code",
   "execution_count": 227,
   "id": "189c0913",
   "metadata": {},
   "outputs": [
    {
     "name": "stdout",
     "output_type": "stream",
     "text": [
      "Confusion Matrix: \n",
      " [[488   2]\n",
      " [121   4]]\n",
      "\n",
      "Accuracy: 0.8\n"
     ]
    }
   ],
   "source": [
    "from sklearn.metrics import confusion_matrix\n",
    "from sklearn.metrics import accuracy_score\n",
    "\n",
    "y_prob = logreg.predict_proba(X_test)\n",
    "y_pred = pd.Series([1 if x > .5 else 0 for x in y_prob[:,1]], index=y_test80.index)\n",
    "\n",
    "cm = confusion_matrix(y_test80, y_pred)\n",
    "print (\"Confusion Matrix: \\n\", cm)\n",
    "print (\"\\nAccuracy:\", accuracy_score(y_test80, y_pred))"
   ]
  },
  {
   "cell_type": "code",
   "execution_count": 228,
   "id": "841d2680",
   "metadata": {},
   "outputs": [
    {
     "name": "stderr",
     "output_type": "stream",
     "text": [
      "/opt/conda/lib/python3.9/site-packages/sklearn/linear_model/_logistic.py:763: ConvergenceWarning: lbfgs failed to converge (status=1):\n",
      "STOP: TOTAL NO. of ITERATIONS REACHED LIMIT.\n",
      "\n",
      "Increase the number of iterations (max_iter) or scale the data as shown in:\n",
      "    https://scikit-learn.org/stable/modules/preprocessing.html\n",
      "Please also refer to the documentation for alternative solver options:\n",
      "    https://scikit-learn.org/stable/modules/linear_model.html#logistic-regression\n",
      "  n_iter_i = _check_optimize_result(\n"
     ]
    },
    {
     "data": {
      "text/plain": [
       "LogisticRegression(random_state=88)"
      ]
     },
     "execution_count": 228,
     "metadata": {},
     "output_type": "execute_result"
    }
   ],
   "source": [
    "logreg = LogisticRegression(random_state=88)\n",
    "logreg.fit(X_train, y_train75)"
   ]
  },
  {
   "cell_type": "code",
   "execution_count": 229,
   "id": "2463b21d",
   "metadata": {},
   "outputs": [
    {
     "name": "stdout",
     "output_type": "stream",
     "text": [
      "Confusion Matrix: \n",
      " [[464   3]\n",
      " [145   3]]\n",
      "\n",
      "Accuracy: 0.759349593495935\n"
     ]
    }
   ],
   "source": [
    "y_prob = logreg.predict_proba(X_test)\n",
    "y_pred = pd.Series([1 if x > .5 else 0 for x in y_prob[:,1]], index=y_test75.index)\n",
    "\n",
    "cm = confusion_matrix(y_test75, y_pred)\n",
    "print (\"Confusion Matrix: \\n\", cm)\n",
    "print (\"\\nAccuracy:\", accuracy_score(y_test75, y_pred))"
   ]
  },
  {
   "cell_type": "markdown",
   "id": "819e0881",
   "metadata": {},
   "source": [
    "## Boosting"
   ]
  },
  {
   "cell_type": "code",
   "execution_count": 182,
   "id": "8c80d676",
   "metadata": {},
   "outputs": [
    {
     "data": {
      "text/plain": [
       "GradientBoostingClassifier(max_leaf_nodes=10, n_estimators=3300)"
      ]
     },
     "execution_count": 182,
     "metadata": {},
     "output_type": "execute_result"
    }
   ],
   "source": [
    "from sklearn.ensemble import GradientBoostingClassifier\n",
    "\n",
    "\n",
    "gbc = GradientBoostingClassifier(n_estimators=3300, max_leaf_nodes=10)\n",
    "gbc.fit(X_train, y_train85)\n"
   ]
  },
  {
   "cell_type": "code",
   "execution_count": 183,
   "id": "d7b75e11",
   "metadata": {},
   "outputs": [
    {
     "data": {
      "text/plain": [
       "0.8747967479674796"
      ]
     },
     "execution_count": 183,
     "metadata": {},
     "output_type": "execute_result"
    }
   ],
   "source": [
    "y_pred = gbc.predict(X_test)\n",
    "(y_test85 == y_pred).mean()"
   ]
  },
  {
   "cell_type": "code",
   "execution_count": 219,
   "id": "9dd549e6",
   "metadata": {},
   "outputs": [
    {
     "data": {
      "text/plain": [
       "GradientBoostingClassifier(max_leaf_nodes=10, n_estimators=3300)"
      ]
     },
     "execution_count": 219,
     "metadata": {},
     "output_type": "execute_result"
    }
   ],
   "source": [
    "gbc = GradientBoostingClassifier(n_estimators=3300, max_leaf_nodes=10)\n",
    "gbc.fit(X_train, y_train80)"
   ]
  },
  {
   "cell_type": "code",
   "execution_count": 220,
   "id": "aef0194c",
   "metadata": {},
   "outputs": [
    {
     "data": {
      "text/plain": [
       "0.8341463414634146"
      ]
     },
     "execution_count": 220,
     "metadata": {},
     "output_type": "execute_result"
    }
   ],
   "source": [
    "y_pred = gbc.predict(X_test)\n",
    "(y_test80 == y_pred).mean()"
   ]
  },
  {
   "cell_type": "code",
   "execution_count": null,
   "id": "1f4f325f",
   "metadata": {},
   "outputs": [],
   "source": [
    "gbc = GradientBoostingClassifier(n_estimators=3300, max_leaf_nodes=10)\n",
    "gbc.fit(X_train, y_train75)"
   ]
  },
  {
   "cell_type": "code",
   "execution_count": 221,
   "id": "6107a448",
   "metadata": {},
   "outputs": [
    {
     "data": {
      "text/plain": [
       "0.8097560975609757"
      ]
     },
     "execution_count": 221,
     "metadata": {},
     "output_type": "execute_result"
    }
   ],
   "source": [
    "y_pred = gbc.predict(X_test)\n",
    "(y_test75 == y_pred).mean()"
   ]
  },
  {
   "cell_type": "markdown",
   "id": "5a0df8f7",
   "metadata": {},
   "source": [
    "## LDA"
   ]
  },
  {
   "cell_type": "code",
   "execution_count": 184,
   "id": "5d7b3424",
   "metadata": {},
   "outputs": [
    {
     "data": {
      "text/plain": [
       "LinearDiscriminantAnalysis()"
      ]
     },
     "execution_count": 184,
     "metadata": {},
     "output_type": "execute_result"
    }
   ],
   "source": [
    "from sklearn.discriminant_analysis import LinearDiscriminantAnalysis\n",
    "\n",
    "lda = LinearDiscriminantAnalysis()\n",
    "lda.fit(X_train, y_train85)"
   ]
  },
  {
   "cell_type": "code",
   "execution_count": 185,
   "id": "96880f4d",
   "metadata": {},
   "outputs": [
    {
     "name": "stdout",
     "output_type": "stream",
     "text": [
      "Confusion Matrix: \n",
      " [[491  29]\n",
      " [ 56  39]]\n",
      "\n",
      "Accuracy: 0.8617886178861789\n"
     ]
    }
   ],
   "source": [
    "y_pred = lda.predict(X_test)\n",
    "cm = confusion_matrix(y_test85, y_pred)\n",
    "print (\"Confusion Matrix: \\n\", cm)\n",
    "print (\"\\nAccuracy:\", accuracy_score(y_test85, y_pred))"
   ]
  },
  {
   "cell_type": "code",
   "execution_count": 222,
   "id": "b74f416d",
   "metadata": {},
   "outputs": [
    {
     "data": {
      "text/plain": [
       "LinearDiscriminantAnalysis()"
      ]
     },
     "execution_count": 222,
     "metadata": {},
     "output_type": "execute_result"
    }
   ],
   "source": [
    "lda = LinearDiscriminantAnalysis()\n",
    "lda.fit(X_train, y_train80)"
   ]
  },
  {
   "cell_type": "code",
   "execution_count": 223,
   "id": "018b9c6e",
   "metadata": {},
   "outputs": [
    {
     "name": "stdout",
     "output_type": "stream",
     "text": [
      "Confusion Matrix: \n",
      " [[459  31]\n",
      " [ 69  56]]\n",
      "\n",
      "Accuracy: 0.8373983739837398\n"
     ]
    }
   ],
   "source": [
    "y_pred = lda.predict(X_test)\n",
    "cm = confusion_matrix(y_test80, y_pred)\n",
    "print (\"Confusion Matrix: \\n\", cm)\n",
    "print (\"\\nAccuracy:\", accuracy_score(y_test80, y_pred))"
   ]
  },
  {
   "cell_type": "code",
   "execution_count": 224,
   "id": "9ca5e725",
   "metadata": {},
   "outputs": [
    {
     "data": {
      "text/plain": [
       "LinearDiscriminantAnalysis()"
      ]
     },
     "execution_count": 224,
     "metadata": {},
     "output_type": "execute_result"
    }
   ],
   "source": [
    "lda = LinearDiscriminantAnalysis()\n",
    "lda.fit(X_train, y_train75)"
   ]
  },
  {
   "cell_type": "code",
   "execution_count": 225,
   "id": "3b7fac2d",
   "metadata": {},
   "outputs": [
    {
     "name": "stdout",
     "output_type": "stream",
     "text": [
      "Confusion Matrix: \n",
      " [[427  40]\n",
      " [ 78  70]]\n",
      "\n",
      "Accuracy: 0.808130081300813\n"
     ]
    }
   ],
   "source": [
    "y_pred = lda.predict(X_test)\n",
    "cm = confusion_matrix(y_test75, y_pred)\n",
    "print (\"Confusion Matrix: \\n\", cm)\n",
    "print (\"\\nAccuracy:\", accuracy_score(y_test75, y_pred))"
   ]
  },
  {
   "cell_type": "markdown",
   "id": "42fbb0c2",
   "metadata": {},
   "source": [
    "## CV Decision Tree"
   ]
  },
  {
   "cell_type": "code",
   "execution_count": 238,
   "id": "7bc84a38",
   "metadata": {},
   "outputs": [],
   "source": [
    "from sklearn.model_selection import GridSearchCV\n",
    "from sklearn.tree import DecisionTreeClassifier\n",
    "\n",
    "grid_values = {'ccp_alpha': np.linspace(0.001, 0.1, 10)}\n",
    "\n",
    "dtc = DecisionTreeClassifier(random_state=88)\n",
    "dtc_cv = GridSearchCV(dtc, param_grid=grid_values, cv=10).fit(X_train, y_train85)\n"
   ]
  },
  {
   "cell_type": "code",
   "execution_count": 239,
   "id": "cfca0695",
   "metadata": {},
   "outputs": [
    {
     "data": {
      "image/png": "[encoded data removed]",
      "text/plain": [
       "<Figure size 576x432 with 1 Axes>"
      ]
     },
     "metadata": {
      "needs_background": "light"
     },
     "output_type": "display_data"
    },
    {
     "name": "stdout",
     "output_type": "stream",
     "text": [
      "Best ccp_alpha {'ccp_alpha': 0.012}\n"
     ]
    }
   ],
   "source": [
    "ccp_alpha = dtc_cv.cv_results_['param_ccp_alpha'].data\n",
    "ACC_scores = dtc_cv.cv_results_['mean_test_score']\n",
    "\n",
    "plt.figure(figsize=(8, 6))\n",
    "plt.xlabel('ccp_alpha', fontsize=16)\n",
    "plt.ylabel('CV Accuracy', fontsize=16)\n",
    "plt.scatter(ccp_alpha, ACC_scores, s=3)\n",
    "plt.plot(ccp_alpha, ACC_scores, linewidth=3)\n",
    "plt.grid(True, which='both')\n",
    "\n",
    "plt.tight_layout()\n",
    "plt.show()\n",
    "\n",
    "print('Best ccp_alpha', dtc_cv.best_params_)"
   ]
  },
  {
   "cell_type": "code",
   "execution_count": 240,
   "id": "00d292a0",
   "metadata": {},
   "outputs": [
    {
     "name": "stdout",
     "output_type": "stream",
     "text": [
      "Confusion Matrix: \n",
      " [[520   0]\n",
      " [ 95   0]]\n",
      "\n",
      "Accuracy: 0.8455284552845529\n"
     ]
    }
   ],
   "source": [
    "y_pred = dtc_cv.predict(X_test)\n",
    "cm = confusion_matrix(y_test85, y_pred)\n",
    "print (\"Confusion Matrix: \\n\", cm)\n",
    "print (\"\\nAccuracy:\", accuracy_score(y_test85, y_pred))"
   ]
  },
  {
   "cell_type": "code",
   "execution_count": 242,
   "id": "a0a4fc68",
   "metadata": {},
   "outputs": [],
   "source": [
    "grid_values = {'ccp_alpha': np.linspace(0.001, 0.1, 10)}\n",
    "\n",
    "dtc = DecisionTreeClassifier(random_state=88)\n",
    "dtc_cv = GridSearchCV(dtc, param_grid=grid_values, cv=10).fit(X_train, y_train80)\n"
   ]
  },
  {
   "cell_type": "code",
   "execution_count": 243,
   "id": "50ba507d",
   "metadata": {},
   "outputs": [
    {
     "data": {
      "image/png": "[encoded data removed]",
      "text/plain": [
       "<Figure size 576x432 with 1 Axes>"
      ]
     },
     "metadata": {
      "needs_background": "light"
     },
     "output_type": "display_data"
    },
    {
     "name": "stdout",
     "output_type": "stream",
     "text": [
      "Best ccp_alpha {'ccp_alpha': 0.012}\n"
     ]
    }
   ],
   "source": [
    "ccp_alpha = dtc_cv.cv_results_['param_ccp_alpha'].data\n",
    "ACC_scores = dtc_cv.cv_results_['mean_test_score']\n",
    "\n",
    "plt.figure(figsize=(8, 6))\n",
    "plt.xlabel('ccp_alpha', fontsize=16)\n",
    "plt.ylabel('CV Accuracy', fontsize=16)\n",
    "plt.scatter(ccp_alpha, ACC_scores, s=3)\n",
    "plt.plot(ccp_alpha, ACC_scores, linewidth=3)\n",
    "plt.grid(True, which='both')\n",
    "\n",
    "plt.tight_layout()\n",
    "plt.show()\n",
    "\n",
    "print('Best ccp_alpha', dtc_cv.best_params_)"
   ]
  },
  {
   "cell_type": "code",
   "execution_count": 244,
   "id": "b1f9614d",
   "metadata": {},
   "outputs": [
    {
     "name": "stdout",
     "output_type": "stream",
     "text": [
      "Confusion Matrix: \n",
      " [[490   0]\n",
      " [125   0]]\n",
      "\n",
      "Accuracy: 0.7967479674796748\n"
     ]
    }
   ],
   "source": [
    "y_pred = dtc_cv.predict(X_test)\n",
    "cm = confusion_matrix(y_test80, y_pred)\n",
    "print (\"Confusion Matrix: \\n\", cm)\n",
    "print (\"\\nAccuracy:\", accuracy_score(y_test80, y_pred))"
   ]
  },
  {
   "cell_type": "code",
   "execution_count": 246,
   "id": "1ed09f27",
   "metadata": {},
   "outputs": [],
   "source": [
    "grid_values = {'ccp_alpha': np.linspace(0.001, 0.1, 10)}\n",
    "\n",
    "dtc = DecisionTreeClassifier(random_state=88)\n",
    "dtc_cv = GridSearchCV(dtc, param_grid=grid_values, cv=10).fit(X_train, y_train75)\n"
   ]
  },
  {
   "cell_type": "code",
   "execution_count": 247,
   "id": "62c19909",
   "metadata": {},
   "outputs": [
    {
     "data": {
      "image/png": "[encoded data removed]",
      "text/plain": [
       "<Figure size 576x432 with 1 Axes>"
      ]
     },
     "metadata": {
      "needs_background": "light"
     },
     "output_type": "display_data"
    },
    {
     "name": "stdout",
     "output_type": "stream",
     "text": [
      "Best ccp_alpha {'ccp_alpha': 0.012}\n"
     ]
    }
   ],
   "source": [
    "ccp_alpha = dtc_cv.cv_results_['param_ccp_alpha'].data\n",
    "ACC_scores = dtc_cv.cv_results_['mean_test_score']\n",
    "\n",
    "plt.figure(figsize=(8, 6))\n",
    "plt.xlabel('ccp_alpha', fontsize=16)\n",
    "plt.ylabel('CV Accuracy', fontsize=16)\n",
    "plt.scatter(ccp_alpha, ACC_scores, s=3)\n",
    "plt.plot(ccp_alpha, ACC_scores, linewidth=3)\n",
    "plt.grid(True, which='both')\n",
    "\n",
    "plt.tight_layout()\n",
    "plt.show()\n",
    "\n",
    "print('Best ccp_alpha', dtc_cv.best_params_)"
   ]
  },
  {
   "cell_type": "code",
   "execution_count": 248,
   "id": "fe72babb",
   "metadata": {},
   "outputs": [
    {
     "name": "stdout",
     "output_type": "stream",
     "text": [
      "Confusion Matrix: \n",
      " [[490   0]\n",
      " [125   0]]\n",
      "\n",
      "Accuracy: 0.759349593495935\n"
     ]
    }
   ],
   "source": [
    "y_pred = dtc_cv.predict(X_test)\n",
    "cm = confusion_matrix(y_test80, y_pred)\n",
    "print (\"Confusion Matrix: \\n\", cm)\n",
    "print (\"\\nAccuracy:\", accuracy_score(y_test75, y_pred))"
   ]
  },
  {
   "cell_type": "markdown",
   "id": "22aae31a",
   "metadata": {},
   "source": [
    "## Interpretable Statsmodels Log"
   ]
  },
  {
   "cell_type": "code",
   "execution_count": 230,
   "id": "12e06ee1",
   "metadata": {},
   "outputs": [
    {
     "name": "stdout",
     "output_type": "stream",
     "text": [
      "Warning: Maximum number of iterations has been exceeded.\n",
      "         Current function value: 0.270986\n",
      "         Iterations: 35\n"
     ]
    },
    {
     "name": "stderr",
     "output_type": "stream",
     "text": [
      "/opt/conda/lib/python3.9/site-packages/statsmodels/base/model.py:566: ConvergenceWarning: Maximum Likelihood optimization failed to converge. Check mle_retvals\n",
      "  warnings.warn(\"Maximum Likelihood optimization failed to \"\n"
     ]
    }
   ],
   "source": [
    "import statsmodels.api as sm\n",
    "\n",
    "log_reg1 = sm.Logit(y_train85, X_train).fit()\n"
   ]
  },
  {
   "cell_type": "code",
   "execution_count": 231,
   "id": "db5f7d3f",
   "metadata": {},
   "outputs": [],
   "source": [
    "predis = (log_reg1.predict(X_test) > 0.5) * 1"
   ]
  },
  {
   "cell_type": "code",
   "execution_count": 232,
   "id": "0db499b1",
   "metadata": {},
   "outputs": [
    {
     "data": {
      "text/plain": [
       "0.865040650406504"
      ]
     },
     "execution_count": 232,
     "metadata": {},
     "output_type": "execute_result"
    }
   ],
   "source": [
    "np.mean(predis == y_test85)"
   ]
  },
  {
   "cell_type": "code",
   "execution_count": 234,
   "id": "96db565d",
   "metadata": {},
   "outputs": [
    {
     "name": "stdout",
     "output_type": "stream",
     "text": [
      "Warning: Maximum number of iterations has been exceeded.\n",
      "         Current function value: 0.319183\n",
      "         Iterations: 35\n"
     ]
    },
    {
     "name": "stderr",
     "output_type": "stream",
     "text": [
      "/opt/conda/lib/python3.9/site-packages/statsmodels/base/model.py:566: ConvergenceWarning: Maximum Likelihood optimization failed to converge. Check mle_retvals\n",
      "  warnings.warn(\"Maximum Likelihood optimization failed to \"\n"
     ]
    }
   ],
   "source": [
    "log_reg2 = sm.Logit(y_train80, X_train).fit()"
   ]
  },
  {
   "cell_type": "code",
   "execution_count": 235,
   "id": "f38b70e1",
   "metadata": {},
   "outputs": [
    {
     "data": {
      "text/plain": [
       "0.8308943089430895"
      ]
     },
     "execution_count": 235,
     "metadata": {},
     "output_type": "execute_result"
    }
   ],
   "source": [
    "predis = (log_reg2.predict(X_test) > 0.5) * 1\n",
    "np.mean(predis == y_test80)"
   ]
  },
  {
   "cell_type": "code",
   "execution_count": 237,
   "id": "e997c232",
   "metadata": {
    "collapsed": true
   },
   "outputs": [
    {
     "name": "stdout",
     "output_type": "stream",
     "text": [
      "Warning: Maximum number of iterations has been exceeded.\n",
      "         Current function value: inf\n",
      "         Iterations: 35\n"
     ]
    },
    {
     "ename": "LinAlgError",
     "evalue": "Singular matrix",
     "output_type": "error",
     "traceback": [
      "\u001b[0;31m---------------------------------------------------------------------------\u001b[0m",
      "\u001b[0;31mLinAlgError\u001b[0m                               Traceback (most recent call last)",
      "\u001b[0;32m/tmp/ipykernel_25/3687830701.py\u001b[0m in \u001b[0;36m<module>\u001b[0;34m\u001b[0m\n\u001b[0;32m----> 1\u001b[0;31m \u001b[0mlog_reg3\u001b[0m \u001b[0;34m=\u001b[0m \u001b[0msm\u001b[0m\u001b[0;34m.\u001b[0m\u001b[0mLogit\u001b[0m\u001b[0;34m(\u001b[0m\u001b[0my_train75\u001b[0m\u001b[0;34m,\u001b[0m \u001b[0mX_train\u001b[0m\u001b[0;34m)\u001b[0m\u001b[0;34m.\u001b[0m\u001b[0mfit\u001b[0m\u001b[0;34m(\u001b[0m\u001b[0;34m)\u001b[0m\u001b[0;34m\u001b[0m\u001b[0;34m\u001b[0m\u001b[0m\n\u001b[0m",
      "\u001b[0;32m/opt/conda/lib/python3.9/site-packages/statsmodels/discrete/discrete_model.py\u001b[0m in \u001b[0;36mfit\u001b[0;34m(self, start_params, method, maxiter, full_output, disp, callback, **kwargs)\u001b[0m\n\u001b[1;32m   1972\u001b[0m     def fit(self, start_params=None, method='newton', maxiter=35,\n\u001b[1;32m   1973\u001b[0m             full_output=1, disp=1, callback=None, **kwargs):\n\u001b[0;32m-> 1974\u001b[0;31m         bnryfit = super().fit(start_params=start_params,\n\u001b[0m\u001b[1;32m   1975\u001b[0m                               \u001b[0mmethod\u001b[0m\u001b[0;34m=\u001b[0m\u001b[0mmethod\u001b[0m\u001b[0;34m,\u001b[0m\u001b[0;34m\u001b[0m\u001b[0;34m\u001b[0m\u001b[0m\n\u001b[1;32m   1976\u001b[0m                               \u001b[0mmaxiter\u001b[0m\u001b[0;34m=\u001b[0m\u001b[0mmaxiter\u001b[0m\u001b[0;34m,\u001b[0m\u001b[0;34m\u001b[0m\u001b[0;34m\u001b[0m\u001b[0m\n",
      "\u001b[0;32m/opt/conda/lib/python3.9/site-packages/statsmodels/discrete/discrete_model.py\u001b[0m in \u001b[0;36mfit\u001b[0;34m(self, start_params, method, maxiter, full_output, disp, callback, **kwargs)\u001b[0m\n\u001b[1;32m    225\u001b[0m             \u001b[0;32mpass\u001b[0m  \u001b[0;31m# TODO: make a function factory to have multiple call-backs\u001b[0m\u001b[0;34m\u001b[0m\u001b[0;34m\u001b[0m\u001b[0m\n\u001b[1;32m    226\u001b[0m \u001b[0;34m\u001b[0m\u001b[0m\n\u001b[0;32m--> 227\u001b[0;31m         mlefit = super().fit(start_params=start_params,\n\u001b[0m\u001b[1;32m    228\u001b[0m                              \u001b[0mmethod\u001b[0m\u001b[0;34m=\u001b[0m\u001b[0mmethod\u001b[0m\u001b[0;34m,\u001b[0m\u001b[0;34m\u001b[0m\u001b[0;34m\u001b[0m\u001b[0m\n\u001b[1;32m    229\u001b[0m                              \u001b[0mmaxiter\u001b[0m\u001b[0;34m=\u001b[0m\u001b[0mmaxiter\u001b[0m\u001b[0;34m,\u001b[0m\u001b[0;34m\u001b[0m\u001b[0;34m\u001b[0m\u001b[0m\n",
      "\u001b[0;32m/opt/conda/lib/python3.9/site-packages/statsmodels/base/model.py\u001b[0m in \u001b[0;36mfit\u001b[0;34m(self, start_params, method, maxiter, full_output, disp, fargs, callback, retall, skip_hessian, **kwargs)\u001b[0m\n\u001b[1;32m    532\u001b[0m             \u001b[0mHinv\u001b[0m \u001b[0;34m=\u001b[0m \u001b[0mcov_params_func\u001b[0m\u001b[0;34m(\u001b[0m\u001b[0mself\u001b[0m\u001b[0;34m,\u001b[0m \u001b[0mxopt\u001b[0m\u001b[0;34m,\u001b[0m \u001b[0mretvals\u001b[0m\u001b[0;34m)\u001b[0m\u001b[0;34m\u001b[0m\u001b[0;34m\u001b[0m\u001b[0m\n\u001b[1;32m    533\u001b[0m         \u001b[0;32melif\u001b[0m \u001b[0mmethod\u001b[0m \u001b[0;34m==\u001b[0m \u001b[0;34m'newton'\u001b[0m \u001b[0;32mand\u001b[0m \u001b[0mfull_output\u001b[0m\u001b[0;34m:\u001b[0m\u001b[0;34m\u001b[0m\u001b[0;34m\u001b[0m\u001b[0m\n\u001b[0;32m--> 534\u001b[0;31m             \u001b[0mHinv\u001b[0m \u001b[0;34m=\u001b[0m \u001b[0mnp\u001b[0m\u001b[0;34m.\u001b[0m\u001b[0mlinalg\u001b[0m\u001b[0;34m.\u001b[0m\u001b[0minv\u001b[0m\u001b[0;34m(\u001b[0m\u001b[0;34m-\u001b[0m\u001b[0mretvals\u001b[0m\u001b[0;34m[\u001b[0m\u001b[0;34m'Hessian'\u001b[0m\u001b[0;34m]\u001b[0m\u001b[0;34m)\u001b[0m \u001b[0;34m/\u001b[0m \u001b[0mnobs\u001b[0m\u001b[0;34m\u001b[0m\u001b[0;34m\u001b[0m\u001b[0m\n\u001b[0m\u001b[1;32m    535\u001b[0m         \u001b[0;32melif\u001b[0m \u001b[0;32mnot\u001b[0m \u001b[0mskip_hessian\u001b[0m\u001b[0;34m:\u001b[0m\u001b[0;34m\u001b[0m\u001b[0;34m\u001b[0m\u001b[0m\n\u001b[1;32m    536\u001b[0m             \u001b[0mH\u001b[0m \u001b[0;34m=\u001b[0m \u001b[0;34m-\u001b[0m\u001b[0;36m1\u001b[0m \u001b[0;34m*\u001b[0m \u001b[0mself\u001b[0m\u001b[0;34m.\u001b[0m\u001b[0mhessian\u001b[0m\u001b[0;34m(\u001b[0m\u001b[0mxopt\u001b[0m\u001b[0;34m)\u001b[0m\u001b[0;34m\u001b[0m\u001b[0;34m\u001b[0m\u001b[0m\n",
      "\u001b[0;32m<__array_function__ internals>\u001b[0m in \u001b[0;36minv\u001b[0;34m(*args, **kwargs)\u001b[0m\n",
      "\u001b[0;32m/opt/conda/lib/python3.9/site-packages/numpy/linalg/linalg.py\u001b[0m in \u001b[0;36minv\u001b[0;34m(a)\u001b[0m\n\u001b[1;32m    543\u001b[0m     \u001b[0msignature\u001b[0m \u001b[0;34m=\u001b[0m \u001b[0;34m'D->D'\u001b[0m \u001b[0;32mif\u001b[0m \u001b[0misComplexType\u001b[0m\u001b[0;34m(\u001b[0m\u001b[0mt\u001b[0m\u001b[0;34m)\u001b[0m \u001b[0;32melse\u001b[0m \u001b[0;34m'd->d'\u001b[0m\u001b[0;34m\u001b[0m\u001b[0;34m\u001b[0m\u001b[0m\n\u001b[1;32m    544\u001b[0m     \u001b[0mextobj\u001b[0m \u001b[0;34m=\u001b[0m \u001b[0mget_linalg_error_extobj\u001b[0m\u001b[0;34m(\u001b[0m\u001b[0m_raise_linalgerror_singular\u001b[0m\u001b[0;34m)\u001b[0m\u001b[0;34m\u001b[0m\u001b[0;34m\u001b[0m\u001b[0m\n\u001b[0;32m--> 545\u001b[0;31m     \u001b[0mainv\u001b[0m \u001b[0;34m=\u001b[0m \u001b[0m_umath_linalg\u001b[0m\u001b[0;34m.\u001b[0m\u001b[0minv\u001b[0m\u001b[0;34m(\u001b[0m\u001b[0ma\u001b[0m\u001b[0;34m,\u001b[0m \u001b[0msignature\u001b[0m\u001b[0;34m=\u001b[0m\u001b[0msignature\u001b[0m\u001b[0;34m,\u001b[0m \u001b[0mextobj\u001b[0m\u001b[0;34m=\u001b[0m\u001b[0mextobj\u001b[0m\u001b[0;34m)\u001b[0m\u001b[0;34m\u001b[0m\u001b[0;34m\u001b[0m\u001b[0m\n\u001b[0m\u001b[1;32m    546\u001b[0m     \u001b[0;32mreturn\u001b[0m \u001b[0mwrap\u001b[0m\u001b[0;34m(\u001b[0m\u001b[0mainv\u001b[0m\u001b[0;34m.\u001b[0m\u001b[0mastype\u001b[0m\u001b[0;34m(\u001b[0m\u001b[0mresult_t\u001b[0m\u001b[0;34m,\u001b[0m \u001b[0mcopy\u001b[0m\u001b[0;34m=\u001b[0m\u001b[0;32mFalse\u001b[0m\u001b[0;34m)\u001b[0m\u001b[0;34m)\u001b[0m\u001b[0;34m\u001b[0m\u001b[0;34m\u001b[0m\u001b[0m\n\u001b[1;32m    547\u001b[0m \u001b[0;34m\u001b[0m\u001b[0m\n",
      "\u001b[0;32m/opt/conda/lib/python3.9/site-packages/numpy/linalg/linalg.py\u001b[0m in \u001b[0;36m_raise_linalgerror_singular\u001b[0;34m(err, flag)\u001b[0m\n\u001b[1;32m     86\u001b[0m \u001b[0;34m\u001b[0m\u001b[0m\n\u001b[1;32m     87\u001b[0m \u001b[0;32mdef\u001b[0m \u001b[0m_raise_linalgerror_singular\u001b[0m\u001b[0;34m(\u001b[0m\u001b[0merr\u001b[0m\u001b[0;34m,\u001b[0m \u001b[0mflag\u001b[0m\u001b[0;34m)\u001b[0m\u001b[0;34m:\u001b[0m\u001b[0;34m\u001b[0m\u001b[0;34m\u001b[0m\u001b[0m\n\u001b[0;32m---> 88\u001b[0;31m     \u001b[0;32mraise\u001b[0m \u001b[0mLinAlgError\u001b[0m\u001b[0;34m(\u001b[0m\u001b[0;34m\"Singular matrix\"\u001b[0m\u001b[0;34m)\u001b[0m\u001b[0;34m\u001b[0m\u001b[0;34m\u001b[0m\u001b[0m\n\u001b[0m\u001b[1;32m     89\u001b[0m \u001b[0;34m\u001b[0m\u001b[0m\n\u001b[1;32m     90\u001b[0m \u001b[0;32mdef\u001b[0m \u001b[0m_raise_linalgerror_nonposdef\u001b[0m\u001b[0;34m(\u001b[0m\u001b[0merr\u001b[0m\u001b[0;34m,\u001b[0m \u001b[0mflag\u001b[0m\u001b[0;34m)\u001b[0m\u001b[0;34m:\u001b[0m\u001b[0;34m\u001b[0m\u001b[0;34m\u001b[0m\u001b[0m\n",
      "\u001b[0;31mLinAlgError\u001b[0m: Singular matrix"
     ]
    }
   ],
   "source": [
    "log_reg3 = sm.Logit(y_train75, X_train).fit()"
   ]
  },
  {
   "cell_type": "code",
   "execution_count": 233,
   "id": "6edb443c",
   "metadata": {},
   "outputs": [
    {
     "name": "stdout",
     "output_type": "stream",
     "text": [
      "                           Logit Regression Results                           \n",
      "==============================================================================\n",
      "Dep. Variable:             Death Rate   No. Observations:                 2457\n",
      "Model:                          Logit   Df Residuals:                     2361\n",
      "Method:                           MLE   Df Model:                           95\n",
      "Date:                Fri, 10 Dec 2021   Pseudo R-squ.:                  0.3551\n",
      "Time:                        12:25:16   Log-Likelihood:                -665.81\n",
      "converged:                      False   LL-Null:                       -1032.4\n",
      "Covariance Type:            nonrobust   LLR p-value:                 3.192e-99\n",
      "============================================================================================================================================\n",
      "                                                                               coef    std err          z      P>|z|      [0.025      0.975]\n",
      "--------------------------------------------------------------------------------------------------------------------------------------------\n",
      "FIPS                                                                         0.0027      0.001      3.221      0.001       0.001       0.004\n",
      "POVALL_2019                                                              -8.006e-07      0.000     -0.007      0.994      -0.000       0.000\n",
      "PCTPOVALL_2019                                                              -0.0011      0.043     -0.026      0.979      -0.086       0.084\n",
      "POV017_2019                                                                  0.0001      0.000      0.391      0.696      -0.000       0.001\n",
      "PCTPOV017_2019                                                               0.0526      0.031      1.718      0.086      -0.007       0.113\n",
      "MEDHHINC_2019                                                            -2.701e-05   1.91e-05     -1.411      0.158   -6.45e-05    1.05e-05\n",
      "2013 Rural-urban Continuum Code                                             -0.0443      0.062     -0.715      0.474      -0.166       0.077\n",
      "2013 Urban Influence Code                                                   -0.0107      0.047     -0.226      0.821      -0.103       0.082\n",
      "Percent of adults with less than a high school diploma, 1970                -0.0424      1.088     -0.039      0.969      -2.176       2.091\n",
      "Percent of adults with a high school diploma only, 1970                     -0.0483      1.089     -0.044      0.965      -2.183       2.086\n",
      "Percent of adults completing some college (1-3 years), 1970                 -0.1126      1.087     -0.104      0.917      -2.242       2.017\n",
      "Percent of adults completing four years of college or higher, 1970           0.1554      1.091      0.142      0.887      -1.983       2.294\n",
      "Percent of adults with less than a high school diploma, 1980                -0.4711      1.111     -0.424      0.672      -2.649       1.707\n",
      "Percent of adults with a high school diploma only, 1980                     -0.5173      1.109     -0.466      0.641      -2.691       1.656\n",
      "Percent of adults completing some college (1-3 years), 1980                 -0.4730      1.113     -0.425      0.671      -2.653       1.708\n",
      "Percent of adults completing four years of college or higher, 1980          -0.5723      1.111     -0.515      0.606      -2.749       1.604\n",
      "Percent of adults with less than a high school diploma, 1990                -0.4186      1.129     -0.371      0.711      -2.631       1.794\n",
      "Percent of adults with a high school diploma only, 1990                     -0.4057      1.128     -0.360      0.719      -2.617       1.806\n",
      "Percent of adults completing some college or associate's degree, 1990       -0.3777      1.132     -0.334      0.739      -2.596       1.841\n",
      "Percent of adults with a bachelor's degree or higher, 1990                  -0.4750      1.130     -0.420      0.674      -2.690       1.740\n",
      "Percent of adults with less than a high school diploma, 2000                 0.1486      1.112      0.134      0.894      -2.031       2.328\n",
      "Percent of adults with a high school diploma only, 2000                      0.1223      1.110      0.110      0.912      -2.054       2.298\n",
      "Percent of adults completing some college or associate's degree, 2000        0.1629      1.111      0.147      0.883      -2.015       2.341\n",
      "Percent of adults with a bachelor's degree or higher, 2000                   0.0623      1.110      0.056      0.955      -2.113       2.237\n",
      "Percent of adults with less than a high school diploma, 2015-19             -0.5850      1.085     -0.539      0.590      -2.712       1.542\n",
      "Percent of adults with a high school diploma only, 2015-19                  -0.5065      1.084     -0.467      0.640      -2.632       1.619\n",
      "Percent of adults completing some college or associate's degree, 2015-19    -0.5196      1.085     -0.479      0.632      -2.645       1.606\n",
      "Percent of adults with a bachelor's degree or higher, 2015-19               -0.5241      1.085     -0.483      0.629      -2.650       1.602\n",
      "Civilian_labor_force_2015                                                    0.0003      0.000      0.885      0.376      -0.000       0.001\n",
      "Unemployed_2015                                                              0.0025      0.001      2.239      0.025       0.000       0.005\n",
      "Unemployment_rate_2015                                                      -0.0657      0.181     -0.362      0.717      -0.421       0.290\n",
      "Civilian_labor_force_2016                                                -1.487e-05      0.001     -0.028      0.977      -0.001       0.001\n",
      "Unemployed_2016                                                             -0.0026      0.002     -1.629      0.103      -0.006       0.001\n",
      "Unemployment_rate_2016                                                       0.1894      0.229      0.827      0.408      -0.259       0.638\n",
      "Civilian_labor_force_2017                                                   -0.0002      0.001     -0.399      0.690      -0.001       0.001\n",
      "Unemployed_2017                                                              0.0020      0.002      0.885      0.376      -0.002       0.006\n",
      "Unemployment_rate_2017                                                      -0.1606      0.335     -0.480      0.631      -0.817       0.495\n",
      "Civilian_labor_force_2018                                                 5.219e-05      0.000      0.112      0.911      -0.001       0.001\n",
      "Unemployed_2018                                                             -0.0018      0.003     -0.684      0.494      -0.007       0.003\n",
      "Unemployment_rate_2018                                                      -0.0928      0.364     -0.255      0.799      -0.805       0.620\n",
      "Civilian_labor_force_2019                                                   -0.0005      0.000     -1.022      0.307      -0.001       0.000\n",
      "Unemployed_2019                                                              0.0011      0.002      0.632      0.527      -0.002       0.004\n",
      "Unemployment_rate_2019                                                      -0.0639      0.234     -0.273      0.785      -0.523       0.395\n",
      "Civilian_labor_force_2020                                                    0.0003      0.000      1.057      0.290      -0.000       0.001\n",
      "Unemployed_2020                                                             -0.0007      0.001     -1.246      0.213      -0.002       0.000\n",
      "Unemployment_rate_2020                                                       0.2194      0.087      2.523      0.012       0.049       0.390\n",
      "AK                                                                         129.0770     39.125      3.299      0.001      52.394     205.760\n",
      "AL                                                                         128.6374     40.014      3.215      0.001      50.212     207.063\n",
      "AR                                                                         119.1126     36.656      3.249      0.001      47.268     190.957\n",
      "AZ                                                                         106.2029     72.910      1.457      0.145     -36.699     249.105\n",
      "CA                                                                         114.2982     35.891      3.185      0.001      43.953     184.643\n",
      "CO                                                                         109.4230     34.207      3.199      0.001      42.379     176.467\n",
      "CT                                                                          99.6673    656.560      0.152      0.879   -1187.166    1386.501\n",
      "DC                                                                          97.7806   6.42e+04      0.002      0.999   -1.26e+05    1.26e+05\n",
      "DE                                                                          93.2516    1.9e+04      0.005      0.996   -3.71e+04    3.73e+04\n",
      "FL                                                                          99.6177     30.826      3.232      0.001      39.199     160.037\n",
      "GA                                                                          96.2889     29.895      3.221      0.001      37.697     154.881\n",
      "HI                                                                          77.4835   1.92e+04      0.004      0.997   -3.76e+04    3.78e+04\n",
      "IA                                                                          81.2714     24.973      3.254      0.001      32.325     130.218\n",
      "ID                                                                          88.1026     27.543      3.199      0.001      34.118     142.087\n",
      "IL                                                                          86.4966     26.629      3.248      0.001      34.304     138.689\n",
      "IN                                                                          84.9613     25.798      3.293      0.001      34.399     135.524\n",
      "KS                                                                          79.2057     24.144      3.280      0.001      31.883     126.528\n",
      "KY                                                                          77.6897     23.288      3.336      0.001      32.046     123.333\n",
      "LA                                                                          73.0668     22.482      3.250      0.001      29.003     117.131\n",
      "MA                                                                          37.4037   1.06e+07   3.53e-06      1.000   -2.07e+07    2.07e+07\n",
      "MD                                                                          67.5212     20.884      3.233      0.001      26.590     108.452\n",
      "ME                                                                          72.0527     21.729      3.316      0.001      29.464     114.642\n",
      "MI                                                                          61.2731     19.176      3.195      0.001      23.689      98.857\n",
      "MN                                                                          57.6976     18.345      3.145      0.002      21.742      93.654\n",
      "MO                                                                          54.0671     16.605      3.256      0.001      21.522      86.612\n",
      "MS                                                                          57.2592     17.485      3.275      0.001      22.989      91.530\n",
      "MT                                                                          31.1153   1.55e+04      0.002      0.998   -3.03e+04    3.03e+04\n",
      "NC                                                                          31.0570      9.985      3.110      0.002      11.486      50.628\n",
      "ND                                                                          29.2254      9.229      3.167      0.002      11.136      47.315\n",
      "NE                                                                          49.3696     14.974      3.297      0.001      20.022      78.717\n",
      "NH                                                                          26.7348   2.55e+04      0.001      0.999   -4.99e+04    4.99e+04\n",
      "NJ                                                                          26.6725   1939.510      0.014      0.989   -3774.697    3828.043\n",
      "NM                                                                           3.3772   1.11e+07   3.05e-07      1.000   -2.17e+07    2.17e+07\n",
      "NV                                                                          46.0868     14.273      3.229      0.001      18.112      74.062\n",
      "NY                                                                          14.1582   2.23e+04      0.001      0.999   -4.37e+04    4.37e+04\n",
      "OH                                                                          28.1554      8.370      3.364      0.001      11.751      44.560\n",
      "OK                                                                          26.3065      7.537      3.490      0.000      11.534      41.079\n",
      "OR                                                                           0.6651    2.9e+04   2.29e-05      1.000   -5.69e+04    5.69e+04\n",
      "PA                                                                          19.0019      5.978      3.179      0.001       7.285      30.719\n",
      "RI                                                                         -11.0391   3.98e+06  -2.77e-06      1.000   -7.81e+06    7.81e+06\n",
      "SC                                                                           9.9874      3.555      2.809      0.005       3.020      16.955\n",
      "SD                                                                           9.4128      2.739      3.436      0.001       4.044      14.782\n",
      "TN                                                                           6.5649      1.992      3.296      0.001       2.661      10.469\n",
      "TX                                                                           1.7742      1.338      1.326      0.185      -0.848       4.397\n",
      "VA                                                                          -5.5038      2.286     -2.408      0.016      -9.984      -1.023\n",
      "VT                                                                         -17.3342   3798.759     -0.005      0.996   -7462.764    7428.096\n",
      "WA                                                                         -10.7452      3.704     -2.901      0.004     -18.006      -3.485\n",
      "WI                                                                         -16.8678      5.315     -3.174      0.002     -27.285      -6.451\n",
      "WV                                                                         -13.0459      4.427     -2.947      0.003     -21.723      -4.368\n",
      "WY                                                                         -31.9310   1168.007     -0.027      0.978   -2321.182    2257.320\n",
      "============================================================================================================================================\n",
      "\n",
      "Possibly complete quasi-separation: A fraction 0.18 of observations can be\n",
      "perfectly predicted. This might indicate that there is complete\n",
      "quasi-separation. In this case some parameters will not be identified.\n"
     ]
    }
   ],
   "source": [
    "print(log_reg1.summary())"
   ]
  },
  {
   "cell_type": "code",
   "execution_count": 194,
   "id": "ced081c7",
   "metadata": {},
   "outputs": [],
   "source": [
    "X_refined = X[['WV', 'WI', 'WA', 'VA', 'TN', 'SD', 'SC', 'PA', 'OK', 'OH', 'NV', 'NE', 'ND', 'NC', \n",
    "              'MS', 'MO', 'MN', 'MI', 'ME', 'MD', 'LA', 'KY', 'KS', 'IN', 'IL', 'ID', 'IA', 'GA', 'FL', \n",
    "              'CO', 'CA', 'AR', 'AL', 'AK', 'Unemployment_rate_2020', 'Unemployed_2015', 'PCTPOV017_2019',\n",
    "              'FIPS']]"
   ]
  },
  {
   "cell_type": "code",
   "execution_count": 195,
   "id": "25ad1f87",
   "metadata": {},
   "outputs": [],
   "source": [
    "X_train_refined, X_test_refined, y_train85, y_test85 = train_test_split(X_refined, y85, test_size=0.2, random_state=42)\n",
    "X_train_refined, X_test_refined, y_train80, y_test80 = train_test_split(X_refined, y80, test_size=0.2, random_state=42)\n",
    "X_train_refined, X_test_refined, y_train75, y_test75 = train_test_split(X_refined, y75, test_size=0.2, random_state=42)\n",
    "\n"
   ]
  },
  {
   "cell_type": "markdown",
   "id": "ee51b31e",
   "metadata": {},
   "source": [
    "## Try Statsmodels Logit with Refined Features"
   ]
  },
  {
   "cell_type": "code",
   "execution_count": 249,
   "id": "47ff37d0",
   "metadata": {},
   "outputs": [
    {
     "name": "stdout",
     "output_type": "stream",
     "text": [
      "Optimization terminated successfully.\n",
      "         Current function value: 0.308207\n",
      "         Iterations 10\n"
     ]
    }
   ],
   "source": [
    "log_reg = sm.Logit(y_train85, X_train_refined).fit()\n"
   ]
  },
  {
   "cell_type": "code",
   "execution_count": 250,
   "id": "08afae53",
   "metadata": {},
   "outputs": [],
   "source": [
    "predis = (log_reg.predict(X_test_refined) > 0.5) * 1"
   ]
  },
  {
   "cell_type": "code",
   "execution_count": 251,
   "id": "4cf3d23c",
   "metadata": {},
   "outputs": [
    {
     "data": {
      "text/plain": [
       "0.8731707317073171"
      ]
     },
     "execution_count": 251,
     "metadata": {},
     "output_type": "execute_result"
    }
   ],
   "source": [
    "np.mean(predis == y_test85)"
   ]
  },
  {
   "cell_type": "code",
   "execution_count": 252,
   "id": "71b33d6c",
   "metadata": {},
   "outputs": [
    {
     "name": "stdout",
     "output_type": "stream",
     "text": [
      "Optimization terminated successfully.\n",
      "         Current function value: 0.362020\n",
      "         Iterations 9\n"
     ]
    }
   ],
   "source": [
    "log_reg = sm.Logit(y_train80, X_train_refined).fit()"
   ]
  },
  {
   "cell_type": "code",
   "execution_count": 253,
   "id": "154d8b4f",
   "metadata": {},
   "outputs": [
    {
     "data": {
      "text/plain": [
       "0.8357723577235773"
      ]
     },
     "execution_count": 253,
     "metadata": {},
     "output_type": "execute_result"
    }
   ],
   "source": [
    "predis = (log_reg.predict(X_test_refined) > 0.5) * 1\n",
    "np.mean(predis == y_test80)"
   ]
  },
  {
   "cell_type": "code",
   "execution_count": 254,
   "id": "58fffbda",
   "metadata": {},
   "outputs": [
    {
     "name": "stdout",
     "output_type": "stream",
     "text": [
      "Optimization terminated successfully.\n",
      "         Current function value: 0.415092\n",
      "         Iterations 9\n"
     ]
    }
   ],
   "source": [
    "log_reg = sm.Logit(y_train75, X_train_refined).fit()"
   ]
  },
  {
   "cell_type": "code",
   "execution_count": 255,
   "id": "afdca68b",
   "metadata": {},
   "outputs": [
    {
     "data": {
      "text/plain": [
       "0.8113821138211382"
      ]
     },
     "execution_count": 255,
     "metadata": {},
     "output_type": "execute_result"
    }
   ],
   "source": [
    "predis = (log_reg.predict(X_test_refined) > 0.5) * 1\n",
    "np.mean(predis == y_test75)"
   ]
  },
  {
   "cell_type": "markdown",
   "id": "fabdad4f",
   "metadata": {},
   "source": [
    "## Now, try Random Forests model with refined features."
   ]
  },
  {
   "cell_type": "code",
   "execution_count": 200,
   "id": "782df4d9",
   "metadata": {},
   "outputs": [
    {
     "data": {
      "text/plain": [
       "RandomForestClassifier(max_features=8, min_samples_leaf=5, n_estimators=500,\n",
       "                       random_state=88)"
      ]
     },
     "execution_count": 200,
     "metadata": {},
     "output_type": "execute_result"
    }
   ],
   "source": [
    "rf = RandomForestClassifier(max_features=8, min_samples_leaf=5, n_estimators=500, random_state=88)\n",
    "rf.fit(X_train_refined, y_train85)"
   ]
  },
  {
   "cell_type": "code",
   "execution_count": 201,
   "id": "12418336",
   "metadata": {},
   "outputs": [
    {
     "name": "stdout",
     "output_type": "stream",
     "text": [
      "Confusion Matrix: \n",
      " [[508  12]\n",
      " [ 68  27]]\n",
      "\n",
      "Accuracy: 0.8699186991869918\n"
     ]
    }
   ],
   "source": [
    "y_pred = rf.predict(X_test_refined)\n",
    "cm = confusion_matrix(y_test85, y_pred)\n",
    "print (\"Confusion Matrix: \\n\", cm)\n",
    "print (\"\\nAccuracy:\", accuracy_score(y_test85, y_pred))"
   ]
  },
  {
   "cell_type": "code",
   "execution_count": 202,
   "id": "59127e4c",
   "metadata": {},
   "outputs": [
    {
     "data": {
      "text/plain": [
       "RandomForestClassifier(max_features=8, min_samples_leaf=5, n_estimators=500,\n",
       "                       random_state=88)"
      ]
     },
     "execution_count": 202,
     "metadata": {},
     "output_type": "execute_result"
    }
   ],
   "source": [
    "rf = RandomForestClassifier(max_features=8, min_samples_leaf=5, n_estimators=500, random_state=88)\n",
    "rf.fit(X_train_refined, y_train80)"
   ]
  },
  {
   "cell_type": "code",
   "execution_count": 203,
   "id": "8e5c3047",
   "metadata": {},
   "outputs": [
    {
     "name": "stdout",
     "output_type": "stream",
     "text": [
      "Confusion Matrix: \n",
      " [[472  18]\n",
      " [ 75  50]]\n",
      "\n",
      "Accuracy: 0.848780487804878\n"
     ]
    }
   ],
   "source": [
    "y_pred = rf.predict(X_test_refined)\n",
    "cm = confusion_matrix(y_test80, y_pred)\n",
    "print (\"Confusion Matrix: \\n\", cm)\n",
    "print (\"\\nAccuracy:\", accuracy_score(y_test80, y_pred))"
   ]
  },
  {
   "cell_type": "code",
   "execution_count": 256,
   "id": "bb929070",
   "metadata": {},
   "outputs": [
    {
     "data": {
      "text/plain": [
       "RandomForestClassifier(max_features=8, min_samples_leaf=5, n_estimators=500,\n",
       "                       random_state=88)"
      ]
     },
     "execution_count": 256,
     "metadata": {},
     "output_type": "execute_result"
    }
   ],
   "source": [
    "rf = RandomForestClassifier(max_features=8, min_samples_leaf=5, n_estimators=500, random_state=88)\n",
    "rf.fit(X_train_refined, y_train75)"
   ]
  },
  {
   "cell_type": "code",
   "execution_count": 257,
   "id": "afb3812e",
   "metadata": {},
   "outputs": [
    {
     "name": "stdout",
     "output_type": "stream",
     "text": [
      "Confusion Matrix: \n",
      " [[438  29]\n",
      " [ 82  66]]\n",
      "\n",
      "Accuracy: 0.8195121951219512\n"
     ]
    }
   ],
   "source": [
    "y_pred = rf.predict(X_test_refined)\n",
    "cm = confusion_matrix(y_test75, y_pred)\n",
    "print (\"Confusion Matrix: \\n\", cm)\n",
    "print (\"\\nAccuracy:\", accuracy_score(y_test75, y_pred))"
   ]
  },
  {
   "cell_type": "markdown",
   "id": "ccb790d0",
   "metadata": {},
   "source": [
    "## Now, try Boosting model with refined features."
   ]
  },
  {
   "cell_type": "code",
   "execution_count": 204,
   "id": "88dcaa03",
   "metadata": {},
   "outputs": [
    {
     "data": {
      "text/plain": [
       "GradientBoostingClassifier(max_leaf_nodes=10, n_estimators=3300)"
      ]
     },
     "execution_count": 204,
     "metadata": {},
     "output_type": "execute_result"
    }
   ],
   "source": [
    "gbc = GradientBoostingClassifier(n_estimators=3300, max_leaf_nodes=10)\n",
    "gbc.fit(X_train_refined, y_train85)"
   ]
  },
  {
   "cell_type": "code",
   "execution_count": 205,
   "id": "dbcbc76c",
   "metadata": {},
   "outputs": [
    {
     "data": {
      "text/plain": [
       "0.8422764227642277"
      ]
     },
     "execution_count": 205,
     "metadata": {},
     "output_type": "execute_result"
    }
   ],
   "source": [
    "y_pred = gbc.predict(X_test_refined)\n",
    "(y_test85 == y_pred).mean()"
   ]
  },
  {
   "cell_type": "code",
   "execution_count": 258,
   "id": "c78657e7",
   "metadata": {},
   "outputs": [
    {
     "data": {
      "text/plain": [
       "GradientBoostingClassifier(max_leaf_nodes=10, n_estimators=3300)"
      ]
     },
     "execution_count": 258,
     "metadata": {},
     "output_type": "execute_result"
    }
   ],
   "source": [
    "gbc.fit(X_train_refined, y_train80)"
   ]
  },
  {
   "cell_type": "code",
   "execution_count": 259,
   "id": "96d3b863",
   "metadata": {},
   "outputs": [
    {
     "data": {
      "text/plain": [
       "0.8178861788617886"
      ]
     },
     "execution_count": 259,
     "metadata": {},
     "output_type": "execute_result"
    }
   ],
   "source": [
    "y_pred = gbc.predict(X_test_refined)\n",
    "(y_test80 == y_pred).mean()"
   ]
  },
  {
   "cell_type": "code",
   "execution_count": 260,
   "id": "7ebebf5e",
   "metadata": {},
   "outputs": [
    {
     "data": {
      "text/plain": [
       "GradientBoostingClassifier(max_leaf_nodes=10, n_estimators=3300)"
      ]
     },
     "execution_count": 260,
     "metadata": {},
     "output_type": "execute_result"
    }
   ],
   "source": [
    "gbc.fit(X_train_refined, y_train75)"
   ]
  },
  {
   "cell_type": "code",
   "execution_count": 261,
   "id": "b4a15558",
   "metadata": {},
   "outputs": [
    {
     "data": {
      "text/plain": [
       "0.7691056910569106"
      ]
     },
     "execution_count": 261,
     "metadata": {},
     "output_type": "execute_result"
    }
   ],
   "source": [
    "y_pred = gbc.predict(X_test_refined)\n",
    "(y_test75 == y_pred).mean()"
   ]
  },
  {
   "cell_type": "markdown",
   "id": "10a3b009",
   "metadata": {},
   "source": [
    "## LDA with Refined Features"
   ]
  },
  {
   "cell_type": "code",
   "execution_count": 262,
   "id": "a005065c",
   "metadata": {},
   "outputs": [
    {
     "data": {
      "text/plain": [
       "LinearDiscriminantAnalysis()"
      ]
     },
     "execution_count": 262,
     "metadata": {},
     "output_type": "execute_result"
    }
   ],
   "source": [
    "lda = LinearDiscriminantAnalysis()\n",
    "lda.fit(X_train_refined, y_train85)"
   ]
  },
  {
   "cell_type": "code",
   "execution_count": 263,
   "id": "30ba066e",
   "metadata": {},
   "outputs": [
    {
     "name": "stdout",
     "output_type": "stream",
     "text": [
      "Confusion Matrix: \n",
      " [[491  29]\n",
      " [ 63  32]]\n",
      "\n",
      "Accuracy: 0.8504065040650407\n"
     ]
    }
   ],
   "source": [
    "y_pred = lda.predict(X_test_refined)\n",
    "cm = confusion_matrix(y_test85, y_pred)\n",
    "print (\"Confusion Matrix: \\n\", cm)\n",
    "print (\"\\nAccuracy:\", accuracy_score(y_test85, y_pred))"
   ]
  },
  {
   "cell_type": "code",
   "execution_count": 264,
   "id": "fab2e09e",
   "metadata": {},
   "outputs": [
    {
     "data": {
      "text/plain": [
       "LinearDiscriminantAnalysis()"
      ]
     },
     "execution_count": 264,
     "metadata": {},
     "output_type": "execute_result"
    }
   ],
   "source": [
    "lda = LinearDiscriminantAnalysis()\n",
    "lda.fit(X_train_refined, y_train80)"
   ]
  },
  {
   "cell_type": "code",
   "execution_count": 265,
   "id": "68b1324f",
   "metadata": {},
   "outputs": [
    {
     "name": "stdout",
     "output_type": "stream",
     "text": [
      "Confusion Matrix: \n",
      " [[456  34]\n",
      " [ 72  53]]\n",
      "\n",
      "Accuracy: 0.8276422764227642\n"
     ]
    }
   ],
   "source": [
    "y_pred = lda.predict(X_test_refined)\n",
    "cm = confusion_matrix(y_test80, y_pred)\n",
    "print (\"Confusion Matrix: \\n\", cm)\n",
    "print (\"\\nAccuracy:\", accuracy_score(y_test80, y_pred))"
   ]
  },
  {
   "cell_type": "code",
   "execution_count": 266,
   "id": "59d13ace",
   "metadata": {},
   "outputs": [
    {
     "data": {
      "text/plain": [
       "LinearDiscriminantAnalysis()"
      ]
     },
     "execution_count": 266,
     "metadata": {},
     "output_type": "execute_result"
    }
   ],
   "source": [
    "lda = LinearDiscriminantAnalysis()\n",
    "lda.fit(X_train_refined, y_train75)"
   ]
  },
  {
   "cell_type": "code",
   "execution_count": 267,
   "id": "e45d04e3",
   "metadata": {},
   "outputs": [
    {
     "name": "stdout",
     "output_type": "stream",
     "text": [
      "Confusion Matrix: \n",
      " [[427  40]\n",
      " [ 84  64]]\n",
      "\n",
      "Accuracy: 0.7983739837398374\n"
     ]
    }
   ],
   "source": [
    "y_pred = lda.predict(X_test_refined)\n",
    "cm = confusion_matrix(y_test75, y_pred)\n",
    "print (\"Confusion Matrix: \\n\", cm)\n",
    "print (\"\\nAccuracy:\", accuracy_score(y_test75, y_pred))"
   ]
  },
  {
   "cell_type": "markdown",
   "id": "5243b7b1",
   "metadata": {},
   "source": [
    "## And now Scikit-Learn's Logistic"
   ]
  },
  {
   "cell_type": "code",
   "execution_count": 268,
   "id": "12ab934f",
   "metadata": {},
   "outputs": [
    {
     "name": "stderr",
     "output_type": "stream",
     "text": [
      "/opt/conda/lib/python3.9/site-packages/sklearn/linear_model/_logistic.py:763: ConvergenceWarning: lbfgs failed to converge (status=1):\n",
      "STOP: TOTAL NO. of ITERATIONS REACHED LIMIT.\n",
      "\n",
      "Increase the number of iterations (max_iter) or scale the data as shown in:\n",
      "    https://scikit-learn.org/stable/modules/preprocessing.html\n",
      "Please also refer to the documentation for alternative solver options:\n",
      "    https://scikit-learn.org/stable/modules/linear_model.html#logistic-regression\n",
      "  n_iter_i = _check_optimize_result(\n"
     ]
    },
    {
     "data": {
      "text/plain": [
       "LogisticRegression(random_state=88)"
      ]
     },
     "execution_count": 268,
     "metadata": {},
     "output_type": "execute_result"
    }
   ],
   "source": [
    "logreg = LogisticRegression(random_state=88)\n",
    "logreg.fit(X_train_refined, y_train85)"
   ]
  },
  {
   "cell_type": "code",
   "execution_count": 269,
   "id": "324f79fc",
   "metadata": {},
   "outputs": [
    {
     "name": "stdout",
     "output_type": "stream",
     "text": [
      "Confusion Matrix: \n",
      " [[502  18]\n",
      " [ 71  24]]\n",
      "\n",
      "Accuracy: 0.8552845528455284\n"
     ]
    }
   ],
   "source": [
    "y_prob = logreg.predict_proba(X_test_refined)\n",
    "y_pred = pd.Series([1 if x > .5 else 0 for x in y_prob[:,1]], index=y_test85.index)\n",
    "\n",
    "cm = confusion_matrix(y_test85, y_pred)\n",
    "print (\"Confusion Matrix: \\n\", cm)\n",
    "print (\"\\nAccuracy:\", accuracy_score(y_test85, y_pred))"
   ]
  },
  {
   "cell_type": "code",
   "execution_count": 270,
   "id": "aab3629e",
   "metadata": {},
   "outputs": [
    {
     "data": {
      "text/plain": [
       "LogisticRegression(random_state=88)"
      ]
     },
     "execution_count": 270,
     "metadata": {},
     "output_type": "execute_result"
    }
   ],
   "source": [
    "logreg = LogisticRegression(random_state=88)\n",
    "logreg.fit(X_train_refined, y_train80)"
   ]
  },
  {
   "cell_type": "code",
   "execution_count": 271,
   "id": "f0308de7",
   "metadata": {},
   "outputs": [
    {
     "name": "stdout",
     "output_type": "stream",
     "text": [
      "Confusion Matrix: \n",
      " [[459  31]\n",
      " [100  25]]\n",
      "\n",
      "Accuracy: 0.7869918699186992\n"
     ]
    }
   ],
   "source": [
    "y_prob = logreg.predict_proba(X_test_refined)\n",
    "y_pred = pd.Series([1 if x > .5 else 0 for x in y_prob[:,1]], index=y_test80.index)\n",
    "\n",
    "cm = confusion_matrix(y_test80, y_pred)\n",
    "print (\"Confusion Matrix: \\n\", cm)\n",
    "print (\"\\nAccuracy:\", accuracy_score(y_test80, y_pred))"
   ]
  },
  {
   "cell_type": "code",
   "execution_count": 272,
   "id": "cb860486",
   "metadata": {},
   "outputs": [
    {
     "data": {
      "text/plain": [
       "LogisticRegression(random_state=88)"
      ]
     },
     "execution_count": 272,
     "metadata": {},
     "output_type": "execute_result"
    }
   ],
   "source": [
    "logreg = LogisticRegression(random_state=88)\n",
    "logreg.fit(X_train_refined, y_train75)"
   ]
  },
  {
   "cell_type": "code",
   "execution_count": 273,
   "id": "44517b95",
   "metadata": {},
   "outputs": [
    {
     "name": "stdout",
     "output_type": "stream",
     "text": [
      "Confusion Matrix: \n",
      " [[422  45]\n",
      " [110  38]]\n",
      "\n",
      "Accuracy: 0.7479674796747967\n"
     ]
    }
   ],
   "source": [
    "y_prob = logreg.predict_proba(X_test_refined)\n",
    "y_pred = pd.Series([1 if x > .5 else 0 for x in y_prob[:,1]], index=y_test75.index)\n",
    "\n",
    "cm = confusion_matrix(y_test75, y_pred)\n",
    "print (\"Confusion Matrix: \\n\", cm)\n",
    "print (\"\\nAccuracy:\", accuracy_score(y_test75, y_pred))"
   ]
  },
  {
   "cell_type": "markdown",
   "id": "c96b5bab",
   "metadata": {},
   "source": [
    "## Now, Try CART on the Refined Data"
   ]
  },
  {
   "cell_type": "code",
   "execution_count": 274,
   "id": "00253edc",
   "metadata": {},
   "outputs": [],
   "source": [
    "grid_values = {'ccp_alpha': np.linspace(0.001, 0.1, 10)}\n",
    "\n",
    "dtc = DecisionTreeClassifier(random_state=88)\n",
    "dtc_cv = GridSearchCV(dtc, param_grid=grid_values, cv=10).fit(X_train_refined, y_train85)\n"
   ]
  },
  {
   "cell_type": "code",
   "execution_count": 275,
   "id": "70762cc6",
   "metadata": {},
   "outputs": [
    {
     "data": {
      "image/png": "[encoded data removed]",
      "text/plain": [
       "<Figure size 576x432 with 1 Axes>"
      ]
     },
     "metadata": {
      "needs_background": "light"
     },
     "output_type": "display_data"
    },
    {
     "name": "stdout",
     "output_type": "stream",
     "text": [
      "Best ccp_alpha {'ccp_alpha': 0.012}\n"
     ]
    }
   ],
   "source": [
    "ccp_alpha = dtc_cv.cv_results_['param_ccp_alpha'].data\n",
    "ACC_scores = dtc_cv.cv_results_['mean_test_score']\n",
    "\n",
    "plt.figure(figsize=(8, 6))\n",
    "plt.xlabel('ccp_alpha', fontsize=16)\n",
    "plt.ylabel('CV Accuracy', fontsize=16)\n",
    "plt.scatter(ccp_alpha, ACC_scores, s=3)\n",
    "plt.plot(ccp_alpha, ACC_scores, linewidth=3)\n",
    "plt.grid(True, which='both')\n",
    "\n",
    "plt.tight_layout()\n",
    "plt.show()\n",
    "\n",
    "print('Best ccp_alpha', dtc_cv.best_params_)"
   ]
  },
  {
   "cell_type": "code",
   "execution_count": 276,
   "id": "29b00b89",
   "metadata": {},
   "outputs": [
    {
     "name": "stdout",
     "output_type": "stream",
     "text": [
      "Confusion Matrix: \n",
      " [[520   0]\n",
      " [ 95   0]]\n",
      "\n",
      "Accuracy: 0.8455284552845529\n"
     ]
    }
   ],
   "source": [
    "y_pred = dtc_cv.predict(X_test_refined)\n",
    "cm = confusion_matrix(y_test85, y_pred)\n",
    "print (\"Confusion Matrix: \\n\", cm)\n",
    "print (\"\\nAccuracy:\", accuracy_score(y_test85, y_pred))"
   ]
  },
  {
   "cell_type": "code",
   "execution_count": 277,
   "id": "b5ae765d",
   "metadata": {},
   "outputs": [],
   "source": [
    "grid_values = {'ccp_alpha': np.linspace(0.001, 0.1, 10)}\n",
    "\n",
    "dtc = DecisionTreeClassifier(random_state=88)\n",
    "dtc_cv = GridSearchCV(dtc, param_grid=grid_values, cv=10).fit(X_train_refined, y_train80)\n"
   ]
  },
  {
   "cell_type": "code",
   "execution_count": 278,
   "id": "99d312b5",
   "metadata": {},
   "outputs": [
    {
     "data": {
      "image/png": "[encoded data removed]",
      "text/plain": [
       "<Figure size 576x432 with 1 Axes>"
      ]
     },
     "metadata": {
      "needs_background": "light"
     },
     "output_type": "display_data"
    },
    {
     "name": "stdout",
     "output_type": "stream",
     "text": [
      "Best ccp_alpha {'ccp_alpha': 0.001}\n"
     ]
    }
   ],
   "source": [
    "ccp_alpha = dtc_cv.cv_results_['param_ccp_alpha'].data\n",
    "ACC_scores = dtc_cv.cv_results_['mean_test_score']\n",
    "\n",
    "plt.figure(figsize=(8, 6))\n",
    "plt.xlabel('ccp_alpha', fontsize=16)\n",
    "plt.ylabel('CV Accuracy', fontsize=16)\n",
    "plt.scatter(ccp_alpha, ACC_scores, s=3)\n",
    "plt.plot(ccp_alpha, ACC_scores, linewidth=3)\n",
    "plt.grid(True, which='both')\n",
    "\n",
    "plt.tight_layout()\n",
    "plt.show()\n",
    "\n",
    "print('Best ccp_alpha', dtc_cv.best_params_)"
   ]
  },
  {
   "cell_type": "code",
   "execution_count": 279,
   "id": "5c887ac9",
   "metadata": {},
   "outputs": [
    {
     "name": "stdout",
     "output_type": "stream",
     "text": [
      "Confusion Matrix: \n",
      " [[444  46]\n",
      " [ 76  49]]\n",
      "\n",
      "Accuracy: 0.8016260162601626\n"
     ]
    }
   ],
   "source": [
    "y_pred = dtc_cv.predict(X_test_refined)\n",
    "cm = confusion_matrix(y_test80, y_pred)\n",
    "print (\"Confusion Matrix: \\n\", cm)\n",
    "print (\"\\nAccuracy:\", accuracy_score(y_test80, y_pred))"
   ]
  },
  {
   "cell_type": "code",
   "execution_count": 282,
   "id": "e3446be6",
   "metadata": {},
   "outputs": [],
   "source": [
    "grid_values = {'ccp_alpha': np.linspace(0.001, 0.1, 10)}\n",
    "\n",
    "dtc = DecisionTreeClassifier(random_state=88)\n",
    "dtc_cv = GridSearchCV(dtc, param_grid=grid_values, cv=10).fit(X_train_refined, y_train75)\n"
   ]
  },
  {
   "cell_type": "code",
   "execution_count": 283,
   "id": "5767b675",
   "metadata": {},
   "outputs": [
    {
     "data": {
      "image/png": "[encoded data removed]",
      "text/plain": [
       "<Figure size 576x432 with 1 Axes>"
      ]
     },
     "metadata": {
      "needs_background": "light"
     },
     "output_type": "display_data"
    },
    {
     "name": "stdout",
     "output_type": "stream",
     "text": [
      "Best ccp_alpha {'ccp_alpha': 0.001}\n"
     ]
    }
   ],
   "source": [
    "ccp_alpha = dtc_cv.cv_results_['param_ccp_alpha'].data\n",
    "ACC_scores = dtc_cv.cv_results_['mean_test_score']\n",
    "\n",
    "plt.figure(figsize=(8, 6))\n",
    "plt.xlabel('ccp_alpha', fontsize=16)\n",
    "plt.ylabel('CV Accuracy', fontsize=16)\n",
    "plt.scatter(ccp_alpha, ACC_scores, s=3)\n",
    "plt.plot(ccp_alpha, ACC_scores, linewidth=3)\n",
    "plt.grid(True, which='both')\n",
    "\n",
    "plt.tight_layout()\n",
    "plt.show()\n",
    "\n",
    "print('Best ccp_alpha', dtc_cv.best_params_)"
   ]
  },
  {
   "cell_type": "code",
   "execution_count": 284,
   "id": "0335fb41",
   "metadata": {},
   "outputs": [
    {
     "name": "stdout",
     "output_type": "stream",
     "text": [
      "Confusion Matrix: \n",
      " [[409  58]\n",
      " [ 91  57]]\n",
      "\n",
      "Accuracy: 0.7577235772357723\n"
     ]
    }
   ],
   "source": [
    "y_pred = dtc_cv.predict(X_test_refined)\n",
    "cm = confusion_matrix(y_test75, y_pred)\n",
    "print (\"Confusion Matrix: \\n\", cm)\n",
    "print (\"\\nAccuracy:\", accuracy_score(y_test75, y_pred))"
   ]
  },
  {
   "cell_type": "code",
   "execution_count": null,
   "id": "55cc3d8e",
   "metadata": {},
   "outputs": [],
   "source": []
  }
 ],
 "metadata": {
  "kernelspec": {
   "display_name": "Python 3 (ipykernel)",
   "language": "python",
   "name": "python3"
  },
  "language_info": {
   "codemirror_mode": {
    "name": "ipython",
    "version": 3
   },
   "file_extension": ".py",
   "mimetype": "text/x-python",
   "name": "python",
   "nbconvert_exporter": "python",
   "pygments_lexer": "ipython3",
   "version": "3.9.7"
  }
 },
 "nbformat": 4,
 "nbformat_minor": 5
}

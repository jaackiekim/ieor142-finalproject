{
 "cells": [
  {
   "cell_type": "code",
   "execution_count": 1,
   "id": "a757082e",
   "metadata": {},
   "outputs": [],
   "source": [
    "import pandas as pd\n",
    "import numpy as np\n",
    "import matplotlib.pyplot as plt"
   ]
  },
  {
   "cell_type": "code",
   "execution_count": 2,
   "id": "8eac2545",
   "metadata": {},
   "outputs": [],
   "source": [
    "death = pd.read_csv('death_final.csv')\n",
    "education = pd.read_csv('education_final.csv')\n",
    "unemployment = pd.read_csv('unemployment_final.csv')\n",
    "poverty = pd.read_csv('poverty_final.csv')\n",
    "ranking = pd.read_csv('county_health_rank.csv')"
   ]
  },
  {
   "cell_type": "code",
   "execution_count": 3,
   "id": "07eabbdb",
   "metadata": {},
   "outputs": [
    {
     "data": {
      "text/html": [
       "<div>\n",
       "<style scoped>\n",
       "    .dataframe tbody tr th:only-of-type {\n",
       "        vertical-align: middle;\n",
       "    }\n",
       "\n",
       "    .dataframe tbody tr th {\n",
       "        vertical-align: top;\n",
       "    }\n",
       "\n",
       "    .dataframe thead th {\n",
       "        text-align: right;\n",
       "    }\n",
       "</style>\n",
       "<table border=\"1\" class=\"dataframe\">\n",
       "  <thead>\n",
       "    <tr style=\"text-align: right;\">\n",
       "      <th></th>\n",
       "      <th>FIPS</th>\n",
       "      <th>Age-Adjusted Death Rate([rate note]) - deaths per 100,000</th>\n",
       "    </tr>\n",
       "  </thead>\n",
       "  <tbody>\n",
       "    <tr>\n",
       "      <th>0</th>\n",
       "      <td>0</td>\n",
       "      <td>152.4</td>\n",
       "    </tr>\n",
       "    <tr>\n",
       "      <th>1</th>\n",
       "      <td>12125</td>\n",
       "      <td>441.1</td>\n",
       "    </tr>\n",
       "    <tr>\n",
       "      <th>2</th>\n",
       "      <td>51640</td>\n",
       "      <td>384.3</td>\n",
       "    </tr>\n",
       "    <tr>\n",
       "      <th>3</th>\n",
       "      <td>20095</td>\n",
       "      <td>315.8</td>\n",
       "    </tr>\n",
       "    <tr>\n",
       "      <th>4</th>\n",
       "      <td>51580</td>\n",
       "      <td>293.1</td>\n",
       "    </tr>\n",
       "  </tbody>\n",
       "</table>\n",
       "</div>"
      ],
      "text/plain": [
       "    FIPS Age-Adjusted Death Rate([rate note]) - deaths per 100,000\n",
       "0      0                                              152.4       \n",
       "1  12125                                              441.1       \n",
       "2  51640                                              384.3       \n",
       "3  20095                                              315.8       \n",
       "4  51580                                              293.1       "
      ]
     },
     "execution_count": 3,
     "metadata": {},
     "output_type": "execute_result"
    }
   ],
   "source": [
    "death.head()"
   ]
  },
  {
   "cell_type": "code",
   "execution_count": 4,
   "id": "a5ab662f",
   "metadata": {},
   "outputs": [
    {
     "data": {
      "text/html": [
       "<div>\n",
       "<style scoped>\n",
       "    .dataframe tbody tr th:only-of-type {\n",
       "        vertical-align: middle;\n",
       "    }\n",
       "\n",
       "    .dataframe tbody tr th {\n",
       "        vertical-align: top;\n",
       "    }\n",
       "\n",
       "    .dataframe thead th {\n",
       "        text-align: right;\n",
       "    }\n",
       "</style>\n",
       "<table border=\"1\" class=\"dataframe\">\n",
       "  <thead>\n",
       "    <tr style=\"text-align: right;\">\n",
       "      <th></th>\n",
       "      <th>FIPS Code</th>\n",
       "      <th>State</th>\n",
       "      <th>Area name</th>\n",
       "      <th>2013 Rural-urban Continuum Code</th>\n",
       "      <th>2013 Urban Influence Code</th>\n",
       "      <th>Percent of adults with less than a high school diploma, 1970</th>\n",
       "      <th>Percent of adults with a high school diploma only, 1970</th>\n",
       "      <th>Percent of adults completing some college (1-3 years), 1970</th>\n",
       "      <th>Percent of adults completing four years of college or higher, 1970</th>\n",
       "      <th>Percent of adults with less than a high school diploma, 1980</th>\n",
       "      <th>...</th>\n",
       "      <th>Percent of adults completing some college or associate's degree, 1990</th>\n",
       "      <th>Percent of adults with a bachelor's degree or higher, 1990</th>\n",
       "      <th>Percent of adults with less than a high school diploma, 2000</th>\n",
       "      <th>Percent of adults with a high school diploma only, 2000</th>\n",
       "      <th>Percent of adults completing some college or associate's degree, 2000</th>\n",
       "      <th>Percent of adults with a bachelor's degree or higher, 2000</th>\n",
       "      <th>Percent of adults with less than a high school diploma, 2015-19</th>\n",
       "      <th>Percent of adults with a high school diploma only, 2015-19</th>\n",
       "      <th>Percent of adults completing some college or associate's degree, 2015-19</th>\n",
       "      <th>Percent of adults with a bachelor's degree or higher, 2015-19</th>\n",
       "    </tr>\n",
       "  </thead>\n",
       "  <tbody>\n",
       "    <tr>\n",
       "      <th>0</th>\n",
       "      <td>0</td>\n",
       "      <td>US</td>\n",
       "      <td>United States</td>\n",
       "      <td>NaN</td>\n",
       "      <td>NaN</td>\n",
       "      <td>47.7</td>\n",
       "      <td>31.1</td>\n",
       "      <td>10.6</td>\n",
       "      <td>10.7</td>\n",
       "      <td>33.5</td>\n",
       "      <td>...</td>\n",
       "      <td>24.9</td>\n",
       "      <td>20.3</td>\n",
       "      <td>19.6</td>\n",
       "      <td>28.6</td>\n",
       "      <td>27.4</td>\n",
       "      <td>24.4</td>\n",
       "      <td>12.0</td>\n",
       "      <td>27.0</td>\n",
       "      <td>28.9</td>\n",
       "      <td>32.1</td>\n",
       "    </tr>\n",
       "    <tr>\n",
       "      <th>1</th>\n",
       "      <td>1000</td>\n",
       "      <td>AL</td>\n",
       "      <td>Alabama</td>\n",
       "      <td>NaN</td>\n",
       "      <td>NaN</td>\n",
       "      <td>58.7</td>\n",
       "      <td>25.9</td>\n",
       "      <td>7.5</td>\n",
       "      <td>7.8</td>\n",
       "      <td>43.5</td>\n",
       "      <td>...</td>\n",
       "      <td>21.7</td>\n",
       "      <td>15.7</td>\n",
       "      <td>24.7</td>\n",
       "      <td>30.4</td>\n",
       "      <td>25.9</td>\n",
       "      <td>19.0</td>\n",
       "      <td>13.8</td>\n",
       "      <td>30.8</td>\n",
       "      <td>29.9</td>\n",
       "      <td>25.5</td>\n",
       "    </tr>\n",
       "    <tr>\n",
       "      <th>2</th>\n",
       "      <td>1001</td>\n",
       "      <td>AL</td>\n",
       "      <td>Autauga County</td>\n",
       "      <td>2.0</td>\n",
       "      <td>2.0</td>\n",
       "      <td>54.8</td>\n",
       "      <td>31.1</td>\n",
       "      <td>7.7</td>\n",
       "      <td>6.4</td>\n",
       "      <td>40.6</td>\n",
       "      <td>...</td>\n",
       "      <td>23.5</td>\n",
       "      <td>14.5</td>\n",
       "      <td>21.3</td>\n",
       "      <td>33.8</td>\n",
       "      <td>26.9</td>\n",
       "      <td>18.0</td>\n",
       "      <td>11.5</td>\n",
       "      <td>33.6</td>\n",
       "      <td>28.4</td>\n",
       "      <td>26.6</td>\n",
       "    </tr>\n",
       "    <tr>\n",
       "      <th>3</th>\n",
       "      <td>1003</td>\n",
       "      <td>AL</td>\n",
       "      <td>Baldwin County</td>\n",
       "      <td>3.0</td>\n",
       "      <td>2.0</td>\n",
       "      <td>59.4</td>\n",
       "      <td>26.7</td>\n",
       "      <td>7.4</td>\n",
       "      <td>6.5</td>\n",
       "      <td>39.7</td>\n",
       "      <td>...</td>\n",
       "      <td>24.6</td>\n",
       "      <td>16.8</td>\n",
       "      <td>18.0</td>\n",
       "      <td>29.6</td>\n",
       "      <td>29.3</td>\n",
       "      <td>23.1</td>\n",
       "      <td>9.2</td>\n",
       "      <td>27.7</td>\n",
       "      <td>31.3</td>\n",
       "      <td>31.9</td>\n",
       "    </tr>\n",
       "    <tr>\n",
       "      <th>4</th>\n",
       "      <td>1005</td>\n",
       "      <td>AL</td>\n",
       "      <td>Barbour County</td>\n",
       "      <td>6.0</td>\n",
       "      <td>6.0</td>\n",
       "      <td>68.8</td>\n",
       "      <td>19.0</td>\n",
       "      <td>4.9</td>\n",
       "      <td>7.3</td>\n",
       "      <td>55.1</td>\n",
       "      <td>...</td>\n",
       "      <td>16.7</td>\n",
       "      <td>11.8</td>\n",
       "      <td>35.3</td>\n",
       "      <td>32.4</td>\n",
       "      <td>21.3</td>\n",
       "      <td>10.9</td>\n",
       "      <td>26.8</td>\n",
       "      <td>35.6</td>\n",
       "      <td>26.0</td>\n",
       "      <td>11.6</td>\n",
       "    </tr>\n",
       "  </tbody>\n",
       "</table>\n",
       "<p>5 rows × 25 columns</p>\n",
       "</div>"
      ],
      "text/plain": [
       "   FIPS Code State       Area name  2013 Rural-urban Continuum Code  \\\n",
       "0          0    US   United States                              NaN   \n",
       "1       1000    AL         Alabama                              NaN   \n",
       "2       1001    AL  Autauga County                              2.0   \n",
       "3       1003    AL  Baldwin County                              3.0   \n",
       "4       1005    AL  Barbour County                              6.0   \n",
       "\n",
       "   2013 Urban Influence Code  \\\n",
       "0                        NaN   \n",
       "1                        NaN   \n",
       "2                        2.0   \n",
       "3                        2.0   \n",
       "4                        6.0   \n",
       "\n",
       "   Percent of adults with less than a high school diploma, 1970  \\\n",
       "0                                               47.7              \n",
       "1                                               58.7              \n",
       "2                                               54.8              \n",
       "3                                               59.4              \n",
       "4                                               68.8              \n",
       "\n",
       "   Percent of adults with a high school diploma only, 1970  \\\n",
       "0                                               31.1         \n",
       "1                                               25.9         \n",
       "2                                               31.1         \n",
       "3                                               26.7         \n",
       "4                                               19.0         \n",
       "\n",
       "   Percent of adults completing some college (1-3 years), 1970  \\\n",
       "0                                               10.6             \n",
       "1                                                7.5             \n",
       "2                                                7.7             \n",
       "3                                                7.4             \n",
       "4                                                4.9             \n",
       "\n",
       "   Percent of adults completing four years of college or higher, 1970  \\\n",
       "0                                               10.7                    \n",
       "1                                                7.8                    \n",
       "2                                                6.4                    \n",
       "3                                                6.5                    \n",
       "4                                                7.3                    \n",
       "\n",
       "   Percent of adults with less than a high school diploma, 1980  ...  \\\n",
       "0                                               33.5             ...   \n",
       "1                                               43.5             ...   \n",
       "2                                               40.6             ...   \n",
       "3                                               39.7             ...   \n",
       "4                                               55.1             ...   \n",
       "\n",
       "   Percent of adults completing some college or associate's degree, 1990  \\\n",
       "0                                               24.9                       \n",
       "1                                               21.7                       \n",
       "2                                               23.5                       \n",
       "3                                               24.6                       \n",
       "4                                               16.7                       \n",
       "\n",
       "   Percent of adults with a bachelor's degree or higher, 1990  \\\n",
       "0                                               20.3            \n",
       "1                                               15.7            \n",
       "2                                               14.5            \n",
       "3                                               16.8            \n",
       "4                                               11.8            \n",
       "\n",
       "   Percent of adults with less than a high school diploma, 2000  \\\n",
       "0                                               19.6              \n",
       "1                                               24.7              \n",
       "2                                               21.3              \n",
       "3                                               18.0              \n",
       "4                                               35.3              \n",
       "\n",
       "   Percent of adults with a high school diploma only, 2000  \\\n",
       "0                                               28.6         \n",
       "1                                               30.4         \n",
       "2                                               33.8         \n",
       "3                                               29.6         \n",
       "4                                               32.4         \n",
       "\n",
       "   Percent of adults completing some college or associate's degree, 2000  \\\n",
       "0                                               27.4                       \n",
       "1                                               25.9                       \n",
       "2                                               26.9                       \n",
       "3                                               29.3                       \n",
       "4                                               21.3                       \n",
       "\n",
       "   Percent of adults with a bachelor's degree or higher, 2000  \\\n",
       "0                                               24.4            \n",
       "1                                               19.0            \n",
       "2                                               18.0            \n",
       "3                                               23.1            \n",
       "4                                               10.9            \n",
       "\n",
       "   Percent of adults with less than a high school diploma, 2015-19  \\\n",
       "0                                               12.0                 \n",
       "1                                               13.8                 \n",
       "2                                               11.5                 \n",
       "3                                                9.2                 \n",
       "4                                               26.8                 \n",
       "\n",
       "   Percent of adults with a high school diploma only, 2015-19  \\\n",
       "0                                               27.0            \n",
       "1                                               30.8            \n",
       "2                                               33.6            \n",
       "3                                               27.7            \n",
       "4                                               35.6            \n",
       "\n",
       "   Percent of adults completing some college or associate's degree, 2015-19  \\\n",
       "0                                               28.9                          \n",
       "1                                               29.9                          \n",
       "2                                               28.4                          \n",
       "3                                               31.3                          \n",
       "4                                               26.0                          \n",
       "\n",
       "   Percent of adults with a bachelor's degree or higher, 2015-19  \n",
       "0                                               32.1              \n",
       "1                                               25.5              \n",
       "2                                               26.6              \n",
       "3                                               31.9              \n",
       "4                                               11.6              \n",
       "\n",
       "[5 rows x 25 columns]"
      ]
     },
     "execution_count": 4,
     "metadata": {},
     "output_type": "execute_result"
    }
   ],
   "source": [
    "education.head()"
   ]
  },
  {
   "cell_type": "code",
   "execution_count": 5,
   "id": "3b9299db",
   "metadata": {},
   "outputs": [
    {
     "data": {
      "text/html": [
       "<div>\n",
       "<style scoped>\n",
       "    .dataframe tbody tr th:only-of-type {\n",
       "        vertical-align: middle;\n",
       "    }\n",
       "\n",
       "    .dataframe tbody tr th {\n",
       "        vertical-align: top;\n",
       "    }\n",
       "\n",
       "    .dataframe thead th {\n",
       "        text-align: right;\n",
       "    }\n",
       "</style>\n",
       "<table border=\"1\" class=\"dataframe\">\n",
       "  <thead>\n",
       "    <tr style=\"text-align: right;\">\n",
       "      <th></th>\n",
       "      <th>FIPS</th>\n",
       "      <th>Civilian_labor_force_2015</th>\n",
       "      <th>Unemployed_2015</th>\n",
       "      <th>Unemployment_rate_2015</th>\n",
       "      <th>Civilian_labor_force_2016</th>\n",
       "      <th>Unemployed_2016</th>\n",
       "      <th>Unemployment_rate_2016</th>\n",
       "      <th>Civilian_labor_force_2017</th>\n",
       "      <th>Unemployed_2017</th>\n",
       "      <th>Unemployment_rate_2017</th>\n",
       "      <th>Civilian_labor_force_2018</th>\n",
       "      <th>Unemployed_2018</th>\n",
       "      <th>Unemployment_rate_2018</th>\n",
       "      <th>Civilian_labor_force_2019</th>\n",
       "      <th>Unemployed_2019</th>\n",
       "      <th>Unemployment_rate_2019</th>\n",
       "      <th>Civilian_labor_force_2020</th>\n",
       "      <th>Unemployed_2020</th>\n",
       "      <th>Unemployment_rate_2020</th>\n",
       "    </tr>\n",
       "  </thead>\n",
       "  <tbody>\n",
       "    <tr>\n",
       "      <th>0</th>\n",
       "      <td>0</td>\n",
       "      <td>156,840,649</td>\n",
       "      <td>8,285,731</td>\n",
       "      <td>5.3</td>\n",
       "      <td>158,674,951</td>\n",
       "      <td>7,725,602</td>\n",
       "      <td>4.9</td>\n",
       "      <td>160,214,378</td>\n",
       "      <td>6,977,228</td>\n",
       "      <td>4.4</td>\n",
       "      <td>161,441,134</td>\n",
       "      <td>6,288,584</td>\n",
       "      <td>3.9</td>\n",
       "      <td>163,140,305</td>\n",
       "      <td>5,986,120</td>\n",
       "      <td>3.7</td>\n",
       "      <td>160,611,064</td>\n",
       "      <td>12,933,704</td>\n",
       "      <td>8.1</td>\n",
       "    </tr>\n",
       "    <tr>\n",
       "      <th>1</th>\n",
       "      <td>1000</td>\n",
       "      <td>2,152,295</td>\n",
       "      <td>131,852</td>\n",
       "      <td>6.1</td>\n",
       "      <td>2,155,729</td>\n",
       "      <td>126,572</td>\n",
       "      <td>5.9</td>\n",
       "      <td>2,172,455</td>\n",
       "      <td>99,059</td>\n",
       "      <td>4.6</td>\n",
       "      <td>2,207,019</td>\n",
       "      <td>86,315</td>\n",
       "      <td>3.9</td>\n",
       "      <td>2,237,278</td>\n",
       "      <td>67,883</td>\n",
       "      <td>3.0</td>\n",
       "      <td>2,230,118</td>\n",
       "      <td>131,056</td>\n",
       "      <td>5.9</td>\n",
       "    </tr>\n",
       "    <tr>\n",
       "      <th>2</th>\n",
       "      <td>1001</td>\n",
       "      <td>25,541</td>\n",
       "      <td>1,335</td>\n",
       "      <td>5.2</td>\n",
       "      <td>25,710</td>\n",
       "      <td>1,315</td>\n",
       "      <td>5.1</td>\n",
       "      <td>25,898</td>\n",
       "      <td>1,040</td>\n",
       "      <td>4.0</td>\n",
       "      <td>26,081</td>\n",
       "      <td>941</td>\n",
       "      <td>3.6</td>\n",
       "      <td>26,281</td>\n",
       "      <td>720</td>\n",
       "      <td>2.7</td>\n",
       "      <td>25,838</td>\n",
       "      <td>1,262</td>\n",
       "      <td>4.9</td>\n",
       "    </tr>\n",
       "    <tr>\n",
       "      <th>3</th>\n",
       "      <td>1003</td>\n",
       "      <td>87,493</td>\n",
       "      <td>4,874</td>\n",
       "      <td>5.6</td>\n",
       "      <td>89,778</td>\n",
       "      <td>4,806</td>\n",
       "      <td>5.4</td>\n",
       "      <td>91,838</td>\n",
       "      <td>3,844</td>\n",
       "      <td>4.2</td>\n",
       "      <td>94,820</td>\n",
       "      <td>3,445</td>\n",
       "      <td>3.6</td>\n",
       "      <td>97,424</td>\n",
       "      <td>2,711</td>\n",
       "      <td>2.8</td>\n",
       "      <td>96,763</td>\n",
       "      <td>5,425</td>\n",
       "      <td>5.6</td>\n",
       "    </tr>\n",
       "    <tr>\n",
       "      <th>4</th>\n",
       "      <td>1005</td>\n",
       "      <td>8,590</td>\n",
       "      <td>767</td>\n",
       "      <td>8.9</td>\n",
       "      <td>8,334</td>\n",
       "      <td>696</td>\n",
       "      <td>8.4</td>\n",
       "      <td>8,298</td>\n",
       "      <td>498</td>\n",
       "      <td>6.0</td>\n",
       "      <td>8,379</td>\n",
       "      <td>430</td>\n",
       "      <td>5.1</td>\n",
       "      <td>8,502</td>\n",
       "      <td>325</td>\n",
       "      <td>3.8</td>\n",
       "      <td>8,587</td>\n",
       "      <td>605</td>\n",
       "      <td>7.0</td>\n",
       "    </tr>\n",
       "  </tbody>\n",
       "</table>\n",
       "</div>"
      ],
      "text/plain": [
       "   FIPS Civilian_labor_force_2015 Unemployed_2015  Unemployment_rate_2015  \\\n",
       "0     0               156,840,649       8,285,731                     5.3   \n",
       "1  1000                 2,152,295         131,852                     6.1   \n",
       "2  1001                    25,541           1,335                     5.2   \n",
       "3  1003                    87,493           4,874                     5.6   \n",
       "4  1005                     8,590             767                     8.9   \n",
       "\n",
       "  Civilian_labor_force_2016 Unemployed_2016  Unemployment_rate_2016  \\\n",
       "0               158,674,951       7,725,602                     4.9   \n",
       "1                 2,155,729         126,572                     5.9   \n",
       "2                    25,710           1,315                     5.1   \n",
       "3                    89,778           4,806                     5.4   \n",
       "4                     8,334             696                     8.4   \n",
       "\n",
       "  Civilian_labor_force_2017 Unemployed_2017  Unemployment_rate_2017  \\\n",
       "0               160,214,378       6,977,228                     4.4   \n",
       "1                 2,172,455          99,059                     4.6   \n",
       "2                    25,898           1,040                     4.0   \n",
       "3                    91,838           3,844                     4.2   \n",
       "4                     8,298             498                     6.0   \n",
       "\n",
       "  Civilian_labor_force_2018 Unemployed_2018  Unemployment_rate_2018  \\\n",
       "0               161,441,134       6,288,584                     3.9   \n",
       "1                 2,207,019          86,315                     3.9   \n",
       "2                    26,081             941                     3.6   \n",
       "3                    94,820           3,445                     3.6   \n",
       "4                     8,379             430                     5.1   \n",
       "\n",
       "  Civilian_labor_force_2019 Unemployed_2019  Unemployment_rate_2019  \\\n",
       "0               163,140,305       5,986,120                     3.7   \n",
       "1                 2,237,278          67,883                     3.0   \n",
       "2                    26,281             720                     2.7   \n",
       "3                    97,424           2,711                     2.8   \n",
       "4                     8,502             325                     3.8   \n",
       "\n",
       "  Civilian_labor_force_2020 Unemployed_2020  Unemployment_rate_2020  \n",
       "0               160,611,064      12,933,704                     8.1  \n",
       "1                 2,230,118         131,056                     5.9  \n",
       "2                    25,838           1,262                     4.9  \n",
       "3                    96,763           5,425                     5.6  \n",
       "4                     8,587             605                     7.0  "
      ]
     },
     "execution_count": 5,
     "metadata": {},
     "output_type": "execute_result"
    }
   ],
   "source": [
    "unemployment.head()"
   ]
  },
  {
   "cell_type": "code",
   "execution_count": 6,
   "id": "3c5b6935",
   "metadata": {},
   "outputs": [
    {
     "data": {
      "text/html": [
       "<div>\n",
       "<style scoped>\n",
       "    .dataframe tbody tr th:only-of-type {\n",
       "        vertical-align: middle;\n",
       "    }\n",
       "\n",
       "    .dataframe tbody tr th {\n",
       "        vertical-align: top;\n",
       "    }\n",
       "\n",
       "    .dataframe thead th {\n",
       "        text-align: right;\n",
       "    }\n",
       "</style>\n",
       "<table border=\"1\" class=\"dataframe\">\n",
       "  <thead>\n",
       "    <tr style=\"text-align: right;\">\n",
       "      <th></th>\n",
       "      <th>FIPS</th>\n",
       "      <th>POVALL_2019</th>\n",
       "      <th>PCTPOVALL_2019</th>\n",
       "      <th>POV017_2019</th>\n",
       "      <th>PCTPOV017_2019</th>\n",
       "      <th>MEDHHINC_2019</th>\n",
       "    </tr>\n",
       "  </thead>\n",
       "  <tbody>\n",
       "    <tr>\n",
       "      <th>0</th>\n",
       "      <td>0</td>\n",
       "      <td>39,490,096</td>\n",
       "      <td>12.3</td>\n",
       "      <td>12,000,470</td>\n",
       "      <td>16.8</td>\n",
       "      <td>65,712</td>\n",
       "    </tr>\n",
       "    <tr>\n",
       "      <th>1</th>\n",
       "      <td>1000</td>\n",
       "      <td>747,478</td>\n",
       "      <td>15.6</td>\n",
       "      <td>233,890</td>\n",
       "      <td>21.9</td>\n",
       "      <td>51,771</td>\n",
       "    </tr>\n",
       "    <tr>\n",
       "      <th>2</th>\n",
       "      <td>1001</td>\n",
       "      <td>6,723</td>\n",
       "      <td>12.1</td>\n",
       "      <td>2,040</td>\n",
       "      <td>15.9</td>\n",
       "      <td>58,233</td>\n",
       "    </tr>\n",
       "    <tr>\n",
       "      <th>3</th>\n",
       "      <td>1003</td>\n",
       "      <td>22,360</td>\n",
       "      <td>10.1</td>\n",
       "      <td>6,323</td>\n",
       "      <td>13.5</td>\n",
       "      <td>59,871</td>\n",
       "    </tr>\n",
       "    <tr>\n",
       "      <th>4</th>\n",
       "      <td>1005</td>\n",
       "      <td>5,909</td>\n",
       "      <td>27.1</td>\n",
       "      <td>2,050</td>\n",
       "      <td>41.0</td>\n",
       "      <td>35,972</td>\n",
       "    </tr>\n",
       "  </tbody>\n",
       "</table>\n",
       "</div>"
      ],
      "text/plain": [
       "   FIPS POVALL_2019  PCTPOVALL_2019 POV017_2019  PCTPOV017_2019 MEDHHINC_2019\n",
       "0     0  39,490,096            12.3  12,000,470            16.8        65,712\n",
       "1  1000     747,478            15.6     233,890            21.9        51,771\n",
       "2  1001       6,723            12.1       2,040            15.9        58,233\n",
       "3  1003      22,360            10.1       6,323            13.5        59,871\n",
       "4  1005       5,909            27.1       2,050            41.0        35,972"
      ]
     },
     "execution_count": 6,
     "metadata": {},
     "output_type": "execute_result"
    }
   ],
   "source": [
    "poverty.head()"
   ]
  },
  {
   "cell_type": "code",
   "execution_count": 7,
   "id": "c1435e02",
   "metadata": {},
   "outputs": [
    {
     "data": {
      "text/plain": [
       "Index(['State FIPS Code', 'County FIPS Code', '5-digit FIPS Code',\n",
       "       'State Abbreviation', 'Name', 'Release Year',\n",
       "       'County Ranked (Yes=1/No=0)', 'Premature death raw value',\n",
       "       'Premature death numerator', 'Premature death denominator',\n",
       "       ...\n",
       "       'Frequent physical distress numerator',\n",
       "       'Frequent physical distress denominator',\n",
       "       'Frequent physical distress CI low',\n",
       "       'Frequent physical distress CI high',\n",
       "       'Frequent mental distress raw value',\n",
       "       'Frequent mental distress numerator',\n",
       "       'Frequent mental distress denominator',\n",
       "       'Frequent mental distress CI low', 'Frequent mental distress CI high',\n",
       "       'Diabetes prevalence raw value'],\n",
       "      dtype='object', length=255)"
      ]
     },
     "execution_count": 7,
     "metadata": {},
     "output_type": "execute_result"
    }
   ],
   "source": [
    "education = education.rename({'FIPS Code': 'FIPS'}, axis='columns')\n",
    "death = death.rename({' FIPS': 'FIPS'}, axis='columns')\n",
    "ranking.columns"
   ]
  },
  {
   "cell_type": "code",
   "execution_count": 8,
   "id": "d7a61922",
   "metadata": {},
   "outputs": [
    {
     "data": {
      "text/html": [
       "<div>\n",
       "<style scoped>\n",
       "    .dataframe tbody tr th:only-of-type {\n",
       "        vertical-align: middle;\n",
       "    }\n",
       "\n",
       "    .dataframe tbody tr th {\n",
       "        vertical-align: top;\n",
       "    }\n",
       "\n",
       "    .dataframe thead th {\n",
       "        text-align: right;\n",
       "    }\n",
       "</style>\n",
       "<table border=\"1\" class=\"dataframe\">\n",
       "  <thead>\n",
       "    <tr style=\"text-align: right;\">\n",
       "      <th></th>\n",
       "      <th>5-digit FIPS Code</th>\n",
       "      <th>Poor physical health days raw value</th>\n",
       "      <th>Adult smoking raw value</th>\n",
       "      <th>Food environment index raw value</th>\n",
       "      <th>Physical inactivity raw value</th>\n",
       "      <th>Excessive drinking raw value</th>\n",
       "      <th>Teen births raw value</th>\n",
       "      <th>Primary care physicians raw value</th>\n",
       "      <th>Ratio of population to primary care physicians.</th>\n",
       "      <th>Ratio of population to mental health providers.</th>\n",
       "      <th>Mammography screening raw value</th>\n",
       "      <th>Air pollution - particulate matter raw value</th>\n",
       "      <th>Percentage of households with high housing costs</th>\n",
       "    </tr>\n",
       "  </thead>\n",
       "  <tbody>\n",
       "    <tr>\n",
       "      <th>0</th>\n",
       "      <td>1000</td>\n",
       "      <td>4.400458</td>\n",
       "      <td>0.215382</td>\n",
       "      <td>5.8</td>\n",
       "      <td>0.282</td>\n",
       "      <td>0.141781</td>\n",
       "      <td>33.113480</td>\n",
       "      <td>0.000654</td>\n",
       "      <td>1529.339623</td>\n",
       "      <td>1104.883726</td>\n",
       "      <td>0.42</td>\n",
       "      <td>11.0</td>\n",
       "      <td>NaN</td>\n",
       "    </tr>\n",
       "    <tr>\n",
       "      <th>1</th>\n",
       "      <td>1001</td>\n",
       "      <td>4.200578</td>\n",
       "      <td>0.191247</td>\n",
       "      <td>7.2</td>\n",
       "      <td>0.311</td>\n",
       "      <td>0.168780</td>\n",
       "      <td>26.524208</td>\n",
       "      <td>0.000415</td>\n",
       "      <td>2409.391304</td>\n",
       "      <td>6167.111111</td>\n",
       "      <td>0.44</td>\n",
       "      <td>11.7</td>\n",
       "      <td>0.132052</td>\n",
       "    </tr>\n",
       "    <tr>\n",
       "      <th>2</th>\n",
       "      <td>1003</td>\n",
       "      <td>4.098748</td>\n",
       "      <td>0.167955</td>\n",
       "      <td>8.0</td>\n",
       "      <td>0.238</td>\n",
       "      <td>0.167150</td>\n",
       "      <td>29.594009</td>\n",
       "      <td>0.000729</td>\n",
       "      <td>1372.125000</td>\n",
       "      <td>1096.020619</td>\n",
       "      <td>0.45</td>\n",
       "      <td>10.3</td>\n",
       "      <td>0.125693</td>\n",
       "    </tr>\n",
       "    <tr>\n",
       "      <th>3</th>\n",
       "      <td>1005</td>\n",
       "      <td>5.067438</td>\n",
       "      <td>0.215409</td>\n",
       "      <td>5.6</td>\n",
       "      <td>0.282</td>\n",
       "      <td>0.126987</td>\n",
       "      <td>45.092838</td>\n",
       "      <td>0.000385</td>\n",
       "      <td>2596.500000</td>\n",
       "      <td>12635.000000</td>\n",
       "      <td>0.46</td>\n",
       "      <td>11.5</td>\n",
       "      <td>0.136743</td>\n",
       "    </tr>\n",
       "    <tr>\n",
       "      <th>4</th>\n",
       "      <td>1007</td>\n",
       "      <td>4.363377</td>\n",
       "      <td>0.199164</td>\n",
       "      <td>7.6</td>\n",
       "      <td>0.349</td>\n",
       "      <td>0.159252</td>\n",
       "      <td>45.454545</td>\n",
       "      <td>0.000574</td>\n",
       "      <td>1741.769231</td>\n",
       "      <td>11334.000000</td>\n",
       "      <td>0.44</td>\n",
       "      <td>11.2</td>\n",
       "      <td>0.108081</td>\n",
       "    </tr>\n",
       "  </tbody>\n",
       "</table>\n",
       "</div>"
      ],
      "text/plain": [
       "   5-digit FIPS Code  Poor physical health days raw value  \\\n",
       "0               1000                             4.400458   \n",
       "1               1001                             4.200578   \n",
       "2               1003                             4.098748   \n",
       "3               1005                             5.067438   \n",
       "4               1007                             4.363377   \n",
       "\n",
       "   Adult smoking raw value  Food environment index raw value  \\\n",
       "0                 0.215382                               5.8   \n",
       "1                 0.191247                               7.2   \n",
       "2                 0.167955                               8.0   \n",
       "3                 0.215409                               5.6   \n",
       "4                 0.199164                               7.6   \n",
       "\n",
       "   Physical inactivity raw value  Excessive drinking raw value  \\\n",
       "0                          0.282                      0.141781   \n",
       "1                          0.311                      0.168780   \n",
       "2                          0.238                      0.167150   \n",
       "3                          0.282                      0.126987   \n",
       "4                          0.349                      0.159252   \n",
       "\n",
       "   Teen births raw value  Primary care physicians raw value  \\\n",
       "0              33.113480                           0.000654   \n",
       "1              26.524208                           0.000415   \n",
       "2              29.594009                           0.000729   \n",
       "3              45.092838                           0.000385   \n",
       "4              45.454545                           0.000574   \n",
       "\n",
       "   Ratio of population to primary care physicians.  \\\n",
       "0                                      1529.339623   \n",
       "1                                      2409.391304   \n",
       "2                                      1372.125000   \n",
       "3                                      2596.500000   \n",
       "4                                      1741.769231   \n",
       "\n",
       "   Ratio of population to mental health providers.  \\\n",
       "0                                      1104.883726   \n",
       "1                                      6167.111111   \n",
       "2                                      1096.020619   \n",
       "3                                     12635.000000   \n",
       "4                                     11334.000000   \n",
       "\n",
       "   Mammography screening raw value  \\\n",
       "0                             0.42   \n",
       "1                             0.44   \n",
       "2                             0.45   \n",
       "3                             0.46   \n",
       "4                             0.44   \n",
       "\n",
       "   Air pollution - particulate matter raw value  \\\n",
       "0                                          11.0   \n",
       "1                                          11.7   \n",
       "2                                          10.3   \n",
       "3                                          11.5   \n",
       "4                                          11.2   \n",
       "\n",
       "   Percentage of households with high housing costs  \n",
       "0                                               NaN  \n",
       "1                                          0.132052  \n",
       "2                                          0.125693  \n",
       "3                                          0.136743  \n",
       "4                                          0.108081  "
      ]
     },
     "execution_count": 8,
     "metadata": {},
     "output_type": "execute_result"
    }
   ],
   "source": [
    "ranking = ranking[['5-digit FIPS Code', 'Poor physical health days raw value', 'Adult smoking raw value',\n",
    "                  'Food environment index raw value', 'Physical inactivity raw value', 'Excessive drinking raw value',\n",
    "                  'Teen births raw value', 'Primary care physicians raw value', 'Ratio of population to primary care physicians.',\n",
    "                  'Ratio of population to mental health providers.', 'Mammography screening raw value', 'Air pollution - particulate matter raw value',\n",
    "                  'Percentage of households with high housing costs']]\n",
    "ranking.head()\n"
   ]
  },
  {
   "cell_type": "code",
   "execution_count": 9,
   "id": "6046f554",
   "metadata": {},
   "outputs": [],
   "source": [
    "ranking = ranking.rename({'5-digit FIPS Code': 'FIPS'}, axis='columns')\n"
   ]
  },
  {
   "cell_type": "code",
   "execution_count": 10,
   "id": "a5d16400",
   "metadata": {},
   "outputs": [
    {
     "data": {
      "text/plain": [
       "(3133, 61)"
      ]
     },
     "execution_count": 10,
     "metadata": {},
     "output_type": "execute_result"
    }
   ],
   "source": [
    "join_one = pd.merge(poverty, education, on = 'FIPS')\n",
    "join_two = pd.merge(join_one, unemployment, on = 'FIPS')\n",
    "all_data = pd.merge(join_two, death, on = 'FIPS')\n",
    "all_data = pd.merge(all_data, ranking, on = 'FIPS')\n",
    "all_data.shape"
   ]
  },
  {
   "cell_type": "code",
   "execution_count": 11,
   "id": "5b961422",
   "metadata": {},
   "outputs": [],
   "source": [
    "all_data = all_data.dropna()"
   ]
  },
  {
   "cell_type": "code",
   "execution_count": 12,
   "id": "5c03ea3b",
   "metadata": {},
   "outputs": [],
   "source": [
    "all_data = all_data.rename({'Age-Adjusted Death Rate([rate note]) - deaths per 100,000': 'Death Rate'}, axis='columns')"
   ]
  },
  {
   "cell_type": "code",
   "execution_count": 13,
   "id": "f4e99490",
   "metadata": {},
   "outputs": [
    {
     "data": {
      "text/plain": [
       "FIPS                                                0\n",
       "POVALL_2019                                         0\n",
       "PCTPOVALL_2019                                      0\n",
       "POV017_2019                                         0\n",
       "PCTPOV017_2019                                      0\n",
       "                                                   ..\n",
       "Ratio of population to primary care physicians.     0\n",
       "Ratio of population to mental health providers.     0\n",
       "Mammography screening raw value                     0\n",
       "Air pollution - particulate matter raw value        0\n",
       "Percentage of households with high housing costs    0\n",
       "Length: 61, dtype: int64"
      ]
     },
     "execution_count": 13,
     "metadata": {},
     "output_type": "execute_result"
    }
   ],
   "source": [
    "all_data.isna().sum()"
   ]
  },
  {
   "cell_type": "code",
   "execution_count": 14,
   "id": "38c57fc6",
   "metadata": {},
   "outputs": [
    {
     "data": {
      "text/html": [
       "<div>\n",
       "<style scoped>\n",
       "    .dataframe tbody tr th:only-of-type {\n",
       "        vertical-align: middle;\n",
       "    }\n",
       "\n",
       "    .dataframe tbody tr th {\n",
       "        vertical-align: top;\n",
       "    }\n",
       "\n",
       "    .dataframe thead th {\n",
       "        text-align: right;\n",
       "    }\n",
       "</style>\n",
       "<table border=\"1\" class=\"dataframe\">\n",
       "  <thead>\n",
       "    <tr style=\"text-align: right;\">\n",
       "      <th></th>\n",
       "      <th>FIPS</th>\n",
       "      <th>POVALL_2019</th>\n",
       "      <th>PCTPOVALL_2019</th>\n",
       "      <th>POV017_2019</th>\n",
       "      <th>PCTPOV017_2019</th>\n",
       "      <th>MEDHHINC_2019</th>\n",
       "      <th>State</th>\n",
       "      <th>Area name</th>\n",
       "      <th>2013 Rural-urban Continuum Code</th>\n",
       "      <th>2013 Urban Influence Code</th>\n",
       "      <th>...</th>\n",
       "      <th>Food environment index raw value</th>\n",
       "      <th>Physical inactivity raw value</th>\n",
       "      <th>Excessive drinking raw value</th>\n",
       "      <th>Teen births raw value</th>\n",
       "      <th>Primary care physicians raw value</th>\n",
       "      <th>Ratio of population to primary care physicians.</th>\n",
       "      <th>Ratio of population to mental health providers.</th>\n",
       "      <th>Mammography screening raw value</th>\n",
       "      <th>Air pollution - particulate matter raw value</th>\n",
       "      <th>Percentage of households with high housing costs</th>\n",
       "    </tr>\n",
       "  </thead>\n",
       "  <tbody>\n",
       "    <tr>\n",
       "      <th>0</th>\n",
       "      <td>1001</td>\n",
       "      <td>6723</td>\n",
       "      <td>12.1</td>\n",
       "      <td>2040</td>\n",
       "      <td>15.9</td>\n",
       "      <td>58233</td>\n",
       "      <td>AL</td>\n",
       "      <td>Autauga County</td>\n",
       "      <td>2.0</td>\n",
       "      <td>2.0</td>\n",
       "      <td>...</td>\n",
       "      <td>7.2</td>\n",
       "      <td>0.311</td>\n",
       "      <td>0.168780</td>\n",
       "      <td>26.524208</td>\n",
       "      <td>0.000415</td>\n",
       "      <td>2409.391304</td>\n",
       "      <td>6167.111111</td>\n",
       "      <td>0.44</td>\n",
       "      <td>11.7</td>\n",
       "      <td>0.132052</td>\n",
       "    </tr>\n",
       "    <tr>\n",
       "      <th>1</th>\n",
       "      <td>1003</td>\n",
       "      <td>22360</td>\n",
       "      <td>10.1</td>\n",
       "      <td>6323</td>\n",
       "      <td>13.5</td>\n",
       "      <td>59871</td>\n",
       "      <td>AL</td>\n",
       "      <td>Baldwin County</td>\n",
       "      <td>3.0</td>\n",
       "      <td>2.0</td>\n",
       "      <td>...</td>\n",
       "      <td>8.0</td>\n",
       "      <td>0.238</td>\n",
       "      <td>0.167150</td>\n",
       "      <td>29.594009</td>\n",
       "      <td>0.000729</td>\n",
       "      <td>1372.125000</td>\n",
       "      <td>1096.020619</td>\n",
       "      <td>0.45</td>\n",
       "      <td>10.3</td>\n",
       "      <td>0.125693</td>\n",
       "    </tr>\n",
       "    <tr>\n",
       "      <th>2</th>\n",
       "      <td>1005</td>\n",
       "      <td>5909</td>\n",
       "      <td>27.1</td>\n",
       "      <td>2050</td>\n",
       "      <td>41.0</td>\n",
       "      <td>35972</td>\n",
       "      <td>AL</td>\n",
       "      <td>Barbour County</td>\n",
       "      <td>6.0</td>\n",
       "      <td>6.0</td>\n",
       "      <td>...</td>\n",
       "      <td>5.6</td>\n",
       "      <td>0.282</td>\n",
       "      <td>0.126987</td>\n",
       "      <td>45.092838</td>\n",
       "      <td>0.000385</td>\n",
       "      <td>2596.500000</td>\n",
       "      <td>12635.000000</td>\n",
       "      <td>0.46</td>\n",
       "      <td>11.5</td>\n",
       "      <td>0.136743</td>\n",
       "    </tr>\n",
       "    <tr>\n",
       "      <th>3</th>\n",
       "      <td>1007</td>\n",
       "      <td>4101</td>\n",
       "      <td>20.3</td>\n",
       "      <td>1147</td>\n",
       "      <td>25.9</td>\n",
       "      <td>47918</td>\n",
       "      <td>AL</td>\n",
       "      <td>Bibb County</td>\n",
       "      <td>1.0</td>\n",
       "      <td>1.0</td>\n",
       "      <td>...</td>\n",
       "      <td>7.6</td>\n",
       "      <td>0.349</td>\n",
       "      <td>0.159252</td>\n",
       "      <td>45.454545</td>\n",
       "      <td>0.000574</td>\n",
       "      <td>1741.769231</td>\n",
       "      <td>11334.000000</td>\n",
       "      <td>0.44</td>\n",
       "      <td>11.2</td>\n",
       "      <td>0.108081</td>\n",
       "    </tr>\n",
       "    <tr>\n",
       "      <th>4</th>\n",
       "      <td>1009</td>\n",
       "      <td>9324</td>\n",
       "      <td>16.3</td>\n",
       "      <td>2750</td>\n",
       "      <td>21.0</td>\n",
       "      <td>52902</td>\n",
       "      <td>AL</td>\n",
       "      <td>Blount County</td>\n",
       "      <td>1.0</td>\n",
       "      <td>1.0</td>\n",
       "      <td>...</td>\n",
       "      <td>8.5</td>\n",
       "      <td>0.285</td>\n",
       "      <td>0.153787</td>\n",
       "      <td>35.600555</td>\n",
       "      <td>0.000225</td>\n",
       "      <td>4438.769231</td>\n",
       "      <td>9668.833333</td>\n",
       "      <td>0.36</td>\n",
       "      <td>11.7</td>\n",
       "      <td>0.079459</td>\n",
       "    </tr>\n",
       "    <tr>\n",
       "      <th>...</th>\n",
       "      <td>...</td>\n",
       "      <td>...</td>\n",
       "      <td>...</td>\n",
       "      <td>...</td>\n",
       "      <td>...</td>\n",
       "      <td>...</td>\n",
       "      <td>...</td>\n",
       "      <td>...</td>\n",
       "      <td>...</td>\n",
       "      <td>...</td>\n",
       "      <td>...</td>\n",
       "      <td>...</td>\n",
       "      <td>...</td>\n",
       "      <td>...</td>\n",
       "      <td>...</td>\n",
       "      <td>...</td>\n",
       "      <td>...</td>\n",
       "      <td>...</td>\n",
       "      <td>...</td>\n",
       "      <td>...</td>\n",
       "      <td>...</td>\n",
       "    </tr>\n",
       "    <tr>\n",
       "      <th>3128</th>\n",
       "      <td>56037</td>\n",
       "      <td>3453</td>\n",
       "      <td>8.3</td>\n",
       "      <td>1075</td>\n",
       "      <td>10.1</td>\n",
       "      <td>80639</td>\n",
       "      <td>WY</td>\n",
       "      <td>Sweetwater County</td>\n",
       "      <td>5.0</td>\n",
       "      <td>8.0</td>\n",
       "      <td>...</td>\n",
       "      <td>7.7</td>\n",
       "      <td>0.256</td>\n",
       "      <td>0.203251</td>\n",
       "      <td>34.261671</td>\n",
       "      <td>0.000340</td>\n",
       "      <td>2944.333333</td>\n",
       "      <td>435.340000</td>\n",
       "      <td>0.34</td>\n",
       "      <td>5.1</td>\n",
       "      <td>0.070371</td>\n",
       "    </tr>\n",
       "    <tr>\n",
       "      <th>3129</th>\n",
       "      <td>56039</td>\n",
       "      <td>1396</td>\n",
       "      <td>6.0</td>\n",
       "      <td>236</td>\n",
       "      <td>5.7</td>\n",
       "      <td>98837</td>\n",
       "      <td>WY</td>\n",
       "      <td>Teton County</td>\n",
       "      <td>7.0</td>\n",
       "      <td>8.0</td>\n",
       "      <td>...</td>\n",
       "      <td>8.3</td>\n",
       "      <td>0.120</td>\n",
       "      <td>0.204511</td>\n",
       "      <td>11.641444</td>\n",
       "      <td>0.001207</td>\n",
       "      <td>828.250000</td>\n",
       "      <td>239.845361</td>\n",
       "      <td>0.45</td>\n",
       "      <td>4.9</td>\n",
       "      <td>0.113012</td>\n",
       "    </tr>\n",
       "    <tr>\n",
       "      <th>3130</th>\n",
       "      <td>56041</td>\n",
       "      <td>1699</td>\n",
       "      <td>8.5</td>\n",
       "      <td>541</td>\n",
       "      <td>9.6</td>\n",
       "      <td>70756</td>\n",
       "      <td>WY</td>\n",
       "      <td>Uinta County</td>\n",
       "      <td>7.0</td>\n",
       "      <td>8.0</td>\n",
       "      <td>...</td>\n",
       "      <td>7.3</td>\n",
       "      <td>0.235</td>\n",
       "      <td>0.160586</td>\n",
       "      <td>31.798673</td>\n",
       "      <td>0.000385</td>\n",
       "      <td>2596.625000</td>\n",
       "      <td>292.785714</td>\n",
       "      <td>0.31</td>\n",
       "      <td>5.9</td>\n",
       "      <td>0.087542</td>\n",
       "    </tr>\n",
       "    <tr>\n",
       "      <th>3131</th>\n",
       "      <td>56043</td>\n",
       "      <td>845</td>\n",
       "      <td>11.1</td>\n",
       "      <td>237</td>\n",
       "      <td>13.9</td>\n",
       "      <td>55122</td>\n",
       "      <td>WY</td>\n",
       "      <td>Washakie County</td>\n",
       "      <td>7.0</td>\n",
       "      <td>11.0</td>\n",
       "      <td>...</td>\n",
       "      <td>8.2</td>\n",
       "      <td>0.260</td>\n",
       "      <td>0.163430</td>\n",
       "      <td>27.649770</td>\n",
       "      <td>0.000486</td>\n",
       "      <td>2058.750000</td>\n",
       "      <td>288.000000</td>\n",
       "      <td>0.29</td>\n",
       "      <td>4.8</td>\n",
       "      <td>0.084535</td>\n",
       "    </tr>\n",
       "    <tr>\n",
       "      <th>3132</th>\n",
       "      <td>56045</td>\n",
       "      <td>692</td>\n",
       "      <td>10.5</td>\n",
       "      <td>189</td>\n",
       "      <td>13.8</td>\n",
       "      <td>59410</td>\n",
       "      <td>WY</td>\n",
       "      <td>Weston County</td>\n",
       "      <td>7.0</td>\n",
       "      <td>9.0</td>\n",
       "      <td>...</td>\n",
       "      <td>7.9</td>\n",
       "      <td>0.225</td>\n",
       "      <td>0.178570</td>\n",
       "      <td>32.462391</td>\n",
       "      <td>0.000415</td>\n",
       "      <td>2412.000000</td>\n",
       "      <td>577.250000</td>\n",
       "      <td>0.31</td>\n",
       "      <td>4.1</td>\n",
       "      <td>0.116129</td>\n",
       "    </tr>\n",
       "  </tbody>\n",
       "</table>\n",
       "<p>2695 rows × 61 columns</p>\n",
       "</div>"
      ],
      "text/plain": [
       "       FIPS POVALL_2019  PCTPOVALL_2019 POV017_2019  PCTPOV017_2019  \\\n",
       "0      1001        6723            12.1        2040            15.9   \n",
       "1      1003       22360            10.1        6323            13.5   \n",
       "2      1005        5909            27.1        2050            41.0   \n",
       "3      1007        4101            20.3        1147            25.9   \n",
       "4      1009        9324            16.3        2750            21.0   \n",
       "...     ...         ...             ...         ...             ...   \n",
       "3128  56037        3453             8.3        1075            10.1   \n",
       "3129  56039        1396             6.0         236             5.7   \n",
       "3130  56041        1699             8.5         541             9.6   \n",
       "3131  56043         845            11.1         237            13.9   \n",
       "3132  56045         692            10.5         189            13.8   \n",
       "\n",
       "     MEDHHINC_2019 State          Area name  2013 Rural-urban Continuum Code  \\\n",
       "0            58233    AL     Autauga County                              2.0   \n",
       "1            59871    AL     Baldwin County                              3.0   \n",
       "2            35972    AL     Barbour County                              6.0   \n",
       "3            47918    AL        Bibb County                              1.0   \n",
       "4            52902    AL      Blount County                              1.0   \n",
       "...            ...   ...                ...                              ...   \n",
       "3128         80639    WY  Sweetwater County                              5.0   \n",
       "3129         98837    WY       Teton County                              7.0   \n",
       "3130         70756    WY       Uinta County                              7.0   \n",
       "3131         55122    WY    Washakie County                              7.0   \n",
       "3132         59410    WY      Weston County                              7.0   \n",
       "\n",
       "      2013 Urban Influence Code  ...  Food environment index raw value  \\\n",
       "0                           2.0  ...                               7.2   \n",
       "1                           2.0  ...                               8.0   \n",
       "2                           6.0  ...                               5.6   \n",
       "3                           1.0  ...                               7.6   \n",
       "4                           1.0  ...                               8.5   \n",
       "...                         ...  ...                               ...   \n",
       "3128                        8.0  ...                               7.7   \n",
       "3129                        8.0  ...                               8.3   \n",
       "3130                        8.0  ...                               7.3   \n",
       "3131                       11.0  ...                               8.2   \n",
       "3132                        9.0  ...                               7.9   \n",
       "\n",
       "      Physical inactivity raw value  Excessive drinking raw value  \\\n",
       "0                             0.311                      0.168780   \n",
       "1                             0.238                      0.167150   \n",
       "2                             0.282                      0.126987   \n",
       "3                             0.349                      0.159252   \n",
       "4                             0.285                      0.153787   \n",
       "...                             ...                           ...   \n",
       "3128                          0.256                      0.203251   \n",
       "3129                          0.120                      0.204511   \n",
       "3130                          0.235                      0.160586   \n",
       "3131                          0.260                      0.163430   \n",
       "3132                          0.225                      0.178570   \n",
       "\n",
       "      Teen births raw value  Primary care physicians raw value  \\\n",
       "0                 26.524208                           0.000415   \n",
       "1                 29.594009                           0.000729   \n",
       "2                 45.092838                           0.000385   \n",
       "3                 45.454545                           0.000574   \n",
       "4                 35.600555                           0.000225   \n",
       "...                     ...                                ...   \n",
       "3128              34.261671                           0.000340   \n",
       "3129              11.641444                           0.001207   \n",
       "3130              31.798673                           0.000385   \n",
       "3131              27.649770                           0.000486   \n",
       "3132              32.462391                           0.000415   \n",
       "\n",
       "      Ratio of population to primary care physicians.  \\\n",
       "0                                         2409.391304   \n",
       "1                                         1372.125000   \n",
       "2                                         2596.500000   \n",
       "3                                         1741.769231   \n",
       "4                                         4438.769231   \n",
       "...                                               ...   \n",
       "3128                                      2944.333333   \n",
       "3129                                       828.250000   \n",
       "3130                                      2596.625000   \n",
       "3131                                      2058.750000   \n",
       "3132                                      2412.000000   \n",
       "\n",
       "      Ratio of population to mental health providers.  \\\n",
       "0                                         6167.111111   \n",
       "1                                         1096.020619   \n",
       "2                                        12635.000000   \n",
       "3                                        11334.000000   \n",
       "4                                         9668.833333   \n",
       "...                                               ...   \n",
       "3128                                       435.340000   \n",
       "3129                                       239.845361   \n",
       "3130                                       292.785714   \n",
       "3131                                       288.000000   \n",
       "3132                                       577.250000   \n",
       "\n",
       "      Mammography screening raw value  \\\n",
       "0                                0.44   \n",
       "1                                0.45   \n",
       "2                                0.46   \n",
       "3                                0.44   \n",
       "4                                0.36   \n",
       "...                               ...   \n",
       "3128                             0.34   \n",
       "3129                             0.45   \n",
       "3130                             0.31   \n",
       "3131                             0.29   \n",
       "3132                             0.31   \n",
       "\n",
       "      Air pollution - particulate matter raw value  \\\n",
       "0                                             11.7   \n",
       "1                                             10.3   \n",
       "2                                             11.5   \n",
       "3                                             11.2   \n",
       "4                                             11.7   \n",
       "...                                            ...   \n",
       "3128                                           5.1   \n",
       "3129                                           4.9   \n",
       "3130                                           5.9   \n",
       "3131                                           4.8   \n",
       "3132                                           4.1   \n",
       "\n",
       "      Percentage of households with high housing costs  \n",
       "0                                             0.132052  \n",
       "1                                             0.125693  \n",
       "2                                             0.136743  \n",
       "3                                             0.108081  \n",
       "4                                             0.079459  \n",
       "...                                                ...  \n",
       "3128                                          0.070371  \n",
       "3129                                          0.113012  \n",
       "3130                                          0.087542  \n",
       "3131                                          0.084535  \n",
       "3132                                          0.116129  \n",
       "\n",
       "[2695 rows x 61 columns]"
      ]
     },
     "execution_count": 14,
     "metadata": {},
     "output_type": "execute_result"
    }
   ],
   "source": [
    "all_data.replace(',','', regex=True, inplace=True)\n",
    "all_data"
   ]
  },
  {
   "cell_type": "code",
   "execution_count": 15,
   "id": "e5be1686",
   "metadata": {},
   "outputs": [],
   "source": [
    "all_data = all_data[all_data['Death Rate'] != '* ']"
   ]
  },
  {
   "cell_type": "code",
   "execution_count": 16,
   "id": "6fef804a",
   "metadata": {},
   "outputs": [],
   "source": [
    "X = all_data.drop(columns=['Death Rate', 'State', 'Area name'])\n",
    "y = all_data['Death Rate']"
   ]
  },
  {
   "cell_type": "code",
   "execution_count": 17,
   "id": "0775ac2b",
   "metadata": {},
   "outputs": [
    {
     "data": {
      "text/plain": [
       "array([165.85, 182.2 , 186.24, 191.3 ])"
      ]
     },
     "execution_count": 17,
     "metadata": {},
     "output_type": "execute_result"
    }
   ],
   "source": [
    "y = y.astype(float)\n",
    "np.percentile(y, [50,75,80,85])"
   ]
  },
  {
   "cell_type": "code",
   "execution_count": 18,
   "id": "c290d453",
   "metadata": {
    "scrolled": true
   },
   "outputs": [
    {
     "data": {
      "text/html": [
       "<div>\n",
       "<style scoped>\n",
       "    .dataframe tbody tr th:only-of-type {\n",
       "        vertical-align: middle;\n",
       "    }\n",
       "\n",
       "    .dataframe tbody tr th {\n",
       "        vertical-align: top;\n",
       "    }\n",
       "\n",
       "    .dataframe thead th {\n",
       "        text-align: right;\n",
       "    }\n",
       "</style>\n",
       "<table border=\"1\" class=\"dataframe\">\n",
       "  <thead>\n",
       "    <tr style=\"text-align: right;\">\n",
       "      <th></th>\n",
       "      <th>AL</th>\n",
       "      <th>AR</th>\n",
       "      <th>AZ</th>\n",
       "      <th>CA</th>\n",
       "      <th>CO</th>\n",
       "      <th>CT</th>\n",
       "      <th>DC</th>\n",
       "      <th>DE</th>\n",
       "      <th>FL</th>\n",
       "      <th>GA</th>\n",
       "      <th>...</th>\n",
       "      <th>SD</th>\n",
       "      <th>TN</th>\n",
       "      <th>TX</th>\n",
       "      <th>UT</th>\n",
       "      <th>VA</th>\n",
       "      <th>VT</th>\n",
       "      <th>WA</th>\n",
       "      <th>WI</th>\n",
       "      <th>WV</th>\n",
       "      <th>WY</th>\n",
       "    </tr>\n",
       "  </thead>\n",
       "  <tbody>\n",
       "    <tr>\n",
       "      <th>0</th>\n",
       "      <td>1</td>\n",
       "      <td>0</td>\n",
       "      <td>0</td>\n",
       "      <td>0</td>\n",
       "      <td>0</td>\n",
       "      <td>0</td>\n",
       "      <td>0</td>\n",
       "      <td>0</td>\n",
       "      <td>0</td>\n",
       "      <td>0</td>\n",
       "      <td>...</td>\n",
       "      <td>0</td>\n",
       "      <td>0</td>\n",
       "      <td>0</td>\n",
       "      <td>0</td>\n",
       "      <td>0</td>\n",
       "      <td>0</td>\n",
       "      <td>0</td>\n",
       "      <td>0</td>\n",
       "      <td>0</td>\n",
       "      <td>0</td>\n",
       "    </tr>\n",
       "    <tr>\n",
       "      <th>1</th>\n",
       "      <td>1</td>\n",
       "      <td>0</td>\n",
       "      <td>0</td>\n",
       "      <td>0</td>\n",
       "      <td>0</td>\n",
       "      <td>0</td>\n",
       "      <td>0</td>\n",
       "      <td>0</td>\n",
       "      <td>0</td>\n",
       "      <td>0</td>\n",
       "      <td>...</td>\n",
       "      <td>0</td>\n",
       "      <td>0</td>\n",
       "      <td>0</td>\n",
       "      <td>0</td>\n",
       "      <td>0</td>\n",
       "      <td>0</td>\n",
       "      <td>0</td>\n",
       "      <td>0</td>\n",
       "      <td>0</td>\n",
       "      <td>0</td>\n",
       "    </tr>\n",
       "    <tr>\n",
       "      <th>2</th>\n",
       "      <td>1</td>\n",
       "      <td>0</td>\n",
       "      <td>0</td>\n",
       "      <td>0</td>\n",
       "      <td>0</td>\n",
       "      <td>0</td>\n",
       "      <td>0</td>\n",
       "      <td>0</td>\n",
       "      <td>0</td>\n",
       "      <td>0</td>\n",
       "      <td>...</td>\n",
       "      <td>0</td>\n",
       "      <td>0</td>\n",
       "      <td>0</td>\n",
       "      <td>0</td>\n",
       "      <td>0</td>\n",
       "      <td>0</td>\n",
       "      <td>0</td>\n",
       "      <td>0</td>\n",
       "      <td>0</td>\n",
       "      <td>0</td>\n",
       "    </tr>\n",
       "    <tr>\n",
       "      <th>3</th>\n",
       "      <td>1</td>\n",
       "      <td>0</td>\n",
       "      <td>0</td>\n",
       "      <td>0</td>\n",
       "      <td>0</td>\n",
       "      <td>0</td>\n",
       "      <td>0</td>\n",
       "      <td>0</td>\n",
       "      <td>0</td>\n",
       "      <td>0</td>\n",
       "      <td>...</td>\n",
       "      <td>0</td>\n",
       "      <td>0</td>\n",
       "      <td>0</td>\n",
       "      <td>0</td>\n",
       "      <td>0</td>\n",
       "      <td>0</td>\n",
       "      <td>0</td>\n",
       "      <td>0</td>\n",
       "      <td>0</td>\n",
       "      <td>0</td>\n",
       "    </tr>\n",
       "    <tr>\n",
       "      <th>4</th>\n",
       "      <td>1</td>\n",
       "      <td>0</td>\n",
       "      <td>0</td>\n",
       "      <td>0</td>\n",
       "      <td>0</td>\n",
       "      <td>0</td>\n",
       "      <td>0</td>\n",
       "      <td>0</td>\n",
       "      <td>0</td>\n",
       "      <td>0</td>\n",
       "      <td>...</td>\n",
       "      <td>0</td>\n",
       "      <td>0</td>\n",
       "      <td>0</td>\n",
       "      <td>0</td>\n",
       "      <td>0</td>\n",
       "      <td>0</td>\n",
       "      <td>0</td>\n",
       "      <td>0</td>\n",
       "      <td>0</td>\n",
       "      <td>0</td>\n",
       "    </tr>\n",
       "  </tbody>\n",
       "</table>\n",
       "<p>5 rows × 49 columns</p>\n",
       "</div>"
      ],
      "text/plain": [
       "   AL  AR  AZ  CA  CO  CT  DC  DE  FL  GA  ...  SD  TN  TX  UT  VA  VT  WA  \\\n",
       "0   1   0   0   0   0   0   0   0   0   0  ...   0   0   0   0   0   0   0   \n",
       "1   1   0   0   0   0   0   0   0   0   0  ...   0   0   0   0   0   0   0   \n",
       "2   1   0   0   0   0   0   0   0   0   0  ...   0   0   0   0   0   0   0   \n",
       "3   1   0   0   0   0   0   0   0   0   0  ...   0   0   0   0   0   0   0   \n",
       "4   1   0   0   0   0   0   0   0   0   0  ...   0   0   0   0   0   0   0   \n",
       "\n",
       "   WI  WV  WY  \n",
       "0   0   0   0  \n",
       "1   0   0   0  \n",
       "2   0   0   0  \n",
       "3   0   0   0  \n",
       "4   0   0   0  \n",
       "\n",
       "[5 rows x 49 columns]"
      ]
     },
     "execution_count": 18,
     "metadata": {},
     "output_type": "execute_result"
    }
   ],
   "source": [
    "dummies = pd.get_dummies(all_data['State'])\n",
    "dummies.shape\n",
    "dummies.head()"
   ]
  },
  {
   "cell_type": "code",
   "execution_count": 19,
   "id": "881e24b5",
   "metadata": {},
   "outputs": [],
   "source": [
    "dummies = dummies.drop(columns=['UT'])"
   ]
  },
  {
   "cell_type": "code",
   "execution_count": 20,
   "id": "ca809342",
   "metadata": {},
   "outputs": [
    {
     "data": {
      "text/html": [
       "<div>\n",
       "<style scoped>\n",
       "    .dataframe tbody tr th:only-of-type {\n",
       "        vertical-align: middle;\n",
       "    }\n",
       "\n",
       "    .dataframe tbody tr th {\n",
       "        vertical-align: top;\n",
       "    }\n",
       "\n",
       "    .dataframe thead th {\n",
       "        text-align: right;\n",
       "    }\n",
       "</style>\n",
       "<table border=\"1\" class=\"dataframe\">\n",
       "  <thead>\n",
       "    <tr style=\"text-align: right;\">\n",
       "      <th></th>\n",
       "      <th>FIPS</th>\n",
       "      <th>POVALL_2019</th>\n",
       "      <th>PCTPOVALL_2019</th>\n",
       "      <th>POV017_2019</th>\n",
       "      <th>PCTPOV017_2019</th>\n",
       "      <th>MEDHHINC_2019</th>\n",
       "      <th>State</th>\n",
       "      <th>Area name</th>\n",
       "      <th>2013 Rural-urban Continuum Code</th>\n",
       "      <th>2013 Urban Influence Code</th>\n",
       "      <th>...</th>\n",
       "      <th>Food environment index raw value</th>\n",
       "      <th>Physical inactivity raw value</th>\n",
       "      <th>Excessive drinking raw value</th>\n",
       "      <th>Teen births raw value</th>\n",
       "      <th>Primary care physicians raw value</th>\n",
       "      <th>Ratio of population to primary care physicians.</th>\n",
       "      <th>Ratio of population to mental health providers.</th>\n",
       "      <th>Mammography screening raw value</th>\n",
       "      <th>Air pollution - particulate matter raw value</th>\n",
       "      <th>Percentage of households with high housing costs</th>\n",
       "    </tr>\n",
       "  </thead>\n",
       "  <tbody>\n",
       "    <tr>\n",
       "      <th>0</th>\n",
       "      <td>1001</td>\n",
       "      <td>6723</td>\n",
       "      <td>12.1</td>\n",
       "      <td>2040</td>\n",
       "      <td>15.9</td>\n",
       "      <td>58233</td>\n",
       "      <td>AL</td>\n",
       "      <td>Autauga County</td>\n",
       "      <td>2.0</td>\n",
       "      <td>2.0</td>\n",
       "      <td>...</td>\n",
       "      <td>7.2</td>\n",
       "      <td>0.311</td>\n",
       "      <td>0.168780</td>\n",
       "      <td>26.524208</td>\n",
       "      <td>0.000415</td>\n",
       "      <td>2409.391304</td>\n",
       "      <td>6167.111111</td>\n",
       "      <td>0.44</td>\n",
       "      <td>11.7</td>\n",
       "      <td>0.132052</td>\n",
       "    </tr>\n",
       "    <tr>\n",
       "      <th>1</th>\n",
       "      <td>1003</td>\n",
       "      <td>22360</td>\n",
       "      <td>10.1</td>\n",
       "      <td>6323</td>\n",
       "      <td>13.5</td>\n",
       "      <td>59871</td>\n",
       "      <td>AL</td>\n",
       "      <td>Baldwin County</td>\n",
       "      <td>3.0</td>\n",
       "      <td>2.0</td>\n",
       "      <td>...</td>\n",
       "      <td>8.0</td>\n",
       "      <td>0.238</td>\n",
       "      <td>0.167150</td>\n",
       "      <td>29.594009</td>\n",
       "      <td>0.000729</td>\n",
       "      <td>1372.125000</td>\n",
       "      <td>1096.020619</td>\n",
       "      <td>0.45</td>\n",
       "      <td>10.3</td>\n",
       "      <td>0.125693</td>\n",
       "    </tr>\n",
       "    <tr>\n",
       "      <th>2</th>\n",
       "      <td>1005</td>\n",
       "      <td>5909</td>\n",
       "      <td>27.1</td>\n",
       "      <td>2050</td>\n",
       "      <td>41.0</td>\n",
       "      <td>35972</td>\n",
       "      <td>AL</td>\n",
       "      <td>Barbour County</td>\n",
       "      <td>6.0</td>\n",
       "      <td>6.0</td>\n",
       "      <td>...</td>\n",
       "      <td>5.6</td>\n",
       "      <td>0.282</td>\n",
       "      <td>0.126987</td>\n",
       "      <td>45.092838</td>\n",
       "      <td>0.000385</td>\n",
       "      <td>2596.500000</td>\n",
       "      <td>12635.000000</td>\n",
       "      <td>0.46</td>\n",
       "      <td>11.5</td>\n",
       "      <td>0.136743</td>\n",
       "    </tr>\n",
       "    <tr>\n",
       "      <th>3</th>\n",
       "      <td>1007</td>\n",
       "      <td>4101</td>\n",
       "      <td>20.3</td>\n",
       "      <td>1147</td>\n",
       "      <td>25.9</td>\n",
       "      <td>47918</td>\n",
       "      <td>AL</td>\n",
       "      <td>Bibb County</td>\n",
       "      <td>1.0</td>\n",
       "      <td>1.0</td>\n",
       "      <td>...</td>\n",
       "      <td>7.6</td>\n",
       "      <td>0.349</td>\n",
       "      <td>0.159252</td>\n",
       "      <td>45.454545</td>\n",
       "      <td>0.000574</td>\n",
       "      <td>1741.769231</td>\n",
       "      <td>11334.000000</td>\n",
       "      <td>0.44</td>\n",
       "      <td>11.2</td>\n",
       "      <td>0.108081</td>\n",
       "    </tr>\n",
       "    <tr>\n",
       "      <th>4</th>\n",
       "      <td>1009</td>\n",
       "      <td>9324</td>\n",
       "      <td>16.3</td>\n",
       "      <td>2750</td>\n",
       "      <td>21.0</td>\n",
       "      <td>52902</td>\n",
       "      <td>AL</td>\n",
       "      <td>Blount County</td>\n",
       "      <td>1.0</td>\n",
       "      <td>1.0</td>\n",
       "      <td>...</td>\n",
       "      <td>8.5</td>\n",
       "      <td>0.285</td>\n",
       "      <td>0.153787</td>\n",
       "      <td>35.600555</td>\n",
       "      <td>0.000225</td>\n",
       "      <td>4438.769231</td>\n",
       "      <td>9668.833333</td>\n",
       "      <td>0.36</td>\n",
       "      <td>11.7</td>\n",
       "      <td>0.079459</td>\n",
       "    </tr>\n",
       "  </tbody>\n",
       "</table>\n",
       "<p>5 rows × 61 columns</p>\n",
       "</div>"
      ],
      "text/plain": [
       "   FIPS POVALL_2019  PCTPOVALL_2019 POV017_2019  PCTPOV017_2019 MEDHHINC_2019  \\\n",
       "0  1001        6723            12.1        2040            15.9         58233   \n",
       "1  1003       22360            10.1        6323            13.5         59871   \n",
       "2  1005        5909            27.1        2050            41.0         35972   \n",
       "3  1007        4101            20.3        1147            25.9         47918   \n",
       "4  1009        9324            16.3        2750            21.0         52902   \n",
       "\n",
       "  State       Area name  2013 Rural-urban Continuum Code  \\\n",
       "0    AL  Autauga County                              2.0   \n",
       "1    AL  Baldwin County                              3.0   \n",
       "2    AL  Barbour County                              6.0   \n",
       "3    AL     Bibb County                              1.0   \n",
       "4    AL   Blount County                              1.0   \n",
       "\n",
       "   2013 Urban Influence Code  ...  Food environment index raw value  \\\n",
       "0                        2.0  ...                               7.2   \n",
       "1                        2.0  ...                               8.0   \n",
       "2                        6.0  ...                               5.6   \n",
       "3                        1.0  ...                               7.6   \n",
       "4                        1.0  ...                               8.5   \n",
       "\n",
       "   Physical inactivity raw value  Excessive drinking raw value  \\\n",
       "0                          0.311                      0.168780   \n",
       "1                          0.238                      0.167150   \n",
       "2                          0.282                      0.126987   \n",
       "3                          0.349                      0.159252   \n",
       "4                          0.285                      0.153787   \n",
       "\n",
       "   Teen births raw value  Primary care physicians raw value  \\\n",
       "0              26.524208                           0.000415   \n",
       "1              29.594009                           0.000729   \n",
       "2              45.092838                           0.000385   \n",
       "3              45.454545                           0.000574   \n",
       "4              35.600555                           0.000225   \n",
       "\n",
       "   Ratio of population to primary care physicians.  \\\n",
       "0                                      2409.391304   \n",
       "1                                      1372.125000   \n",
       "2                                      2596.500000   \n",
       "3                                      1741.769231   \n",
       "4                                      4438.769231   \n",
       "\n",
       "   Ratio of population to mental health providers.  \\\n",
       "0                                      6167.111111   \n",
       "1                                      1096.020619   \n",
       "2                                     12635.000000   \n",
       "3                                     11334.000000   \n",
       "4                                      9668.833333   \n",
       "\n",
       "   Mammography screening raw value  \\\n",
       "0                             0.44   \n",
       "1                             0.45   \n",
       "2                             0.46   \n",
       "3                             0.44   \n",
       "4                             0.36   \n",
       "\n",
       "   Air pollution - particulate matter raw value  \\\n",
       "0                                          11.7   \n",
       "1                                          10.3   \n",
       "2                                          11.5   \n",
       "3                                          11.2   \n",
       "4                                          11.7   \n",
       "\n",
       "   Percentage of households with high housing costs  \n",
       "0                                          0.132052  \n",
       "1                                          0.125693  \n",
       "2                                          0.136743  \n",
       "3                                          0.108081  \n",
       "4                                          0.079459  \n",
       "\n",
       "[5 rows x 61 columns]"
      ]
     },
     "execution_count": 20,
     "metadata": {},
     "output_type": "execute_result"
    }
   ],
   "source": [
    "all_data.shape\n",
    "all_data.head()"
   ]
  },
  {
   "cell_type": "markdown",
   "id": "c44008da",
   "metadata": {
    "slideshow": {
     "slide_type": "slide"
    }
   },
   "source": [
    "Ok, since our dimensions are consistent, we can merge these tables. "
   ]
  },
  {
   "cell_type": "code",
   "execution_count": 21,
   "id": "54e90fcc",
   "metadata": {},
   "outputs": [],
   "source": [
    "X = pd.merge(X, dummies, right_index=True, left_index=True)"
   ]
  },
  {
   "cell_type": "code",
   "execution_count": 22,
   "id": "5d4edfc3",
   "metadata": {},
   "outputs": [
    {
     "data": {
      "text/html": [
       "<div>\n",
       "<style scoped>\n",
       "    .dataframe tbody tr th:only-of-type {\n",
       "        vertical-align: middle;\n",
       "    }\n",
       "\n",
       "    .dataframe tbody tr th {\n",
       "        vertical-align: top;\n",
       "    }\n",
       "\n",
       "    .dataframe thead th {\n",
       "        text-align: right;\n",
       "    }\n",
       "</style>\n",
       "<table border=\"1\" class=\"dataframe\">\n",
       "  <thead>\n",
       "    <tr style=\"text-align: right;\">\n",
       "      <th></th>\n",
       "      <th>FIPS</th>\n",
       "      <th>POVALL_2019</th>\n",
       "      <th>PCTPOVALL_2019</th>\n",
       "      <th>POV017_2019</th>\n",
       "      <th>PCTPOV017_2019</th>\n",
       "      <th>MEDHHINC_2019</th>\n",
       "      <th>2013 Rural-urban Continuum Code</th>\n",
       "      <th>2013 Urban Influence Code</th>\n",
       "      <th>Percent of adults with less than a high school diploma, 1970</th>\n",
       "      <th>Percent of adults with a high school diploma only, 1970</th>\n",
       "      <th>...</th>\n",
       "      <th>SC</th>\n",
       "      <th>SD</th>\n",
       "      <th>TN</th>\n",
       "      <th>TX</th>\n",
       "      <th>VA</th>\n",
       "      <th>VT</th>\n",
       "      <th>WA</th>\n",
       "      <th>WI</th>\n",
       "      <th>WV</th>\n",
       "      <th>WY</th>\n",
       "    </tr>\n",
       "  </thead>\n",
       "  <tbody>\n",
       "    <tr>\n",
       "      <th>0</th>\n",
       "      <td>1001</td>\n",
       "      <td>6723</td>\n",
       "      <td>12.1</td>\n",
       "      <td>2040</td>\n",
       "      <td>15.9</td>\n",
       "      <td>58233</td>\n",
       "      <td>2.0</td>\n",
       "      <td>2.0</td>\n",
       "      <td>54.8</td>\n",
       "      <td>31.1</td>\n",
       "      <td>...</td>\n",
       "      <td>0</td>\n",
       "      <td>0</td>\n",
       "      <td>0</td>\n",
       "      <td>0</td>\n",
       "      <td>0</td>\n",
       "      <td>0</td>\n",
       "      <td>0</td>\n",
       "      <td>0</td>\n",
       "      <td>0</td>\n",
       "      <td>0</td>\n",
       "    </tr>\n",
       "    <tr>\n",
       "      <th>1</th>\n",
       "      <td>1003</td>\n",
       "      <td>22360</td>\n",
       "      <td>10.1</td>\n",
       "      <td>6323</td>\n",
       "      <td>13.5</td>\n",
       "      <td>59871</td>\n",
       "      <td>3.0</td>\n",
       "      <td>2.0</td>\n",
       "      <td>59.4</td>\n",
       "      <td>26.7</td>\n",
       "      <td>...</td>\n",
       "      <td>0</td>\n",
       "      <td>0</td>\n",
       "      <td>0</td>\n",
       "      <td>0</td>\n",
       "      <td>0</td>\n",
       "      <td>0</td>\n",
       "      <td>0</td>\n",
       "      <td>0</td>\n",
       "      <td>0</td>\n",
       "      <td>0</td>\n",
       "    </tr>\n",
       "    <tr>\n",
       "      <th>2</th>\n",
       "      <td>1005</td>\n",
       "      <td>5909</td>\n",
       "      <td>27.1</td>\n",
       "      <td>2050</td>\n",
       "      <td>41.0</td>\n",
       "      <td>35972</td>\n",
       "      <td>6.0</td>\n",
       "      <td>6.0</td>\n",
       "      <td>68.8</td>\n",
       "      <td>19.0</td>\n",
       "      <td>...</td>\n",
       "      <td>0</td>\n",
       "      <td>0</td>\n",
       "      <td>0</td>\n",
       "      <td>0</td>\n",
       "      <td>0</td>\n",
       "      <td>0</td>\n",
       "      <td>0</td>\n",
       "      <td>0</td>\n",
       "      <td>0</td>\n",
       "      <td>0</td>\n",
       "    </tr>\n",
       "    <tr>\n",
       "      <th>3</th>\n",
       "      <td>1007</td>\n",
       "      <td>4101</td>\n",
       "      <td>20.3</td>\n",
       "      <td>1147</td>\n",
       "      <td>25.9</td>\n",
       "      <td>47918</td>\n",
       "      <td>1.0</td>\n",
       "      <td>1.0</td>\n",
       "      <td>73.1</td>\n",
       "      <td>19.4</td>\n",
       "      <td>...</td>\n",
       "      <td>0</td>\n",
       "      <td>0</td>\n",
       "      <td>0</td>\n",
       "      <td>0</td>\n",
       "      <td>0</td>\n",
       "      <td>0</td>\n",
       "      <td>0</td>\n",
       "      <td>0</td>\n",
       "      <td>0</td>\n",
       "      <td>0</td>\n",
       "    </tr>\n",
       "    <tr>\n",
       "      <th>4</th>\n",
       "      <td>1009</td>\n",
       "      <td>9324</td>\n",
       "      <td>16.3</td>\n",
       "      <td>2750</td>\n",
       "      <td>21.0</td>\n",
       "      <td>52902</td>\n",
       "      <td>1.0</td>\n",
       "      <td>1.0</td>\n",
       "      <td>70.5</td>\n",
       "      <td>22.7</td>\n",
       "      <td>...</td>\n",
       "      <td>0</td>\n",
       "      <td>0</td>\n",
       "      <td>0</td>\n",
       "      <td>0</td>\n",
       "      <td>0</td>\n",
       "      <td>0</td>\n",
       "      <td>0</td>\n",
       "      <td>0</td>\n",
       "      <td>0</td>\n",
       "      <td>0</td>\n",
       "    </tr>\n",
       "  </tbody>\n",
       "</table>\n",
       "<p>5 rows × 106 columns</p>\n",
       "</div>"
      ],
      "text/plain": [
       "   FIPS POVALL_2019  PCTPOVALL_2019 POV017_2019  PCTPOV017_2019 MEDHHINC_2019  \\\n",
       "0  1001        6723            12.1        2040            15.9         58233   \n",
       "1  1003       22360            10.1        6323            13.5         59871   \n",
       "2  1005        5909            27.1        2050            41.0         35972   \n",
       "3  1007        4101            20.3        1147            25.9         47918   \n",
       "4  1009        9324            16.3        2750            21.0         52902   \n",
       "\n",
       "   2013 Rural-urban Continuum Code  2013 Urban Influence Code  \\\n",
       "0                              2.0                        2.0   \n",
       "1                              3.0                        2.0   \n",
       "2                              6.0                        6.0   \n",
       "3                              1.0                        1.0   \n",
       "4                              1.0                        1.0   \n",
       "\n",
       "   Percent of adults with less than a high school diploma, 1970  \\\n",
       "0                                               54.8              \n",
       "1                                               59.4              \n",
       "2                                               68.8              \n",
       "3                                               73.1              \n",
       "4                                               70.5              \n",
       "\n",
       "   Percent of adults with a high school diploma only, 1970  ...  SC  SD  TN  \\\n",
       "0                                               31.1        ...   0   0   0   \n",
       "1                                               26.7        ...   0   0   0   \n",
       "2                                               19.0        ...   0   0   0   \n",
       "3                                               19.4        ...   0   0   0   \n",
       "4                                               22.7        ...   0   0   0   \n",
       "\n",
       "   TX  VA  VT  WA  WI  WV  WY  \n",
       "0   0   0   0   0   0   0   0  \n",
       "1   0   0   0   0   0   0   0  \n",
       "2   0   0   0   0   0   0   0  \n",
       "3   0   0   0   0   0   0   0  \n",
       "4   0   0   0   0   0   0   0  \n",
       "\n",
       "[5 rows x 106 columns]"
      ]
     },
     "execution_count": 22,
     "metadata": {},
     "output_type": "execute_result"
    }
   ],
   "source": [
    "X.shape\n",
    "X.head()"
   ]
  },
  {
   "cell_type": "markdown",
   "id": "866268fd",
   "metadata": {},
   "source": [
    "## Preparing the Train-Test Split Along Response Variable with Differing Percentile"
   ]
  },
  {
   "cell_type": "code",
   "execution_count": 23,
   "id": "7051f0f3",
   "metadata": {},
   "outputs": [
    {
     "data": {
      "text/plain": [
       "0.13956941351150706"
      ]
     },
     "execution_count": 23,
     "metadata": {},
     "output_type": "execute_result"
    }
   ],
   "source": [
    "np.count_nonzero(y > 192.4) / len(y)"
   ]
  },
  {
   "cell_type": "code",
   "execution_count": 24,
   "id": "73a57cd1",
   "metadata": {},
   "outputs": [
    {
     "data": {
      "text/plain": [
       "0.1915367483296214"
      ]
     },
     "execution_count": 24,
     "metadata": {},
     "output_type": "execute_result"
    }
   ],
   "source": [
    "np.count_nonzero(y > 186.78) / len(y)"
   ]
  },
  {
   "cell_type": "code",
   "execution_count": 25,
   "id": "8577da6d",
   "metadata": {},
   "outputs": [
    {
     "data": {
      "text/plain": [
       "0.2431328878990349"
      ]
     },
     "execution_count": 25,
     "metadata": {},
     "output_type": "execute_result"
    }
   ],
   "source": [
    "np.count_nonzero(y > 182.7) / len(y)"
   ]
  },
  {
   "cell_type": "code",
   "execution_count": 26,
   "id": "2afb5951",
   "metadata": {},
   "outputs": [],
   "source": [
    "X = X.astype(float)\n",
    "y85 = (y>192.4)*1"
   ]
  },
  {
   "cell_type": "code",
   "execution_count": 27,
   "id": "48c907bd",
   "metadata": {},
   "outputs": [],
   "source": [
    "y80 = (y>186.78)*1\n",
    "y75 = (y>182.7)"
   ]
  },
  {
   "cell_type": "code",
   "execution_count": 28,
   "id": "15c15831",
   "metadata": {},
   "outputs": [],
   "source": [
    "from sklearn.model_selection import train_test_split\n",
    "\n",
    "X_train, X_test, y_train85, y_test85 = train_test_split(X, y85, test_size=0.2, random_state=42)\n",
    "X_train, X_test, y_train80, y_test80 = train_test_split(X, y80, test_size=0.2, random_state=42)\n",
    "X_train, X_test, y_train75, y_test75 = train_test_split(X, y75, test_size=0.2, random_state=42)\n",
    "\n"
   ]
  },
  {
   "cell_type": "markdown",
   "id": "be002a8d",
   "metadata": {},
   "source": [
    "## Random Forests"
   ]
  },
  {
   "cell_type": "markdown",
   "id": "91790ae9",
   "metadata": {},
   "source": [
    "Try with 85th percentile."
   ]
  },
  {
   "cell_type": "code",
   "execution_count": 29,
   "id": "1ae3f302",
   "metadata": {},
   "outputs": [
    {
     "data": {
      "text/plain": [
       "RandomForestClassifier(max_features=8, min_samples_leaf=5, n_estimators=500,\n",
       "                       random_state=88)"
      ]
     },
     "execution_count": 29,
     "metadata": {},
     "output_type": "execute_result"
    }
   ],
   "source": [
    "from sklearn.ensemble import RandomForestClassifier\n",
    "from sklearn.metrics import confusion_matrix\n",
    "from sklearn.metrics import accuracy_score\n",
    "\n",
    "rf = RandomForestClassifier(max_features=8, min_samples_leaf=5, n_estimators=500, random_state=88)\n",
    "rf.fit(X_train, y_train85)"
   ]
  },
  {
   "cell_type": "code",
   "execution_count": 30,
   "id": "68b43d88",
   "metadata": {},
   "outputs": [
    {
     "name": "stdout",
     "output_type": "stream",
     "text": [
      "Confusion Matrix: \n",
      " [[453  11]\n",
      " [ 51  24]]\n",
      "\n",
      "Accuracy: 0.8849721706864564\n"
     ]
    }
   ],
   "source": [
    "y_pred = rf.predict(X_test)\n",
    "cm = confusion_matrix(y_test85, y_pred)\n",
    "print (\"Confusion Matrix: \\n\", cm)\n",
    "print (\"\\nAccuracy:\", accuracy_score(y_test85, y_pred))"
   ]
  },
  {
   "cell_type": "markdown",
   "id": "3156cd68",
   "metadata": {},
   "source": [
    "Try with 80th percentile. "
   ]
  },
  {
   "cell_type": "code",
   "execution_count": 31,
   "id": "b492e0d3",
   "metadata": {},
   "outputs": [
    {
     "data": {
      "text/plain": [
       "RandomForestClassifier(max_features=8, min_samples_leaf=5, n_estimators=500,\n",
       "                       random_state=88)"
      ]
     },
     "execution_count": 31,
     "metadata": {},
     "output_type": "execute_result"
    }
   ],
   "source": [
    "rf = RandomForestClassifier(max_features=8, min_samples_leaf=5, n_estimators=500, random_state=88)\n",
    "rf.fit(X_train, y_train80)"
   ]
  },
  {
   "cell_type": "code",
   "execution_count": 32,
   "id": "6e8e9082",
   "metadata": {},
   "outputs": [
    {
     "name": "stdout",
     "output_type": "stream",
     "text": [
      "Confusion Matrix: \n",
      " [[413  18]\n",
      " [ 69  39]]\n",
      "\n",
      "Accuracy: 0.8385899814471243\n"
     ]
    }
   ],
   "source": [
    "y_pred = rf.predict(X_test)\n",
    "cm = confusion_matrix(y_test80, y_pred)\n",
    "print (\"Confusion Matrix: \\n\", cm)\n",
    "print (\"\\nAccuracy:\", accuracy_score(y_test80, y_pred))"
   ]
  },
  {
   "cell_type": "markdown",
   "id": "6c4bc01c",
   "metadata": {},
   "source": [
    "Try with 75th percentile."
   ]
  },
  {
   "cell_type": "code",
   "execution_count": 33,
   "id": "3056baa1",
   "metadata": {},
   "outputs": [
    {
     "data": {
      "text/plain": [
       "RandomForestClassifier(max_features=8, min_samples_leaf=5, n_estimators=500,\n",
       "                       random_state=88)"
      ]
     },
     "execution_count": 33,
     "metadata": {},
     "output_type": "execute_result"
    }
   ],
   "source": [
    "rf = RandomForestClassifier(max_features=8, min_samples_leaf=5, n_estimators=500, random_state=88)\n",
    "rf.fit(X_train, y_train75)"
   ]
  },
  {
   "cell_type": "code",
   "execution_count": 34,
   "id": "a465d784",
   "metadata": {},
   "outputs": [
    {
     "name": "stdout",
     "output_type": "stream",
     "text": [
      "Confusion Matrix: \n",
      " [[369  31]\n",
      " [ 75  64]]\n",
      "\n",
      "Accuracy: 0.8033395176252319\n"
     ]
    }
   ],
   "source": [
    "y_pred = rf.predict(X_test)\n",
    "cm = confusion_matrix(y_test75, y_pred)\n",
    "print (\"Confusion Matrix: \\n\", cm)\n",
    "print (\"\\nAccuracy:\", accuracy_score(y_test75, y_pred))"
   ]
  },
  {
   "cell_type": "markdown",
   "id": "98283f33",
   "metadata": {},
   "source": [
    "## Scikit-Learn Log"
   ]
  },
  {
   "cell_type": "code",
   "execution_count": 35,
   "id": "892644e6",
   "metadata": {},
   "outputs": [
    {
     "name": "stderr",
     "output_type": "stream",
     "text": [
      "/opt/conda/lib/python3.9/site-packages/sklearn/linear_model/_logistic.py:763: ConvergenceWarning: lbfgs failed to converge (status=1):\n",
      "STOP: TOTAL NO. of ITERATIONS REACHED LIMIT.\n",
      "\n",
      "Increase the number of iterations (max_iter) or scale the data as shown in:\n",
      "    https://scikit-learn.org/stable/modules/preprocessing.html\n",
      "Please also refer to the documentation for alternative solver options:\n",
      "    https://scikit-learn.org/stable/modules/linear_model.html#logistic-regression\n",
      "  n_iter_i = _check_optimize_result(\n"
     ]
    },
    {
     "data": {
      "text/plain": [
       "LogisticRegression(random_state=88)"
      ]
     },
     "execution_count": 35,
     "metadata": {},
     "output_type": "execute_result"
    }
   ],
   "source": [
    "from sklearn.linear_model import LogisticRegression\n",
    "\n",
    "logreg = LogisticRegression(random_state=88)\n",
    "logreg.fit(X_train, y_train85)"
   ]
  },
  {
   "cell_type": "code",
   "execution_count": 36,
   "id": "77ca77a0",
   "metadata": {},
   "outputs": [
    {
     "name": "stdout",
     "output_type": "stream",
     "text": [
      "Confusion Matrix: \n",
      " [[457   7]\n",
      " [ 71   4]]\n",
      "\n",
      "Accuracy: 0.8552875695732839\n"
     ]
    }
   ],
   "source": [
    "from sklearn.metrics import confusion_matrix\n",
    "from sklearn.metrics import accuracy_score\n",
    "\n",
    "y_prob = logreg.predict_proba(X_test)\n",
    "y_pred = pd.Series([1 if x > .5 else 0 for x in y_prob[:,1]], index=y_test85.index)\n",
    "\n",
    "cm = confusion_matrix(y_test85, y_pred)\n",
    "print (\"Confusion Matrix: \\n\", cm)\n",
    "print (\"\\nAccuracy:\", accuracy_score(y_test85, y_pred))\n"
   ]
  },
  {
   "cell_type": "code",
   "execution_count": 37,
   "id": "74eab8c8",
   "metadata": {},
   "outputs": [
    {
     "name": "stderr",
     "output_type": "stream",
     "text": [
      "/opt/conda/lib/python3.9/site-packages/sklearn/linear_model/_logistic.py:763: ConvergenceWarning: lbfgs failed to converge (status=1):\n",
      "STOP: TOTAL NO. of ITERATIONS REACHED LIMIT.\n",
      "\n",
      "Increase the number of iterations (max_iter) or scale the data as shown in:\n",
      "    https://scikit-learn.org/stable/modules/preprocessing.html\n",
      "Please also refer to the documentation for alternative solver options:\n",
      "    https://scikit-learn.org/stable/modules/linear_model.html#logistic-regression\n",
      "  n_iter_i = _check_optimize_result(\n"
     ]
    },
    {
     "data": {
      "text/plain": [
       "LogisticRegression(random_state=88)"
      ]
     },
     "execution_count": 37,
     "metadata": {},
     "output_type": "execute_result"
    }
   ],
   "source": [
    "logreg = LogisticRegression(random_state=88)\n",
    "logreg.fit(X_train, y_train80)"
   ]
  },
  {
   "cell_type": "code",
   "execution_count": 38,
   "id": "189c0913",
   "metadata": {},
   "outputs": [
    {
     "name": "stdout",
     "output_type": "stream",
     "text": [
      "Confusion Matrix: \n",
      " [[425   6]\n",
      " [ 98  10]]\n",
      "\n",
      "Accuracy: 0.8070500927643784\n"
     ]
    }
   ],
   "source": [
    "from sklearn.metrics import confusion_matrix\n",
    "from sklearn.metrics import accuracy_score\n",
    "\n",
    "y_prob = logreg.predict_proba(X_test)\n",
    "y_pred = pd.Series([1 if x > .5 else 0 for x in y_prob[:,1]], index=y_test80.index)\n",
    "\n",
    "cm = confusion_matrix(y_test80, y_pred)\n",
    "print (\"Confusion Matrix: \\n\", cm)\n",
    "print (\"\\nAccuracy:\", accuracy_score(y_test80, y_pred))"
   ]
  },
  {
   "cell_type": "code",
   "execution_count": 39,
   "id": "841d2680",
   "metadata": {},
   "outputs": [
    {
     "name": "stderr",
     "output_type": "stream",
     "text": [
      "/opt/conda/lib/python3.9/site-packages/sklearn/linear_model/_logistic.py:763: ConvergenceWarning: lbfgs failed to converge (status=1):\n",
      "STOP: TOTAL NO. of ITERATIONS REACHED LIMIT.\n",
      "\n",
      "Increase the number of iterations (max_iter) or scale the data as shown in:\n",
      "    https://scikit-learn.org/stable/modules/preprocessing.html\n",
      "Please also refer to the documentation for alternative solver options:\n",
      "    https://scikit-learn.org/stable/modules/linear_model.html#logistic-regression\n",
      "  n_iter_i = _check_optimize_result(\n"
     ]
    },
    {
     "data": {
      "text/plain": [
       "LogisticRegression(random_state=88)"
      ]
     },
     "execution_count": 39,
     "metadata": {},
     "output_type": "execute_result"
    }
   ],
   "source": [
    "logreg = LogisticRegression(random_state=88)\n",
    "logreg.fit(X_train, y_train75)"
   ]
  },
  {
   "cell_type": "code",
   "execution_count": 40,
   "id": "2463b21d",
   "metadata": {},
   "outputs": [
    {
     "name": "stdout",
     "output_type": "stream",
     "text": [
      "Confusion Matrix: \n",
      " [[392   8]\n",
      " [128  11]]\n",
      "\n",
      "Accuracy: 0.7476808905380334\n"
     ]
    }
   ],
   "source": [
    "y_prob = logreg.predict_proba(X_test)\n",
    "y_pred = pd.Series([1 if x > .5 else 0 for x in y_prob[:,1]], index=y_test75.index)\n",
    "\n",
    "cm = confusion_matrix(y_test75, y_pred)\n",
    "print (\"Confusion Matrix: \\n\", cm)\n",
    "print (\"\\nAccuracy:\", accuracy_score(y_test75, y_pred))"
   ]
  },
  {
   "cell_type": "markdown",
   "id": "819e0881",
   "metadata": {},
   "source": [
    "## Boosting"
   ]
  },
  {
   "cell_type": "code",
   "execution_count": 41,
   "id": "8c80d676",
   "metadata": {},
   "outputs": [
    {
     "data": {
      "text/plain": [
       "GradientBoostingClassifier(max_leaf_nodes=10, n_estimators=3300)"
      ]
     },
     "execution_count": 41,
     "metadata": {},
     "output_type": "execute_result"
    }
   ],
   "source": [
    "from sklearn.ensemble import GradientBoostingClassifier\n",
    "\n",
    "\n",
    "gbc = GradientBoostingClassifier(n_estimators=3300, max_leaf_nodes=10)\n",
    "gbc.fit(X_train, y_train85)\n"
   ]
  },
  {
   "cell_type": "code",
   "execution_count": 42,
   "id": "d7b75e11",
   "metadata": {},
   "outputs": [
    {
     "data": {
      "text/plain": [
       "0.8831168831168831"
      ]
     },
     "execution_count": 42,
     "metadata": {},
     "output_type": "execute_result"
    }
   ],
   "source": [
    "y_pred = gbc.predict(X_test)\n",
    "(y_test85 == y_pred).mean()"
   ]
  },
  {
   "cell_type": "code",
   "execution_count": 43,
   "id": "9dd549e6",
   "metadata": {},
   "outputs": [
    {
     "data": {
      "text/plain": [
       "GradientBoostingClassifier(max_leaf_nodes=10, n_estimators=3300)"
      ]
     },
     "execution_count": 43,
     "metadata": {},
     "output_type": "execute_result"
    }
   ],
   "source": [
    "gbc = GradientBoostingClassifier(n_estimators=3300, max_leaf_nodes=10)\n",
    "gbc.fit(X_train, y_train80)"
   ]
  },
  {
   "cell_type": "code",
   "execution_count": 44,
   "id": "aef0194c",
   "metadata": {},
   "outputs": [
    {
     "data": {
      "text/plain": [
       "0.8608534322820037"
      ]
     },
     "execution_count": 44,
     "metadata": {},
     "output_type": "execute_result"
    }
   ],
   "source": [
    "y_pred = gbc.predict(X_test)\n",
    "(y_test80 == y_pred).mean()"
   ]
  },
  {
   "cell_type": "code",
   "execution_count": 45,
   "id": "1f4f325f",
   "metadata": {},
   "outputs": [
    {
     "data": {
      "text/plain": [
       "GradientBoostingClassifier(max_leaf_nodes=10, n_estimators=3300)"
      ]
     },
     "execution_count": 45,
     "metadata": {},
     "output_type": "execute_result"
    }
   ],
   "source": [
    "gbc = GradientBoostingClassifier(n_estimators=3300, max_leaf_nodes=10)\n",
    "gbc.fit(X_train, y_train75)"
   ]
  },
  {
   "cell_type": "code",
   "execution_count": 46,
   "id": "6107a448",
   "metadata": {},
   "outputs": [
    {
     "data": {
      "text/plain": [
       "0.8051948051948052"
      ]
     },
     "execution_count": 46,
     "metadata": {},
     "output_type": "execute_result"
    }
   ],
   "source": [
    "y_pred = gbc.predict(X_test)\n",
    "(y_test75 == y_pred).mean()"
   ]
  },
  {
   "cell_type": "markdown",
   "id": "5a0df8f7",
   "metadata": {},
   "source": [
    "## LDA"
   ]
  },
  {
   "cell_type": "code",
   "execution_count": 47,
   "id": "5d7b3424",
   "metadata": {},
   "outputs": [
    {
     "data": {
      "text/plain": [
       "LinearDiscriminantAnalysis()"
      ]
     },
     "execution_count": 47,
     "metadata": {},
     "output_type": "execute_result"
    }
   ],
   "source": [
    "from sklearn.discriminant_analysis import LinearDiscriminantAnalysis\n",
    "\n",
    "lda = LinearDiscriminantAnalysis()\n",
    "lda.fit(X_train, y_train85)"
   ]
  },
  {
   "cell_type": "code",
   "execution_count": 48,
   "id": "96880f4d",
   "metadata": {},
   "outputs": [
    {
     "name": "stdout",
     "output_type": "stream",
     "text": [
      "Confusion Matrix: \n",
      " [[436  28]\n",
      " [ 38  37]]\n",
      "\n",
      "Accuracy: 0.8775510204081632\n"
     ]
    }
   ],
   "source": [
    "y_pred = lda.predict(X_test)\n",
    "cm = confusion_matrix(y_test85, y_pred)\n",
    "print (\"Confusion Matrix: \\n\", cm)\n",
    "print (\"\\nAccuracy:\", accuracy_score(y_test85, y_pred))"
   ]
  },
  {
   "cell_type": "code",
   "execution_count": 49,
   "id": "b74f416d",
   "metadata": {},
   "outputs": [
    {
     "data": {
      "text/plain": [
       "LinearDiscriminantAnalysis()"
      ]
     },
     "execution_count": 49,
     "metadata": {},
     "output_type": "execute_result"
    }
   ],
   "source": [
    "lda = LinearDiscriminantAnalysis()\n",
    "lda.fit(X_train, y_train80)"
   ]
  },
  {
   "cell_type": "code",
   "execution_count": 50,
   "id": "018b9c6e",
   "metadata": {},
   "outputs": [
    {
     "name": "stdout",
     "output_type": "stream",
     "text": [
      "Confusion Matrix: \n",
      " [[394  37]\n",
      " [ 50  58]]\n",
      "\n",
      "Accuracy: 0.8385899814471243\n"
     ]
    }
   ],
   "source": [
    "y_pred = lda.predict(X_test)\n",
    "cm = confusion_matrix(y_test80, y_pred)\n",
    "print (\"Confusion Matrix: \\n\", cm)\n",
    "print (\"\\nAccuracy:\", accuracy_score(y_test80, y_pred))"
   ]
  },
  {
   "cell_type": "code",
   "execution_count": 51,
   "id": "9ca5e725",
   "metadata": {},
   "outputs": [
    {
     "data": {
      "text/plain": [
       "LinearDiscriminantAnalysis()"
      ]
     },
     "execution_count": 51,
     "metadata": {},
     "output_type": "execute_result"
    }
   ],
   "source": [
    "lda = LinearDiscriminantAnalysis()\n",
    "lda.fit(X_train, y_train75)"
   ]
  },
  {
   "cell_type": "code",
   "execution_count": 52,
   "id": "3b7fac2d",
   "metadata": {},
   "outputs": [
    {
     "name": "stdout",
     "output_type": "stream",
     "text": [
      "Confusion Matrix: \n",
      " [[365  35]\n",
      " [ 65  74]]\n",
      "\n",
      "Accuracy: 0.8144712430426716\n"
     ]
    }
   ],
   "source": [
    "y_pred = lda.predict(X_test)\n",
    "cm = confusion_matrix(y_test75, y_pred)\n",
    "print (\"Confusion Matrix: \\n\", cm)\n",
    "print (\"\\nAccuracy:\", accuracy_score(y_test75, y_pred))"
   ]
  },
  {
   "cell_type": "markdown",
   "id": "42fbb0c2",
   "metadata": {},
   "source": [
    "## CV Decision Tree"
   ]
  },
  {
   "cell_type": "code",
   "execution_count": 53,
   "id": "7bc84a38",
   "metadata": {},
   "outputs": [],
   "source": [
    "from sklearn.model_selection import GridSearchCV\n",
    "from sklearn.tree import DecisionTreeClassifier\n",
    "\n",
    "grid_values = {'ccp_alpha': np.linspace(0.001, 0.1, 10)}\n",
    "\n",
    "dtc = DecisionTreeClassifier(random_state=88)\n",
    "dtc_cv = GridSearchCV(dtc, param_grid=grid_values, cv=10).fit(X_train, y_train85)\n"
   ]
  },
  {
   "cell_type": "code",
   "execution_count": 54,
   "id": "cfca0695",
   "metadata": {},
   "outputs": [
    {
     "data": {
      "image/png": "[encoded data removed]",
      "text/plain": [
       "<Figure size 576x432 with 1 Axes>"
      ]
     },
     "metadata": {
      "needs_background": "light"
     },
     "output_type": "display_data"
    },
    {
     "name": "stdout",
     "output_type": "stream",
     "text": [
      "Best ccp_alpha {'ccp_alpha': 0.012}\n"
     ]
    }
   ],
   "source": [
    "ccp_alpha = dtc_cv.cv_results_['param_ccp_alpha'].data\n",
    "ACC_scores = dtc_cv.cv_results_['mean_test_score']\n",
    "\n",
    "plt.figure(figsize=(8, 6))\n",
    "plt.xlabel('ccp_alpha', fontsize=16)\n",
    "plt.ylabel('CV Accuracy', fontsize=16)\n",
    "plt.scatter(ccp_alpha, ACC_scores, s=3)\n",
    "plt.plot(ccp_alpha, ACC_scores, linewidth=3)\n",
    "plt.grid(True, which='both')\n",
    "\n",
    "plt.tight_layout()\n",
    "plt.show()\n",
    "\n",
    "print('Best ccp_alpha', dtc_cv.best_params_)"
   ]
  },
  {
   "cell_type": "code",
   "execution_count": 55,
   "id": "00d292a0",
   "metadata": {},
   "outputs": [
    {
     "name": "stdout",
     "output_type": "stream",
     "text": [
      "Confusion Matrix: \n",
      " [[434  30]\n",
      " [ 39  36]]\n",
      "\n",
      "Accuracy: 0.8719851576994434\n"
     ]
    }
   ],
   "source": [
    "y_pred = dtc_cv.predict(X_test)\n",
    "cm = confusion_matrix(y_test85, y_pred)\n",
    "print (\"Confusion Matrix: \\n\", cm)\n",
    "print (\"\\nAccuracy:\", accuracy_score(y_test85, y_pred))"
   ]
  },
  {
   "cell_type": "code",
   "execution_count": 56,
   "id": "a0a4fc68",
   "metadata": {},
   "outputs": [],
   "source": [
    "grid_values = {'ccp_alpha': np.linspace(0.001, 0.1, 10)}\n",
    "\n",
    "dtc = DecisionTreeClassifier(random_state=88)\n",
    "dtc_cv = GridSearchCV(dtc, param_grid=grid_values, cv=10).fit(X_train, y_train80)\n"
   ]
  },
  {
   "cell_type": "code",
   "execution_count": 57,
   "id": "50ba507d",
   "metadata": {},
   "outputs": [
    {
     "data": {
      "image/png": "[encoded data removed]",
      "text/plain": [
       "<Figure size 576x432 with 1 Axes>"
      ]
     },
     "metadata": {
      "needs_background": "light"
     },
     "output_type": "display_data"
    },
    {
     "name": "stdout",
     "output_type": "stream",
     "text": [
      "Best ccp_alpha {'ccp_alpha': 0.012}\n"
     ]
    }
   ],
   "source": [
    "ccp_alpha = dtc_cv.cv_results_['param_ccp_alpha'].data\n",
    "ACC_scores = dtc_cv.cv_results_['mean_test_score']\n",
    "\n",
    "plt.figure(figsize=(8, 6))\n",
    "plt.xlabel('ccp_alpha', fontsize=16)\n",
    "plt.ylabel('CV Accuracy', fontsize=16)\n",
    "plt.scatter(ccp_alpha, ACC_scores, s=3)\n",
    "plt.plot(ccp_alpha, ACC_scores, linewidth=3)\n",
    "plt.grid(True, which='both')\n",
    "\n",
    "plt.tight_layout()\n",
    "plt.show()\n",
    "\n",
    "print('Best ccp_alpha', dtc_cv.best_params_)"
   ]
  },
  {
   "cell_type": "code",
   "execution_count": 58,
   "id": "b1f9614d",
   "metadata": {},
   "outputs": [
    {
     "name": "stdout",
     "output_type": "stream",
     "text": [
      "Confusion Matrix: \n",
      " [[409  22]\n",
      " [ 60  48]]\n",
      "\n",
      "Accuracy: 0.8478664192949907\n"
     ]
    }
   ],
   "source": [
    "y_pred = dtc_cv.predict(X_test)\n",
    "cm = confusion_matrix(y_test80, y_pred)\n",
    "print (\"Confusion Matrix: \\n\", cm)\n",
    "print (\"\\nAccuracy:\", accuracy_score(y_test80, y_pred))"
   ]
  },
  {
   "cell_type": "code",
   "execution_count": 59,
   "id": "1ed09f27",
   "metadata": {},
   "outputs": [],
   "source": [
    "grid_values = {'ccp_alpha': np.linspace(0.001, 0.1, 10)}\n",
    "\n",
    "dtc = DecisionTreeClassifier(random_state=88)\n",
    "dtc_cv = GridSearchCV(dtc, param_grid=grid_values, cv=10).fit(X_train, y_train75)\n"
   ]
  },
  {
   "cell_type": "code",
   "execution_count": 60,
   "id": "62c19909",
   "metadata": {},
   "outputs": [
    {
     "data": {
      "image/png": "[encoded data removed]",
      "text/plain": [
       "<Figure size 576x432 with 1 Axes>"
      ]
     },
     "metadata": {
      "needs_background": "light"
     },
     "output_type": "display_data"
    },
    {
     "name": "stdout",
     "output_type": "stream",
     "text": [
      "Best ccp_alpha {'ccp_alpha': 0.012}\n"
     ]
    }
   ],
   "source": [
    "ccp_alpha = dtc_cv.cv_results_['param_ccp_alpha'].data\n",
    "ACC_scores = dtc_cv.cv_results_['mean_test_score']\n",
    "\n",
    "plt.figure(figsize=(8, 6))\n",
    "plt.xlabel('ccp_alpha', fontsize=16)\n",
    "plt.ylabel('CV Accuracy', fontsize=16)\n",
    "plt.scatter(ccp_alpha, ACC_scores, s=3)\n",
    "plt.plot(ccp_alpha, ACC_scores, linewidth=3)\n",
    "plt.grid(True, which='both')\n",
    "\n",
    "plt.tight_layout()\n",
    "plt.show()\n",
    "\n",
    "print('Best ccp_alpha', dtc_cv.best_params_)"
   ]
  },
  {
   "cell_type": "code",
   "execution_count": 61,
   "id": "fe72babb",
   "metadata": {},
   "outputs": [
    {
     "name": "stdout",
     "output_type": "stream",
     "text": [
      "Confusion Matrix: \n",
      " [[377  54]\n",
      " [ 44  64]]\n",
      "\n",
      "Accuracy: 0.8163265306122449\n"
     ]
    }
   ],
   "source": [
    "y_pred = dtc_cv.predict(X_test)\n",
    "cm = confusion_matrix(y_test80, y_pred)\n",
    "print (\"Confusion Matrix: \\n\", cm)\n",
    "print (\"\\nAccuracy:\", accuracy_score(y_test75, y_pred))"
   ]
  },
  {
   "cell_type": "markdown",
   "id": "22aae31a",
   "metadata": {},
   "source": [
    "## Interpretable Statsmodels Log"
   ]
  },
  {
   "cell_type": "code",
   "execution_count": 62,
   "id": "a14ebce9",
   "metadata": {},
   "outputs": [
    {
     "data": {
      "text/html": [
       "<div>\n",
       "<style scoped>\n",
       "    .dataframe tbody tr th:only-of-type {\n",
       "        vertical-align: middle;\n",
       "    }\n",
       "\n",
       "    .dataframe tbody tr th {\n",
       "        vertical-align: top;\n",
       "    }\n",
       "\n",
       "    .dataframe thead th {\n",
       "        text-align: right;\n",
       "    }\n",
       "</style>\n",
       "<table border=\"1\" class=\"dataframe\">\n",
       "  <thead>\n",
       "    <tr style=\"text-align: right;\">\n",
       "      <th></th>\n",
       "      <th>FIPS</th>\n",
       "      <th>POVALL_2019</th>\n",
       "      <th>PCTPOVALL_2019</th>\n",
       "      <th>POV017_2019</th>\n",
       "      <th>PCTPOV017_2019</th>\n",
       "      <th>MEDHHINC_2019</th>\n",
       "      <th>2013 Rural-urban Continuum Code</th>\n",
       "      <th>2013 Urban Influence Code</th>\n",
       "      <th>Percent of adults with less than a high school diploma, 1970</th>\n",
       "      <th>Percent of adults with a high school diploma only, 1970</th>\n",
       "      <th>...</th>\n",
       "      <th>SC</th>\n",
       "      <th>SD</th>\n",
       "      <th>TN</th>\n",
       "      <th>TX</th>\n",
       "      <th>VA</th>\n",
       "      <th>VT</th>\n",
       "      <th>WA</th>\n",
       "      <th>WI</th>\n",
       "      <th>WV</th>\n",
       "      <th>WY</th>\n",
       "    </tr>\n",
       "  </thead>\n",
       "  <tbody>\n",
       "    <tr>\n",
       "      <th>1627</th>\n",
       "      <td>30073.0</td>\n",
       "      <td>995.0</td>\n",
       "      <td>17.5</td>\n",
       "      <td>316.0</td>\n",
       "      <td>24.7</td>\n",
       "      <td>48542.0</td>\n",
       "      <td>7.0</td>\n",
       "      <td>11.0</td>\n",
       "      <td>44.6</td>\n",
       "      <td>35.9</td>\n",
       "      <td>...</td>\n",
       "      <td>0.0</td>\n",
       "      <td>0.0</td>\n",
       "      <td>0.0</td>\n",
       "      <td>0.0</td>\n",
       "      <td>0.0</td>\n",
       "      <td>0.0</td>\n",
       "      <td>0.0</td>\n",
       "      <td>0.0</td>\n",
       "      <td>0.0</td>\n",
       "      <td>0.0</td>\n",
       "    </tr>\n",
       "    <tr>\n",
       "      <th>2171</th>\n",
       "      <td>40095.0</td>\n",
       "      <td>3030.0</td>\n",
       "      <td>18.2</td>\n",
       "      <td>886.0</td>\n",
       "      <td>23.6</td>\n",
       "      <td>45005.0</td>\n",
       "      <td>6.0</td>\n",
       "      <td>6.0</td>\n",
       "      <td>63.7</td>\n",
       "      <td>20.8</td>\n",
       "      <td>...</td>\n",
       "      <td>0.0</td>\n",
       "      <td>0.0</td>\n",
       "      <td>0.0</td>\n",
       "      <td>0.0</td>\n",
       "      <td>0.0</td>\n",
       "      <td>0.0</td>\n",
       "      <td>0.0</td>\n",
       "      <td>0.0</td>\n",
       "      <td>0.0</td>\n",
       "      <td>0.0</td>\n",
       "    </tr>\n",
       "    <tr>\n",
       "      <th>2215</th>\n",
       "      <td>41029.0</td>\n",
       "      <td>29613.0</td>\n",
       "      <td>13.6</td>\n",
       "      <td>7908.0</td>\n",
       "      <td>18.0</td>\n",
       "      <td>56367.0</td>\n",
       "      <td>3.0</td>\n",
       "      <td>2.0</td>\n",
       "      <td>42.9</td>\n",
       "      <td>34.9</td>\n",
       "      <td>...</td>\n",
       "      <td>0.0</td>\n",
       "      <td>0.0</td>\n",
       "      <td>0.0</td>\n",
       "      <td>0.0</td>\n",
       "      <td>0.0</td>\n",
       "      <td>0.0</td>\n",
       "      <td>0.0</td>\n",
       "      <td>0.0</td>\n",
       "      <td>0.0</td>\n",
       "      <td>0.0</td>\n",
       "    </tr>\n",
       "    <tr>\n",
       "      <th>61</th>\n",
       "      <td>1123.0</td>\n",
       "      <td>6341.0</td>\n",
       "      <td>16.0</td>\n",
       "      <td>2101.0</td>\n",
       "      <td>25.9</td>\n",
       "      <td>47100.0</td>\n",
       "      <td>6.0</td>\n",
       "      <td>6.0</td>\n",
       "      <td>66.9</td>\n",
       "      <td>23.5</td>\n",
       "      <td>...</td>\n",
       "      <td>0.0</td>\n",
       "      <td>0.0</td>\n",
       "      <td>0.0</td>\n",
       "      <td>0.0</td>\n",
       "      <td>0.0</td>\n",
       "      <td>0.0</td>\n",
       "      <td>0.0</td>\n",
       "      <td>0.0</td>\n",
       "      <td>0.0</td>\n",
       "      <td>0.0</td>\n",
       "    </tr>\n",
       "    <tr>\n",
       "      <th>3069</th>\n",
       "      <td>55063.0</td>\n",
       "      <td>13280.0</td>\n",
       "      <td>11.8</td>\n",
       "      <td>2175.0</td>\n",
       "      <td>9.6</td>\n",
       "      <td>59758.0</td>\n",
       "      <td>3.0</td>\n",
       "      <td>2.0</td>\n",
       "      <td>40.0</td>\n",
       "      <td>37.1</td>\n",
       "      <td>...</td>\n",
       "      <td>0.0</td>\n",
       "      <td>0.0</td>\n",
       "      <td>0.0</td>\n",
       "      <td>0.0</td>\n",
       "      <td>0.0</td>\n",
       "      <td>0.0</td>\n",
       "      <td>0.0</td>\n",
       "      <td>1.0</td>\n",
       "      <td>0.0</td>\n",
       "      <td>0.0</td>\n",
       "    </tr>\n",
       "    <tr>\n",
       "      <th>...</th>\n",
       "      <td>...</td>\n",
       "      <td>...</td>\n",
       "      <td>...</td>\n",
       "      <td>...</td>\n",
       "      <td>...</td>\n",
       "      <td>...</td>\n",
       "      <td>...</td>\n",
       "      <td>...</td>\n",
       "      <td>...</td>\n",
       "      <td>...</td>\n",
       "      <td>...</td>\n",
       "      <td>...</td>\n",
       "      <td>...</td>\n",
       "      <td>...</td>\n",
       "      <td>...</td>\n",
       "      <td>...</td>\n",
       "      <td>...</td>\n",
       "      <td>...</td>\n",
       "      <td>...</td>\n",
       "      <td>...</td>\n",
       "      <td>...</td>\n",
       "    </tr>\n",
       "    <tr>\n",
       "      <th>1893</th>\n",
       "      <td>37021.0</td>\n",
       "      <td>31045.0</td>\n",
       "      <td>12.2</td>\n",
       "      <td>8016.0</td>\n",
       "      <td>17.3</td>\n",
       "      <td>55448.0</td>\n",
       "      <td>2.0</td>\n",
       "      <td>2.0</td>\n",
       "      <td>53.3</td>\n",
       "      <td>25.5</td>\n",
       "      <td>...</td>\n",
       "      <td>0.0</td>\n",
       "      <td>0.0</td>\n",
       "      <td>0.0</td>\n",
       "      <td>0.0</td>\n",
       "      <td>0.0</td>\n",
       "      <td>0.0</td>\n",
       "      <td>0.0</td>\n",
       "      <td>0.0</td>\n",
       "      <td>0.0</td>\n",
       "      <td>0.0</td>\n",
       "    </tr>\n",
       "    <tr>\n",
       "      <th>1256</th>\n",
       "      <td>26065.0</td>\n",
       "      <td>47655.0</td>\n",
       "      <td>17.3</td>\n",
       "      <td>9892.0</td>\n",
       "      <td>17.6</td>\n",
       "      <td>54704.0</td>\n",
       "      <td>2.0</td>\n",
       "      <td>2.0</td>\n",
       "      <td>35.0</td>\n",
       "      <td>34.1</td>\n",
       "      <td>...</td>\n",
       "      <td>0.0</td>\n",
       "      <td>0.0</td>\n",
       "      <td>0.0</td>\n",
       "      <td>0.0</td>\n",
       "      <td>0.0</td>\n",
       "      <td>0.0</td>\n",
       "      <td>0.0</td>\n",
       "      <td>0.0</td>\n",
       "      <td>0.0</td>\n",
       "      <td>0.0</td>\n",
       "    </tr>\n",
       "    <tr>\n",
       "      <th>1292</th>\n",
       "      <td>26137.0</td>\n",
       "      <td>2429.0</td>\n",
       "      <td>10.0</td>\n",
       "      <td>739.0</td>\n",
       "      <td>14.8</td>\n",
       "      <td>52392.0</td>\n",
       "      <td>7.0</td>\n",
       "      <td>11.0</td>\n",
       "      <td>44.0</td>\n",
       "      <td>37.0</td>\n",
       "      <td>...</td>\n",
       "      <td>0.0</td>\n",
       "      <td>0.0</td>\n",
       "      <td>0.0</td>\n",
       "      <td>0.0</td>\n",
       "      <td>0.0</td>\n",
       "      <td>0.0</td>\n",
       "      <td>0.0</td>\n",
       "      <td>0.0</td>\n",
       "      <td>0.0</td>\n",
       "      <td>0.0</td>\n",
       "    </tr>\n",
       "    <tr>\n",
       "      <th>1476</th>\n",
       "      <td>29001.0</td>\n",
       "      <td>4308.0</td>\n",
       "      <td>19.2</td>\n",
       "      <td>828.0</td>\n",
       "      <td>18.9</td>\n",
       "      <td>43044.0</td>\n",
       "      <td>7.0</td>\n",
       "      <td>8.0</td>\n",
       "      <td>47.4</td>\n",
       "      <td>26.4</td>\n",
       "      <td>...</td>\n",
       "      <td>0.0</td>\n",
       "      <td>0.0</td>\n",
       "      <td>0.0</td>\n",
       "      <td>0.0</td>\n",
       "      <td>0.0</td>\n",
       "      <td>0.0</td>\n",
       "      <td>0.0</td>\n",
       "      <td>0.0</td>\n",
       "      <td>0.0</td>\n",
       "      <td>0.0</td>\n",
       "    </tr>\n",
       "    <tr>\n",
       "      <th>1009</th>\n",
       "      <td>21047.0</td>\n",
       "      <td>12219.0</td>\n",
       "      <td>18.9</td>\n",
       "      <td>4559.0</td>\n",
       "      <td>24.5</td>\n",
       "      <td>46390.0</td>\n",
       "      <td>2.0</td>\n",
       "      <td>2.0</td>\n",
       "      <td>58.8</td>\n",
       "      <td>26.2</td>\n",
       "      <td>...</td>\n",
       "      <td>0.0</td>\n",
       "      <td>0.0</td>\n",
       "      <td>0.0</td>\n",
       "      <td>0.0</td>\n",
       "      <td>0.0</td>\n",
       "      <td>0.0</td>\n",
       "      <td>0.0</td>\n",
       "      <td>0.0</td>\n",
       "      <td>0.0</td>\n",
       "      <td>0.0</td>\n",
       "    </tr>\n",
       "  </tbody>\n",
       "</table>\n",
       "<p>2155 rows × 106 columns</p>\n",
       "</div>"
      ],
      "text/plain": [
       "         FIPS  POVALL_2019  PCTPOVALL_2019  POV017_2019  PCTPOV017_2019  \\\n",
       "1627  30073.0        995.0            17.5        316.0            24.7   \n",
       "2171  40095.0       3030.0            18.2        886.0            23.6   \n",
       "2215  41029.0      29613.0            13.6       7908.0            18.0   \n",
       "61     1123.0       6341.0            16.0       2101.0            25.9   \n",
       "3069  55063.0      13280.0            11.8       2175.0             9.6   \n",
       "...       ...          ...             ...          ...             ...   \n",
       "1893  37021.0      31045.0            12.2       8016.0            17.3   \n",
       "1256  26065.0      47655.0            17.3       9892.0            17.6   \n",
       "1292  26137.0       2429.0            10.0        739.0            14.8   \n",
       "1476  29001.0       4308.0            19.2        828.0            18.9   \n",
       "1009  21047.0      12219.0            18.9       4559.0            24.5   \n",
       "\n",
       "      MEDHHINC_2019  2013 Rural-urban Continuum Code  \\\n",
       "1627        48542.0                              7.0   \n",
       "2171        45005.0                              6.0   \n",
       "2215        56367.0                              3.0   \n",
       "61          47100.0                              6.0   \n",
       "3069        59758.0                              3.0   \n",
       "...             ...                              ...   \n",
       "1893        55448.0                              2.0   \n",
       "1256        54704.0                              2.0   \n",
       "1292        52392.0                              7.0   \n",
       "1476        43044.0                              7.0   \n",
       "1009        46390.0                              2.0   \n",
       "\n",
       "      2013 Urban Influence Code  \\\n",
       "1627                       11.0   \n",
       "2171                        6.0   \n",
       "2215                        2.0   \n",
       "61                          6.0   \n",
       "3069                        2.0   \n",
       "...                         ...   \n",
       "1893                        2.0   \n",
       "1256                        2.0   \n",
       "1292                       11.0   \n",
       "1476                        8.0   \n",
       "1009                        2.0   \n",
       "\n",
       "      Percent of adults with less than a high school diploma, 1970  \\\n",
       "1627                                               44.6              \n",
       "2171                                               63.7              \n",
       "2215                                               42.9              \n",
       "61                                                 66.9              \n",
       "3069                                               40.0              \n",
       "...                                                 ...              \n",
       "1893                                               53.3              \n",
       "1256                                               35.0              \n",
       "1292                                               44.0              \n",
       "1476                                               47.4              \n",
       "1009                                               58.8              \n",
       "\n",
       "      Percent of adults with a high school diploma only, 1970  ...   SC   SD  \\\n",
       "1627                                               35.9        ...  0.0  0.0   \n",
       "2171                                               20.8        ...  0.0  0.0   \n",
       "2215                                               34.9        ...  0.0  0.0   \n",
       "61                                                 23.5        ...  0.0  0.0   \n",
       "3069                                               37.1        ...  0.0  0.0   \n",
       "...                                                 ...        ...  ...  ...   \n",
       "1893                                               25.5        ...  0.0  0.0   \n",
       "1256                                               34.1        ...  0.0  0.0   \n",
       "1292                                               37.0        ...  0.0  0.0   \n",
       "1476                                               26.4        ...  0.0  0.0   \n",
       "1009                                               26.2        ...  0.0  0.0   \n",
       "\n",
       "       TN   TX   VA   VT   WA   WI   WV   WY  \n",
       "1627  0.0  0.0  0.0  0.0  0.0  0.0  0.0  0.0  \n",
       "2171  0.0  0.0  0.0  0.0  0.0  0.0  0.0  0.0  \n",
       "2215  0.0  0.0  0.0  0.0  0.0  0.0  0.0  0.0  \n",
       "61    0.0  0.0  0.0  0.0  0.0  0.0  0.0  0.0  \n",
       "3069  0.0  0.0  0.0  0.0  0.0  1.0  0.0  0.0  \n",
       "...   ...  ...  ...  ...  ...  ...  ...  ...  \n",
       "1893  0.0  0.0  0.0  0.0  0.0  0.0  0.0  0.0  \n",
       "1256  0.0  0.0  0.0  0.0  0.0  0.0  0.0  0.0  \n",
       "1292  0.0  0.0  0.0  0.0  0.0  0.0  0.0  0.0  \n",
       "1476  0.0  0.0  0.0  0.0  0.0  0.0  0.0  0.0  \n",
       "1009  0.0  0.0  0.0  0.0  0.0  0.0  0.0  0.0  \n",
       "\n",
       "[2155 rows x 106 columns]"
      ]
     },
     "execution_count": 62,
     "metadata": {},
     "output_type": "execute_result"
    }
   ],
   "source": [
    "X_train"
   ]
  },
  {
   "cell_type": "code",
   "execution_count": 63,
   "id": "12e06ee1",
   "metadata": {},
   "outputs": [
    {
     "name": "stdout",
     "output_type": "stream",
     "text": [
      "Warning: Maximum number of iterations has been exceeded.\n",
      "         Current function value: 0.224818\n",
      "         Iterations: 35\n"
     ]
    },
    {
     "name": "stderr",
     "output_type": "stream",
     "text": [
      "/opt/conda/lib/python3.9/site-packages/statsmodels/base/model.py:566: ConvergenceWarning: Maximum Likelihood optimization failed to converge. Check mle_retvals\n",
      "  warnings.warn(\"Maximum Likelihood optimization failed to \"\n"
     ]
    }
   ],
   "source": [
    "import statsmodels.api as sm\n",
    "\n",
    "log_reg1 = sm.Logit(y_train85, X_train.drop(columns=['WY', 'PCTPOVALL_2019'])).fit()\n"
   ]
  },
  {
   "cell_type": "code",
   "execution_count": 64,
   "id": "db5f7d3f",
   "metadata": {},
   "outputs": [],
   "source": [
    "predis = (log_reg1.predict(X_test.drop(columns=['WY', 'PCTPOVALL_2019'])) > 0.5) * 1"
   ]
  },
  {
   "cell_type": "code",
   "execution_count": 65,
   "id": "0db499b1",
   "metadata": {},
   "outputs": [
    {
     "data": {
      "text/plain": [
       "0.8849721706864564"
      ]
     },
     "execution_count": 65,
     "metadata": {},
     "output_type": "execute_result"
    }
   ],
   "source": [
    "np.mean(predis == y_test85)"
   ]
  },
  {
   "cell_type": "code",
   "execution_count": 66,
   "id": "19f8b993",
   "metadata": {},
   "outputs": [],
   "source": [
    "X_train_new, X_test_new = X_train.drop(columns=['WY', 'PCTPOVALL_2019']), X_test.drop(columns=['WY', 'PCTPOVALL_2019'])"
   ]
  },
  {
   "cell_type": "code",
   "execution_count": 67,
   "id": "96db565d",
   "metadata": {},
   "outputs": [
    {
     "name": "stdout",
     "output_type": "stream",
     "text": [
      "Warning: Maximum number of iterations has been exceeded.\n",
      "         Current function value: 0.269005\n",
      "         Iterations: 35\n"
     ]
    },
    {
     "name": "stderr",
     "output_type": "stream",
     "text": [
      "/opt/conda/lib/python3.9/site-packages/statsmodels/base/model.py:566: ConvergenceWarning: Maximum Likelihood optimization failed to converge. Check mle_retvals\n",
      "  warnings.warn(\"Maximum Likelihood optimization failed to \"\n"
     ]
    }
   ],
   "source": [
    "log_reg2 = sm.Logit(y_train80, X_train_new).fit()"
   ]
  },
  {
   "cell_type": "code",
   "execution_count": 68,
   "id": "f38b70e1",
   "metadata": {},
   "outputs": [
    {
     "data": {
      "text/plain": [
       "0.8552875695732839"
      ]
     },
     "execution_count": 68,
     "metadata": {},
     "output_type": "execute_result"
    }
   ],
   "source": [
    "predis = (log_reg2.predict(X_test_new) > 0.5) * 1\n",
    "np.mean(predis == y_test80)"
   ]
  },
  {
   "cell_type": "code",
   "execution_count": 69,
   "id": "e997c232",
   "metadata": {},
   "outputs": [
    {
     "name": "stdout",
     "output_type": "stream",
     "text": [
      "Warning: Maximum number of iterations has been exceeded.\n",
      "         Current function value: 0.312564\n",
      "         Iterations: 35\n"
     ]
    },
    {
     "name": "stderr",
     "output_type": "stream",
     "text": [
      "/opt/conda/lib/python3.9/site-packages/statsmodels/base/model.py:566: ConvergenceWarning: Maximum Likelihood optimization failed to converge. Check mle_retvals\n",
      "  warnings.warn(\"Maximum Likelihood optimization failed to \"\n"
     ]
    }
   ],
   "source": [
    "log_reg3 = sm.Logit(y_train75, X_train_new).fit()"
   ]
  },
  {
   "cell_type": "code",
   "execution_count": 70,
   "id": "0c3fd4d1",
   "metadata": {},
   "outputs": [
    {
     "data": {
      "text/plain": [
       "0.8163265306122449"
      ]
     },
     "execution_count": 70,
     "metadata": {},
     "output_type": "execute_result"
    }
   ],
   "source": [
    "predis = (log_reg3.predict(X_test_new) > 0.5) * 1\n",
    "np.mean(predis == y_test75)"
   ]
  },
  {
   "cell_type": "code",
   "execution_count": 71,
   "id": "6edb443c",
   "metadata": {},
   "outputs": [
    {
     "name": "stdout",
     "output_type": "stream",
     "text": [
      "                           Logit Regression Results                           \n",
      "==============================================================================\n",
      "Dep. Variable:             Death Rate   No. Observations:                 2155\n",
      "Model:                          Logit   Df Residuals:                     2051\n",
      "Method:                           MLE   Df Model:                          103\n",
      "Date:                Fri, 17 Dec 2021   Pseudo R-squ.:                  0.4440\n",
      "Time:                        17:21:27   Log-Likelihood:                -484.48\n",
      "converged:                      False   LL-Null:                       -871.42\n",
      "Covariance Type:            nonrobust   LLR p-value:                2.259e-103\n",
      "============================================================================================================================================\n",
      "                                                                               coef    std err          z      P>|z|      [0.025      0.975]\n",
      "--------------------------------------------------------------------------------------------------------------------------------------------\n",
      "FIPS                                                                         0.0032      0.001      3.260      0.001       0.001       0.005\n",
      "POVALL_2019                                                               3.615e-06      0.000      0.027      0.978      -0.000       0.000\n",
      "POV017_2019                                                              -3.547e-07      0.000     -0.001      0.999      -0.001       0.001\n",
      "PCTPOV017_2019                                                              -0.0160      0.028     -0.569      0.569      -0.071       0.039\n",
      "MEDHHINC_2019                                                            -4.559e-05   2.55e-05     -1.789      0.074   -9.55e-05    4.35e-06\n",
      "2013 Rural-urban Continuum Code                                             -0.1217      0.076     -1.599      0.110      -0.271       0.028\n",
      "2013 Urban Influence Code                                                   -0.0012      0.058     -0.022      0.983      -0.114       0.112\n",
      "Percent of adults with less than a high school diploma, 1970                -0.9293      1.255     -0.740      0.459      -3.390       1.531\n",
      "Percent of adults with a high school diploma only, 1970                     -0.9900      1.256     -0.788      0.431      -3.452       1.472\n",
      "Percent of adults completing some college (1-3 years), 1970                 -0.8358      1.256     -0.665      0.506      -3.298       1.626\n",
      "Percent of adults completing four years of college or higher, 1970          -0.8974      1.255     -0.715      0.475      -3.357       1.562\n",
      "Percent of adults with less than a high school diploma, 1980                 2.4488      1.326      1.846      0.065      -0.151       5.049\n",
      "Percent of adults with a high school diploma only, 1980                      2.4020      1.323      1.815      0.070      -0.192       4.996\n",
      "Percent of adults completing some college (1-3 years), 1980                  2.3419      1.322      1.771      0.077      -0.250       4.934\n",
      "Percent of adults completing four years of college or higher, 1980           2.3836      1.326      1.798      0.072      -0.214       4.982\n",
      "Percent of adults with less than a high school diploma, 1990                -2.7812      1.364     -2.039      0.041      -5.454      -0.108\n",
      "Percent of adults with a high school diploma only, 1990                     -2.7639      1.363     -2.028      0.043      -5.434      -0.093\n",
      "Percent of adults completing some college or associate's degree, 1990       -2.7363      1.365     -2.004      0.045      -5.412      -0.060\n",
      "Percent of adults with a bachelor's degree or higher, 1990                  -2.8058      1.363     -2.058      0.040      -5.478      -0.134\n",
      "Percent of adults with less than a high school diploma, 2000                 1.8326      1.313      1.395      0.163      -0.742       4.407\n",
      "Percent of adults with a high school diploma only, 2000                      1.8609      1.313      1.417      0.156      -0.713       4.435\n",
      "Percent of adults completing some college or associate's degree, 2000        1.8460      1.313      1.406      0.160      -0.728       4.420\n",
      "Percent of adults with a bachelor's degree or higher, 2000                   1.7837      1.309      1.362      0.173      -0.783       4.350\n",
      "Percent of adults with less than a high school diploma, 2015-19             -2.4167      1.296     -1.864      0.062      -4.958       0.124\n",
      "Percent of adults with a high school diploma only, 2015-19                  -2.3594      1.294     -1.823      0.068      -4.895       0.177\n",
      "Percent of adults completing some college or associate's degree, 2015-19    -2.3307      1.293     -1.802      0.071      -4.865       0.204\n",
      "Percent of adults with a bachelor's degree or higher, 2015-19               -2.3936      1.294     -1.849      0.064      -4.930       0.143\n",
      "Civilian_labor_force_2015                                                 9.213e-06      0.000      0.027      0.979      -0.001       0.001\n",
      "Unemployed_2015                                                              0.0017      0.001      1.318      0.187      -0.001       0.004\n",
      "Unemployment_rate_2015                                                      -0.1742      0.230     -0.759      0.448      -0.624       0.276\n",
      "Civilian_labor_force_2016                                                    0.0002      0.001      0.315      0.752      -0.001       0.001\n",
      "Unemployed_2016                                                             -0.0037      0.002     -1.900      0.057      -0.008       0.000\n",
      "Unemployment_rate_2016                                                       0.7537      0.313      2.411      0.016       0.141       1.366\n",
      "Civilian_labor_force_2017                                                -4.585e-05      0.001     -0.072      0.943      -0.001       0.001\n",
      "Unemployed_2017                                                              0.0045      0.003      1.675      0.094      -0.001       0.010\n",
      "Unemployment_rate_2017                                                      -0.6342      0.460     -1.379      0.168      -1.536       0.267\n",
      "Civilian_labor_force_2018                                                   -0.0002      0.001     -0.265      0.791      -0.001       0.001\n",
      "Unemployed_2018                                                             -0.0015      0.003     -0.452      0.651      -0.008       0.005\n",
      "Unemployment_rate_2018                                                      -0.2271      0.483     -0.470      0.638      -1.174       0.720\n",
      "Civilian_labor_force_2019                                                   -0.0007      0.001     -1.175      0.240      -0.002       0.000\n",
      "Unemployed_2019                                                              0.0008      0.002      0.382      0.702      -0.003       0.005\n",
      "Unemployment_rate_2019                                                       0.0451      0.305      0.148      0.883      -0.553       0.643\n",
      "Civilian_labor_force_2020                                                    0.0006      0.000      1.759      0.079   -7.31e-05       0.001\n",
      "Unemployed_2020                                                             -0.0012      0.001     -1.882      0.060      -0.002    4.94e-05\n",
      "Unemployment_rate_2020                                                       0.2341      0.122      1.914      0.056      -0.006       0.474\n",
      "Poor physical health days raw value                                         -1.4190      0.578     -2.453      0.014      -2.553      -0.285\n",
      "Adult smoking raw value                                                     12.5060      8.464      1.478      0.140      -4.083      29.095\n",
      "Food environment index raw value                                            -0.3944      0.141     -2.799      0.005      -0.671      -0.118\n",
      "Physical inactivity raw value                                                7.4459      3.542      2.102      0.036       0.503      14.389\n",
      "Excessive drinking raw value                                                 1.8317      9.286      0.197      0.844     -16.368      20.031\n",
      "Teen births raw value                                                        0.0397      0.011      3.494      0.000       0.017       0.062\n",
      "Primary care physicians raw value                                          739.0444    533.397      1.386      0.166    -306.395    1784.484\n",
      "Ratio of population to primary care physicians.                          -3.411e-05   4.43e-05     -0.771      0.441      -0.000    5.27e-05\n",
      "Ratio of population to mental health providers.                          -3.152e-05   3.35e-05     -0.942      0.346   -9.71e-05    3.41e-05\n",
      "Mammography screening raw value                                             -6.4331      1.884     -3.414      0.001     -10.126      -2.740\n",
      "Air pollution - particulate matter raw value                                -0.0165      0.131     -0.126      0.900      -0.272       0.240\n",
      "Percentage of households with high housing costs                             7.2867      4.365      1.669      0.095      -1.269      15.843\n",
      "AL                                                                         183.3978     56.011      3.274      0.001      73.619     293.177\n",
      "AR                                                                         170.2865     52.092      3.269      0.001      68.188     272.384\n",
      "AZ                                                                         104.4949   1.37e+14   7.61e-13      1.000   -2.69e+14    2.69e+14\n",
      "CA                                                                         166.7340     51.286      3.251      0.001      66.215     267.253\n",
      "CO                                                                          86.7538    8.4e+15   1.03e-14      1.000   -1.65e+16    1.65e+16\n",
      "CT                                                                         142.7746   2.85e+05      0.001      1.000   -5.58e+05    5.58e+05\n",
      "DC                                                                         143.0629   5180.882      0.028      0.978      -1e+04    1.03e+04\n",
      "DE                                                                         144.8427   1193.639      0.121      0.903   -2194.646    2484.332\n",
      "FL                                                                         147.4228     45.399      3.247      0.001      58.441     236.404\n",
      "GA                                                                         142.9369     44.337      3.224      0.001      56.038     229.835\n",
      "IA                                                                         124.9852     38.746      3.226      0.001      49.045     200.926\n",
      "ID                                                                         134.3068     41.675      3.223      0.001      52.625     215.988\n",
      "IL                                                                         132.2408     40.675      3.251      0.001      52.520     211.962\n",
      "IN                                                                         128.8158     39.686      3.246      0.001      51.032     206.599\n",
      "KS                                                                         120.9638     37.807      3.200      0.001      46.864     195.064\n",
      "KY                                                                         120.4125     36.847      3.268      0.001      48.193     192.632\n",
      "LA                                                                         114.8597     35.935      3.196      0.001      44.428     185.291\n",
      "MA                                                                          94.6793   1.17e+04      0.008      0.994   -2.28e+04     2.3e+04\n",
      "MD                                                                         109.9753     34.167      3.219      0.001      43.009     176.942\n",
      "ME                                                                         114.5600     35.120      3.262      0.001      45.726     183.394\n",
      "MI                                                                         102.6180     32.324      3.175      0.001      39.265     165.971\n",
      "MN                                                                          73.9256   1.27e+05      0.001      1.000   -2.49e+05    2.49e+05\n",
      "MO                                                                          92.3863     29.528      3.129      0.002      34.513     150.259\n",
      "MS                                                                          95.9807     30.427      3.154      0.002      36.345     155.617\n",
      "MT                                                                          87.6209     28.739      3.049      0.002      31.294     143.947\n",
      "NC                                                                          65.4413     22.621      2.893      0.004      21.104     109.778\n",
      "ND                                                                          47.7363   2555.754      0.019      0.985   -4961.450    5056.923\n",
      "NE                                                                          85.8226     27.748      3.093      0.002      31.437     140.208\n",
      "NH                                                                          62.5371   6.85e+04      0.001      0.999   -1.34e+05    1.34e+05\n",
      "NJ                                                                          56.2770    4.3e+04      0.001      0.999   -8.41e+04    8.42e+04\n",
      "NM                                                                          50.2678   4.37e+04      0.001      0.999   -8.57e+04    8.58e+04\n",
      "NV                                                                          82.9232     26.989      3.072      0.002      30.025     135.821\n",
      "NY                                                                          51.6717   8568.023      0.006      0.995   -1.67e+04    1.68e+04\n",
      "OH                                                                          60.2596     21.033      2.865      0.004      19.035     101.484\n",
      "OK                                                                          57.5756     20.247      2.844      0.004      17.893      97.258\n",
      "OR                                                                          27.7299   4.01e+05   6.92e-05      1.000   -7.85e+05    7.85e+05\n",
      "PA                                                                          50.4877     18.802      2.685      0.007      13.636      87.340\n",
      "RI                                                                          44.4750     51.886      0.857      0.391     -57.220     146.170\n",
      "SC                                                                          39.9499     16.740      2.387      0.017       7.141      72.759\n",
      "SD                                                                          38.1649     16.051      2.378      0.017       6.705      69.625\n",
      "TN                                                                          35.7872     15.468      2.314      0.021       5.471      66.104\n",
      "TX                                                                          28.5680     14.820      1.928      0.054      -0.478      57.614\n",
      "VA                                                                          20.8995     13.541      1.543      0.123      -5.640      47.439\n",
      "VT                                                                          10.4451   3196.991      0.003      0.997   -6255.542    6276.432\n",
      "WA                                                                          15.7456     13.094      1.202      0.229      -9.919      41.410\n",
      "WI                                                                         -17.8876   1.56e+05     -0.000      1.000   -3.07e+05    3.07e+05\n",
      "WV                                                                          12.5081     12.877      0.971      0.331     -12.729      37.746\n",
      "============================================================================================================================================\n",
      "\n",
      "Possibly complete quasi-separation: A fraction 0.26 of observations can be\n",
      "perfectly predicted. This might indicate that there is complete\n",
      "quasi-separation. In this case some parameters will not be identified.\n"
     ]
    }
   ],
   "source": [
    "print(log_reg1.summary())"
   ]
  },
  {
   "cell_type": "code",
   "execution_count": 72,
   "id": "ced081c7",
   "metadata": {},
   "outputs": [],
   "source": [
    "X_refined = X[['TN', 'SD', 'SC', 'PA', 'OR', 'OK', 'OH', 'NV', 'NE', 'NC', 'MT', 'MS', 'MO', 'MI',\n",
    "              'ME', 'MD', 'LA', 'KY', 'KS', 'IN', 'IL', 'ID', 'IA', 'GA', 'FL', 'CA', 'AL', 'AR',\n",
    "              'Mammography screening raw value', 'Teen births raw value', 'Physical inactivity raw value',\n",
    "              'Food environment index raw value', 'Adult smoking raw value', 'Poor physical health days raw value',\n",
    "              'Unemployment_rate_2020', 'Unemployed_2020', 'Civilian_labor_force_2020', 'Unemployment_rate_2016',\n",
    "              'Unemployed_2016', 'Percent of adults with less than a high school diploma, 2015-19', \n",
    "              'Percent of adults with a high school diploma only, 2015-19', \"Percent of adults with a bachelor's degree or higher, 1990\",\n",
    "              \"Percent of adults completing some college or associate's degree, 1990\", \"Percent of adults with a high school diploma only, 1990\",\n",
    "              \"Percent of adults with less than a high school diploma, 1990\", \"Percent of adults with less than a high school diploma, 1980\",\n",
    "              \"MEDHHINC_2019\", 'FIPS']]\n",
    "\n"
   ]
  },
  {
   "cell_type": "code",
   "execution_count": 73,
   "id": "93587ea3",
   "metadata": {},
   "outputs": [
    {
     "name": "stderr",
     "output_type": "stream",
     "text": [
      "/opt/conda/lib/python3.9/site-packages/statsmodels/tsa/tsatools.py:142: FutureWarning: In a future version of pandas all arguments of concat except for the argument 'objs' will be keyword-only\n",
      "  x = pd.concat(x[::order], 1)\n"
     ]
    },
    {
     "data": {
      "text/plain": [
       "TN                                                                           1.457012\n",
       "SD                                                                           1.141846\n",
       "SC                                                                           1.164313\n",
       "PA                                                                           1.350809\n",
       "OR                                                                           1.112121\n",
       "OK                                                                           1.424082\n",
       "OH                                                                           1.449623\n",
       "NV                                                                           1.093156\n",
       "NE                                                                           1.407851\n",
       "NC                                                                           1.342980\n",
       "MT                                                                           1.160485\n",
       "MS                                                                           1.520026\n",
       "MO                                                                           1.758714\n",
       "MI                                                                           1.387000\n",
       "ME                                                                           1.088232\n",
       "MD                                                                           1.132842\n",
       "LA                                                                           1.460075\n",
       "KY                                                                           2.098534\n",
       "KS                                                                           1.663196\n",
       "IN                                                                           1.718713\n",
       "IL                                                                           1.565773\n",
       "ID                                                                           1.318716\n",
       "IA                                                                           1.661832\n",
       "GA                                                                           2.494600\n",
       "FL                                                                           1.711774\n",
       "CA                                                                           1.848345\n",
       "AL                                                                           2.255259\n",
       "AR                                                                           2.473396\n",
       "Mammography screening raw value                                              1.799386\n",
       "Teen births raw value                                                        3.380976\n",
       "Physical inactivity raw value                                                4.146856\n",
       "Food environment index raw value                                             2.488785\n",
       "Adult smoking raw value                                                      5.746944\n",
       "Poor physical health days raw value                                          9.180231\n",
       "Unemployment_rate_2020                                                       3.924625\n",
       "Unemployed_2020                                                             35.562954\n",
       "Civilian_labor_force_2020                                                   32.076096\n",
       "Unemployment_rate_2016                                                       4.525941\n",
       "Unemployed_2016                                                             50.003112\n",
       "Percent of adults with less than a high school diploma, 2015-19              4.525102\n",
       "Percent of adults with a high school diploma only, 2015-19                   6.418935\n",
       "Percent of adults with a bachelor's degree or higher, 1990               13862.203072\n",
       "Percent of adults completing some college or associate's degree, 1990    10561.920947\n",
       "Percent of adults with a high school diploma only, 1990                  11791.013697\n",
       "Percent of adults with less than a high school diploma, 1990             32132.192092\n",
       "Percent of adults with less than a high school diploma, 1980                22.604101\n",
       "MEDHHINC_2019                                                                4.123988\n",
       "FIPS                                                                         4.211594\n",
       "dtype: float64"
      ]
     },
     "execution_count": 73,
     "metadata": {},
     "output_type": "execute_result"
    }
   ],
   "source": [
    "from statsmodels.stats.outliers_influence import variance_inflation_factor\n",
    "\n",
    "def VIF(df, columns):\n",
    "    values = sm.add_constant(df[columns]).values\n",
    "    num_columns = len(columns)+1\n",
    "    vif = [variance_inflation_factor(values, i) for i in range(num_columns)]\n",
    "    return pd.Series(vif[1:], index=columns)\n",
    "\n",
    "cols = ['TN', 'SD', 'SC', 'PA', 'OR', 'OK', 'OH', 'NV', 'NE', 'NC', 'MT', 'MS', 'MO', 'MI',\n",
    "              'ME', 'MD', 'LA', 'KY', 'KS', 'IN', 'IL', 'ID', 'IA', 'GA', 'FL', 'CA', 'AL', 'AR',\n",
    "              'Mammography screening raw value', 'Teen births raw value', 'Physical inactivity raw value',\n",
    "              'Food environment index raw value', 'Adult smoking raw value', 'Poor physical health days raw value',\n",
    "              'Unemployment_rate_2020', 'Unemployed_2020', 'Civilian_labor_force_2020', 'Unemployment_rate_2016',\n",
    "              'Unemployed_2016', 'Percent of adults with less than a high school diploma, 2015-19', \n",
    "              'Percent of adults with a high school diploma only, 2015-19', \"Percent of adults with a bachelor's degree or higher, 1990\",\n",
    "              \"Percent of adults completing some college or associate's degree, 1990\", \"Percent of adults with a high school diploma only, 1990\",\n",
    "              \"Percent of adults with less than a high school diploma, 1990\", \"Percent of adults with less than a high school diploma, 1980\",\n",
    "              \"MEDHHINC_2019\", 'FIPS']\n",
    "VIF(X_refined, cols)\n"
   ]
  },
  {
   "cell_type": "code",
   "execution_count": 74,
   "id": "c5aa7ec6",
   "metadata": {},
   "outputs": [
    {
     "data": {
      "text/plain": [
       "TN                                                                 1.299856\n",
       "SD                                                                 1.093429\n",
       "SC                                                                 1.107853\n",
       "PA                                                                 1.211396\n",
       "OR                                                                 1.068371\n",
       "OK                                                                 1.296019\n",
       "OH                                                                 1.264500\n",
       "NV                                                                 1.048040\n",
       "NE                                                                 1.262126\n",
       "NC                                                                 1.207110\n",
       "MT                                                                 1.126844\n",
       "MS                                                                 1.485949\n",
       "MO                                                                 1.577272\n",
       "MI                                                                 1.324679\n",
       "ME                                                                 1.073408\n",
       "MD                                                                 1.102860\n",
       "LA                                                                 1.416565\n",
       "KY                                                                 1.868848\n",
       "KS                                                                 1.517300\n",
       "IN                                                                 1.578800\n",
       "IL                                                                 1.457992\n",
       "ID                                                                 1.240996\n",
       "IA                                                                 1.517166\n",
       "GA                                                                 2.181469\n",
       "FL                                                                 1.576628\n",
       "CA                                                                 1.662703\n",
       "AL                                                                 2.089228\n",
       "AR                                                                 2.176222\n",
       "Mammography screening raw value                                    1.737365\n",
       "Teen births raw value                                              3.102866\n",
       "Physical inactivity raw value                                      3.827732\n",
       "Food environment index raw value                                   2.277303\n",
       "Adult smoking raw value                                            3.878536\n",
       "Unemployment_rate_2020                                             3.506829\n",
       "Unemployment_rate_2016                                             3.981088\n",
       "Percent of adults with less than a high school diploma, 2015-19    2.741613\n",
       "Percent of adults with a high school diploma only, 2015-19         2.725462\n",
       "MEDHHINC_2019                                                      3.518296\n",
       "FIPS                                                               3.976575\n",
       "dtype: float64"
      ]
     },
     "execution_count": 74,
     "metadata": {},
     "output_type": "execute_result"
    }
   ],
   "source": [
    "X_refined = X_refined[['TN', 'SD', 'SC', 'PA', 'OR', 'OK', 'OH', 'NV', 'NE', 'NC', 'MT', 'MS', 'MO', 'MI',\n",
    "              'ME', 'MD', 'LA', 'KY', 'KS', 'IN', 'IL', 'ID', 'IA', 'GA', 'FL', 'CA', 'AL', 'AR',\n",
    "              'Mammography screening raw value', 'Teen births raw value', 'Physical inactivity raw value',\n",
    "              'Food environment index raw value', 'Adult smoking raw value', \n",
    "              'Unemployment_rate_2020', 'Unemployment_rate_2016',\n",
    "              'Percent of adults with less than a high school diploma, 2015-19', \n",
    "              'Percent of adults with a high school diploma only, 2015-19', \n",
    "              \"MEDHHINC_2019\", 'FIPS']]\n",
    "cols = ['TN', 'SD', 'SC', 'PA', 'OR', 'OK', 'OH', 'NV', 'NE', 'NC', 'MT', 'MS', 'MO', 'MI',\n",
    "              'ME', 'MD', 'LA', 'KY', 'KS', 'IN', 'IL', 'ID', 'IA', 'GA', 'FL', 'CA', 'AL', 'AR',\n",
    "              'Mammography screening raw value', 'Teen births raw value', 'Physical inactivity raw value',\n",
    "              'Food environment index raw value', 'Adult smoking raw value',\n",
    "              'Unemployment_rate_2020', 'Unemployment_rate_2016',\n",
    "              'Percent of adults with less than a high school diploma, 2015-19', \n",
    "              'Percent of adults with a high school diploma only, 2015-19', \n",
    "              \"MEDHHINC_2019\", 'FIPS']\n",
    "VIF(X_refined, cols)"
   ]
  },
  {
   "cell_type": "code",
   "execution_count": 75,
   "id": "25ad1f87",
   "metadata": {},
   "outputs": [],
   "source": [
    "X_train_refined, X_test_refined, y_train85, y_test85 = train_test_split(X_refined, y85, test_size=0.2, random_state=42)\n",
    "X_train_refined, X_test_refined, y_train80, y_test80 = train_test_split(X_refined, y80, test_size=0.2, random_state=42)\n",
    "X_train_refined, X_test_refined, y_train75, y_test75 = train_test_split(X_refined, y75, test_size=0.2, random_state=42)\n",
    "\n"
   ]
  },
  {
   "cell_type": "markdown",
   "id": "ee51b31e",
   "metadata": {},
   "source": [
    "## Try Statsmodels Logit with Refined Features"
   ]
  },
  {
   "cell_type": "code",
   "execution_count": 76,
   "id": "47ff37d0",
   "metadata": {},
   "outputs": [
    {
     "name": "stdout",
     "output_type": "stream",
     "text": [
      "Warning: Maximum number of iterations has been exceeded.\n",
      "         Current function value: 0.259052\n",
      "         Iterations: 35\n"
     ]
    },
    {
     "name": "stderr",
     "output_type": "stream",
     "text": [
      "/opt/conda/lib/python3.9/site-packages/statsmodels/base/model.py:566: ConvergenceWarning: Maximum Likelihood optimization failed to converge. Check mle_retvals\n",
      "  warnings.warn(\"Maximum Likelihood optimization failed to \"\n"
     ]
    }
   ],
   "source": [
    "log_reg = sm.Logit(y_train85, X_train_refined).fit()\n"
   ]
  },
  {
   "cell_type": "code",
   "execution_count": 77,
   "id": "08afae53",
   "metadata": {},
   "outputs": [],
   "source": [
    "predis = (log_reg.predict(X_test_refined) > 0.5) * 1"
   ]
  },
  {
   "cell_type": "code",
   "execution_count": 78,
   "id": "4cf3d23c",
   "metadata": {},
   "outputs": [
    {
     "data": {
      "text/plain": [
       "0.8905380333951762"
      ]
     },
     "execution_count": 78,
     "metadata": {},
     "output_type": "execute_result"
    }
   ],
   "source": [
    "np.mean(predis == y_test85)"
   ]
  },
  {
   "cell_type": "code",
   "execution_count": 79,
   "id": "71b33d6c",
   "metadata": {},
   "outputs": [
    {
     "name": "stdout",
     "output_type": "stream",
     "text": [
      "Warning: Maximum number of iterations has been exceeded.\n",
      "         Current function value: 0.308709\n",
      "         Iterations: 35\n"
     ]
    },
    {
     "name": "stderr",
     "output_type": "stream",
     "text": [
      "/opt/conda/lib/python3.9/site-packages/statsmodels/base/model.py:566: ConvergenceWarning: Maximum Likelihood optimization failed to converge. Check mle_retvals\n",
      "  warnings.warn(\"Maximum Likelihood optimization failed to \"\n"
     ]
    }
   ],
   "source": [
    "log_reg = sm.Logit(y_train80, X_train_refined).fit()"
   ]
  },
  {
   "cell_type": "code",
   "execution_count": 80,
   "id": "154d8b4f",
   "metadata": {},
   "outputs": [
    {
     "data": {
      "text/plain": [
       "0.849721706864564"
      ]
     },
     "execution_count": 80,
     "metadata": {},
     "output_type": "execute_result"
    }
   ],
   "source": [
    "predis = (log_reg.predict(X_test_refined) > 0.5) * 1\n",
    "np.mean(predis == y_test80)"
   ]
  },
  {
   "cell_type": "code",
   "execution_count": 81,
   "id": "58fffbda",
   "metadata": {},
   "outputs": [
    {
     "name": "stdout",
     "output_type": "stream",
     "text": [
      "Optimization terminated successfully.\n",
      "         Current function value: 0.363975\n",
      "         Iterations 8\n"
     ]
    }
   ],
   "source": [
    "log_reg = sm.Logit(y_train75, X_train_refined).fit()"
   ]
  },
  {
   "cell_type": "code",
   "execution_count": 82,
   "id": "afdca68b",
   "metadata": {},
   "outputs": [
    {
     "data": {
      "text/plain": [
       "0.8126159554730983"
      ]
     },
     "execution_count": 82,
     "metadata": {},
     "output_type": "execute_result"
    }
   ],
   "source": [
    "predis = (log_reg.predict(X_test_refined) > 0.5) * 1\n",
    "np.mean(predis == y_test75)"
   ]
  },
  {
   "cell_type": "markdown",
   "id": "fabdad4f",
   "metadata": {},
   "source": [
    "## Now, try Random Forests model with refined features."
   ]
  },
  {
   "cell_type": "code",
   "execution_count": 83,
   "id": "782df4d9",
   "metadata": {},
   "outputs": [
    {
     "data": {
      "text/plain": [
       "RandomForestClassifier(max_features=8, min_samples_leaf=5, n_estimators=500,\n",
       "                       random_state=88)"
      ]
     },
     "execution_count": 83,
     "metadata": {},
     "output_type": "execute_result"
    }
   ],
   "source": [
    "rf = RandomForestClassifier(max_features=8, min_samples_leaf=5, n_estimators=500, random_state=88)\n",
    "rf.fit(X_train_refined, y_train85)"
   ]
  },
  {
   "cell_type": "code",
   "execution_count": 84,
   "id": "12418336",
   "metadata": {},
   "outputs": [
    {
     "name": "stdout",
     "output_type": "stream",
     "text": [
      "Confusion Matrix: \n",
      " [[446  18]\n",
      " [ 42  33]]\n",
      "\n",
      "Accuracy: 0.8886827458256029\n"
     ]
    }
   ],
   "source": [
    "y_pred = rf.predict(X_test_refined)\n",
    "cm = confusion_matrix(y_test85, y_pred)\n",
    "print (\"Confusion Matrix: \\n\", cm)\n",
    "print (\"\\nAccuracy:\", accuracy_score(y_test85, y_pred))"
   ]
  },
  {
   "cell_type": "code",
   "execution_count": 85,
   "id": "59127e4c",
   "metadata": {},
   "outputs": [
    {
     "data": {
      "text/plain": [
       "RandomForestClassifier(max_features=8, min_samples_leaf=5, n_estimators=500,\n",
       "                       random_state=88)"
      ]
     },
     "execution_count": 85,
     "metadata": {},
     "output_type": "execute_result"
    }
   ],
   "source": [
    "rf = RandomForestClassifier(max_features=8, min_samples_leaf=5, n_estimators=500, random_state=88)\n",
    "rf.fit(X_train_refined, y_train80)"
   ]
  },
  {
   "cell_type": "code",
   "execution_count": 86,
   "id": "8e5c3047",
   "metadata": {},
   "outputs": [
    {
     "name": "stdout",
     "output_type": "stream",
     "text": [
      "Confusion Matrix: \n",
      " [[411  20]\n",
      " [ 60  48]]\n",
      "\n",
      "Accuracy: 0.8515769944341373\n"
     ]
    }
   ],
   "source": [
    "y_pred = rf.predict(X_test_refined)\n",
    "cm = confusion_matrix(y_test80, y_pred)\n",
    "print (\"Confusion Matrix: \\n\", cm)\n",
    "print (\"\\nAccuracy:\", accuracy_score(y_test80, y_pred))"
   ]
  },
  {
   "cell_type": "code",
   "execution_count": 87,
   "id": "bb929070",
   "metadata": {},
   "outputs": [
    {
     "data": {
      "text/plain": [
       "RandomForestClassifier(max_features=8, min_samples_leaf=5, n_estimators=500,\n",
       "                       random_state=88)"
      ]
     },
     "execution_count": 87,
     "metadata": {},
     "output_type": "execute_result"
    }
   ],
   "source": [
    "rf = RandomForestClassifier(max_features=8, min_samples_leaf=5, n_estimators=500, random_state=88)\n",
    "rf.fit(X_train_refined, y_train75)"
   ]
  },
  {
   "cell_type": "code",
   "execution_count": 88,
   "id": "afb3812e",
   "metadata": {},
   "outputs": [
    {
     "name": "stdout",
     "output_type": "stream",
     "text": [
      "Confusion Matrix: \n",
      " [[369  31]\n",
      " [ 72  67]]\n",
      "\n",
      "Accuracy: 0.8089053803339518\n"
     ]
    }
   ],
   "source": [
    "y_pred = rf.predict(X_test_refined)\n",
    "cm = confusion_matrix(y_test75, y_pred)\n",
    "print (\"Confusion Matrix: \\n\", cm)\n",
    "print (\"\\nAccuracy:\", accuracy_score(y_test75, y_pred))"
   ]
  },
  {
   "cell_type": "markdown",
   "id": "ccb790d0",
   "metadata": {},
   "source": [
    "## Now, try Boosting model with refined features."
   ]
  },
  {
   "cell_type": "code",
   "execution_count": 89,
   "id": "88dcaa03",
   "metadata": {},
   "outputs": [
    {
     "data": {
      "text/plain": [
       "GradientBoostingClassifier(max_leaf_nodes=10, n_estimators=3300)"
      ]
     },
     "execution_count": 89,
     "metadata": {},
     "output_type": "execute_result"
    }
   ],
   "source": [
    "gbc = GradientBoostingClassifier(n_estimators=3300, max_leaf_nodes=10)\n",
    "gbc.fit(X_train_refined, y_train85)"
   ]
  },
  {
   "cell_type": "code",
   "execution_count": 90,
   "id": "dbcbc76c",
   "metadata": {},
   "outputs": [
    {
     "data": {
      "text/plain": [
       "0.8738404452690167"
      ]
     },
     "execution_count": 90,
     "metadata": {},
     "output_type": "execute_result"
    }
   ],
   "source": [
    "y_pred = gbc.predict(X_test_refined)\n",
    "(y_test85 == y_pred).mean()"
   ]
  },
  {
   "cell_type": "code",
   "execution_count": 91,
   "id": "c78657e7",
   "metadata": {},
   "outputs": [
    {
     "data": {
      "text/plain": [
       "GradientBoostingClassifier(max_leaf_nodes=10, n_estimators=3300)"
      ]
     },
     "execution_count": 91,
     "metadata": {},
     "output_type": "execute_result"
    }
   ],
   "source": [
    "gbc.fit(X_train_refined, y_train80)"
   ]
  },
  {
   "cell_type": "code",
   "execution_count": 92,
   "id": "96d3b863",
   "metadata": {},
   "outputs": [
    {
     "data": {
      "text/plain": [
       "0.8348794063079777"
      ]
     },
     "execution_count": 92,
     "metadata": {},
     "output_type": "execute_result"
    }
   ],
   "source": [
    "y_pred = gbc.predict(X_test_refined)\n",
    "(y_test80 == y_pred).mean()"
   ]
  },
  {
   "cell_type": "code",
   "execution_count": 93,
   "id": "7ebebf5e",
   "metadata": {},
   "outputs": [
    {
     "data": {
      "text/plain": [
       "GradientBoostingClassifier(max_leaf_nodes=10, n_estimators=3300)"
      ]
     },
     "execution_count": 93,
     "metadata": {},
     "output_type": "execute_result"
    }
   ],
   "source": [
    "gbc.fit(X_train_refined, y_train75)"
   ]
  },
  {
   "cell_type": "code",
   "execution_count": 94,
   "id": "b4a15558",
   "metadata": {},
   "outputs": [
    {
     "data": {
      "text/plain": [
       "0.8311688311688312"
      ]
     },
     "execution_count": 94,
     "metadata": {},
     "output_type": "execute_result"
    }
   ],
   "source": [
    "y_pred = gbc.predict(X_test_refined)\n",
    "(y_test75 == y_pred).mean()"
   ]
  },
  {
   "cell_type": "markdown",
   "id": "10a3b009",
   "metadata": {},
   "source": [
    "## LDA with Refined Features"
   ]
  },
  {
   "cell_type": "code",
   "execution_count": 95,
   "id": "a005065c",
   "metadata": {},
   "outputs": [
    {
     "data": {
      "text/plain": [
       "LinearDiscriminantAnalysis()"
      ]
     },
     "execution_count": 95,
     "metadata": {},
     "output_type": "execute_result"
    }
   ],
   "source": [
    "lda = LinearDiscriminantAnalysis()\n",
    "lda.fit(X_train_refined, y_train85)"
   ]
  },
  {
   "cell_type": "code",
   "execution_count": 96,
   "id": "30ba066e",
   "metadata": {},
   "outputs": [
    {
     "name": "stdout",
     "output_type": "stream",
     "text": [
      "Confusion Matrix: \n",
      " [[440  24]\n",
      " [ 41  34]]\n",
      "\n",
      "Accuracy: 0.8794063079777366\n"
     ]
    }
   ],
   "source": [
    "y_pred = lda.predict(X_test_refined)\n",
    "cm = confusion_matrix(y_test85, y_pred)\n",
    "print (\"Confusion Matrix: \\n\", cm)\n",
    "print (\"\\nAccuracy:\", accuracy_score(y_test85, y_pred))"
   ]
  },
  {
   "cell_type": "code",
   "execution_count": 97,
   "id": "fab2e09e",
   "metadata": {},
   "outputs": [
    {
     "data": {
      "text/plain": [
       "LinearDiscriminantAnalysis()"
      ]
     },
     "execution_count": 97,
     "metadata": {},
     "output_type": "execute_result"
    }
   ],
   "source": [
    "lda = LinearDiscriminantAnalysis()\n",
    "lda.fit(X_train_refined, y_train80)"
   ]
  },
  {
   "cell_type": "code",
   "execution_count": 98,
   "id": "68b1324f",
   "metadata": {},
   "outputs": [
    {
     "name": "stdout",
     "output_type": "stream",
     "text": [
      "Confusion Matrix: \n",
      " [[401  30]\n",
      " [ 61  47]]\n",
      "\n",
      "Accuracy: 0.8311688311688312\n"
     ]
    }
   ],
   "source": [
    "y_pred = lda.predict(X_test_refined)\n",
    "cm = confusion_matrix(y_test80, y_pred)\n",
    "print (\"Confusion Matrix: \\n\", cm)\n",
    "print (\"\\nAccuracy:\", accuracy_score(y_test80, y_pred))"
   ]
  },
  {
   "cell_type": "code",
   "execution_count": 99,
   "id": "59d13ace",
   "metadata": {},
   "outputs": [
    {
     "data": {
      "text/plain": [
       "LinearDiscriminantAnalysis()"
      ]
     },
     "execution_count": 99,
     "metadata": {},
     "output_type": "execute_result"
    }
   ],
   "source": [
    "lda = LinearDiscriminantAnalysis()\n",
    "lda.fit(X_train_refined, y_train75)"
   ]
  },
  {
   "cell_type": "code",
   "execution_count": 100,
   "id": "e45d04e3",
   "metadata": {},
   "outputs": [
    {
     "name": "stdout",
     "output_type": "stream",
     "text": [
      "Confusion Matrix: \n",
      " [[372  28]\n",
      " [ 74  65]]\n",
      "\n",
      "Accuracy: 0.8107606679035251\n"
     ]
    }
   ],
   "source": [
    "y_pred = lda.predict(X_test_refined)\n",
    "cm = confusion_matrix(y_test75, y_pred)\n",
    "print (\"Confusion Matrix: \\n\", cm)\n",
    "print (\"\\nAccuracy:\", accuracy_score(y_test75, y_pred))"
   ]
  },
  {
   "cell_type": "markdown",
   "id": "5243b7b1",
   "metadata": {},
   "source": [
    "## And now Scikit-Learn's Logistic"
   ]
  },
  {
   "cell_type": "code",
   "execution_count": 101,
   "id": "12ab934f",
   "metadata": {},
   "outputs": [
    {
     "data": {
      "text/plain": [
       "LogisticRegression(random_state=88)"
      ]
     },
     "execution_count": 101,
     "metadata": {},
     "output_type": "execute_result"
    }
   ],
   "source": [
    "logreg = LogisticRegression(random_state=88)\n",
    "logreg.fit(X_train_refined, y_train85)"
   ]
  },
  {
   "cell_type": "code",
   "execution_count": 102,
   "id": "324f79fc",
   "metadata": {},
   "outputs": [
    {
     "name": "stdout",
     "output_type": "stream",
     "text": [
      "Confusion Matrix: \n",
      " [[446  18]\n",
      " [ 54  21]]\n",
      "\n",
      "Accuracy: 0.8664192949907236\n"
     ]
    }
   ],
   "source": [
    "y_prob = logreg.predict_proba(X_test_refined)\n",
    "y_pred = pd.Series([1 if x > .5 else 0 for x in y_prob[:,1]], index=y_test85.index)\n",
    "\n",
    "cm = confusion_matrix(y_test85, y_pred)\n",
    "print (\"Confusion Matrix: \\n\", cm)\n",
    "print (\"\\nAccuracy:\", accuracy_score(y_test85, y_pred))"
   ]
  },
  {
   "cell_type": "code",
   "execution_count": 103,
   "id": "aab3629e",
   "metadata": {},
   "outputs": [
    {
     "data": {
      "text/plain": [
       "LogisticRegression(random_state=88)"
      ]
     },
     "execution_count": 103,
     "metadata": {},
     "output_type": "execute_result"
    }
   ],
   "source": [
    "logreg = LogisticRegression(random_state=88)\n",
    "logreg.fit(X_train_refined, y_train80)"
   ]
  },
  {
   "cell_type": "code",
   "execution_count": 104,
   "id": "f0308de7",
   "metadata": {},
   "outputs": [
    {
     "name": "stdout",
     "output_type": "stream",
     "text": [
      "Confusion Matrix: \n",
      " [[409  22]\n",
      " [ 70  38]]\n",
      "\n",
      "Accuracy: 0.8293135435992579\n"
     ]
    }
   ],
   "source": [
    "y_prob = logreg.predict_proba(X_test_refined)\n",
    "y_pred = pd.Series([1 if x > .5 else 0 for x in y_prob[:,1]], index=y_test80.index)\n",
    "\n",
    "cm = confusion_matrix(y_test80, y_pred)\n",
    "print (\"Confusion Matrix: \\n\", cm)\n",
    "print (\"\\nAccuracy:\", accuracy_score(y_test80, y_pred))"
   ]
  },
  {
   "cell_type": "code",
   "execution_count": 105,
   "id": "cb860486",
   "metadata": {},
   "outputs": [
    {
     "data": {
      "text/plain": [
       "LogisticRegression(random_state=88)"
      ]
     },
     "execution_count": 105,
     "metadata": {},
     "output_type": "execute_result"
    }
   ],
   "source": [
    "logreg = LogisticRegression(random_state=88)\n",
    "logreg.fit(X_train_refined, y_train75)"
   ]
  },
  {
   "cell_type": "code",
   "execution_count": 106,
   "id": "44517b95",
   "metadata": {},
   "outputs": [
    {
     "name": "stdout",
     "output_type": "stream",
     "text": [
      "Confusion Matrix: \n",
      " [[362  38]\n",
      " [ 82  57]]\n",
      "\n",
      "Accuracy: 0.7773654916512059\n"
     ]
    }
   ],
   "source": [
    "y_prob = logreg.predict_proba(X_test_refined)\n",
    "y_pred = pd.Series([1 if x > .5 else 0 for x in y_prob[:,1]], index=y_test75.index)\n",
    "\n",
    "cm = confusion_matrix(y_test75, y_pred)\n",
    "print (\"Confusion Matrix: \\n\", cm)\n",
    "print (\"\\nAccuracy:\", accuracy_score(y_test75, y_pred))"
   ]
  },
  {
   "cell_type": "markdown",
   "id": "c96b5bab",
   "metadata": {},
   "source": [
    "## Now, Try CART on the Refined Data"
   ]
  },
  {
   "cell_type": "code",
   "execution_count": 107,
   "id": "00253edc",
   "metadata": {},
   "outputs": [],
   "source": [
    "grid_values = {'ccp_alpha': np.linspace(0.001, 0.1, 10)}\n",
    "\n",
    "dtc = DecisionTreeClassifier(random_state=88)\n",
    "dtc_cv = GridSearchCV(dtc, param_grid=grid_values, cv=10).fit(X_train_refined, y_train85)\n"
   ]
  },
  {
   "cell_type": "code",
   "execution_count": 108,
   "id": "70762cc6",
   "metadata": {},
   "outputs": [
    {
     "data": {
      "image/png": "[encoded data removed]",
      "text/plain": [
       "<Figure size 576x432 with 1 Axes>"
      ]
     },
     "metadata": {
      "needs_background": "light"
     },
     "output_type": "display_data"
    },
    {
     "name": "stdout",
     "output_type": "stream",
     "text": [
      "Best ccp_alpha {'ccp_alpha': 0.012}\n"
     ]
    }
   ],
   "source": [
    "ccp_alpha = dtc_cv.cv_results_['param_ccp_alpha'].data\n",
    "ACC_scores = dtc_cv.cv_results_['mean_test_score']\n",
    "\n",
    "plt.figure(figsize=(8, 6))\n",
    "plt.xlabel('ccp_alpha', fontsize=16)\n",
    "plt.ylabel('CV Accuracy', fontsize=16)\n",
    "plt.scatter(ccp_alpha, ACC_scores, s=3)\n",
    "plt.plot(ccp_alpha, ACC_scores, linewidth=3)\n",
    "plt.grid(True, which='both')\n",
    "\n",
    "plt.tight_layout()\n",
    "plt.show()\n",
    "\n",
    "print('Best ccp_alpha', dtc_cv.best_params_)"
   ]
  },
  {
   "cell_type": "code",
   "execution_count": 109,
   "id": "29b00b89",
   "metadata": {},
   "outputs": [
    {
     "name": "stdout",
     "output_type": "stream",
     "text": [
      "Confusion Matrix: \n",
      " [[434  30]\n",
      " [ 39  36]]\n",
      "\n",
      "Accuracy: 0.8719851576994434\n"
     ]
    }
   ],
   "source": [
    "y_pred = dtc_cv.predict(X_test_refined)\n",
    "cm = confusion_matrix(y_test85, y_pred)\n",
    "print (\"Confusion Matrix: \\n\", cm)\n",
    "print (\"\\nAccuracy:\", accuracy_score(y_test85, y_pred))"
   ]
  },
  {
   "cell_type": "code",
   "execution_count": 110,
   "id": "b5ae765d",
   "metadata": {},
   "outputs": [],
   "source": [
    "grid_values = {'ccp_alpha': np.linspace(0.001, 0.1, 10)}\n",
    "\n",
    "dtc = DecisionTreeClassifier(random_state=88)\n",
    "dtc_cv = GridSearchCV(dtc, param_grid=grid_values, cv=10).fit(X_train_refined, y_train80)\n"
   ]
  },
  {
   "cell_type": "code",
   "execution_count": 111,
   "id": "99d312b5",
   "metadata": {},
   "outputs": [
    {
     "data": {
      "image/png": "[encoded data removed]",
      "text/plain": [
       "<Figure size 576x432 with 1 Axes>"
      ]
     },
     "metadata": {
      "needs_background": "light"
     },
     "output_type": "display_data"
    },
    {
     "name": "stdout",
     "output_type": "stream",
     "text": [
      "Best ccp_alpha {'ccp_alpha': 0.012}\n"
     ]
    }
   ],
   "source": [
    "ccp_alpha = dtc_cv.cv_results_['param_ccp_alpha'].data\n",
    "ACC_scores = dtc_cv.cv_results_['mean_test_score']\n",
    "\n",
    "plt.figure(figsize=(8, 6))\n",
    "plt.xlabel('ccp_alpha', fontsize=16)\n",
    "plt.ylabel('CV Accuracy', fontsize=16)\n",
    "plt.scatter(ccp_alpha, ACC_scores, s=3)\n",
    "plt.plot(ccp_alpha, ACC_scores, linewidth=3)\n",
    "plt.grid(True, which='both')\n",
    "\n",
    "plt.tight_layout()\n",
    "plt.show()\n",
    "\n",
    "print('Best ccp_alpha', dtc_cv.best_params_)"
   ]
  },
  {
   "cell_type": "code",
   "execution_count": 112,
   "id": "5c887ac9",
   "metadata": {},
   "outputs": [
    {
     "name": "stdout",
     "output_type": "stream",
     "text": [
      "Confusion Matrix: \n",
      " [[409  22]\n",
      " [ 60  48]]\n",
      "\n",
      "Accuracy: 0.8478664192949907\n"
     ]
    }
   ],
   "source": [
    "y_pred = dtc_cv.predict(X_test_refined)\n",
    "cm = confusion_matrix(y_test80, y_pred)\n",
    "print (\"Confusion Matrix: \\n\", cm)\n",
    "print (\"\\nAccuracy:\", accuracy_score(y_test80, y_pred))"
   ]
  },
  {
   "cell_type": "code",
   "execution_count": 113,
   "id": "e3446be6",
   "metadata": {},
   "outputs": [],
   "source": [
    "grid_values = {'ccp_alpha': np.linspace(0.001, 0.1, 10)}\n",
    "\n",
    "dtc = DecisionTreeClassifier(random_state=88)\n",
    "dtc_cv = GridSearchCV(dtc, param_grid=grid_values, cv=10).fit(X_train_refined, y_train75)\n"
   ]
  },
  {
   "cell_type": "code",
   "execution_count": 114,
   "id": "5767b675",
   "metadata": {
    "scrolled": true
   },
   "outputs": [
    {
     "data": {
      "image/png": "[encoded data removed]",
      "text/plain": [
       "<Figure size 576x432 with 1 Axes>"
      ]
     },
     "metadata": {
      "needs_background": "light"
     },
     "output_type": "display_data"
    },
    {
     "name": "stdout",
     "output_type": "stream",
     "text": [
      "Best ccp_alpha {'ccp_alpha': 0.012}\n"
     ]
    }
   ],
   "source": [
    "ccp_alpha = dtc_cv.cv_results_['param_ccp_alpha'].data\n",
    "ACC_scores = dtc_cv.cv_results_['mean_test_score']\n",
    "\n",
    "plt.figure(figsize=(8, 6))\n",
    "plt.xlabel('ccp_alpha', fontsize=16)\n",
    "plt.ylabel('CV Accuracy', fontsize=16)\n",
    "plt.scatter(ccp_alpha, ACC_scores, s=3)\n",
    "plt.plot(ccp_alpha, ACC_scores, linewidth=3)\n",
    "plt.grid(True, which='both')\n",
    "\n",
    "plt.tight_layout()\n",
    "plt.show()\n",
    "\n",
    "print('Best ccp_alpha', dtc_cv.best_params_)"
   ]
  },
  {
   "cell_type": "code",
   "execution_count": 115,
   "id": "0335fb41",
   "metadata": {},
   "outputs": [
    {
     "name": "stdout",
     "output_type": "stream",
     "text": [
      "Confusion Matrix: \n",
      " [[361  39]\n",
      " [ 60  79]]\n",
      "\n",
      "Accuracy: 0.8163265306122449\n"
     ]
    }
   ],
   "source": [
    "y_pred = dtc_cv.predict(X_test_refined)\n",
    "cm = confusion_matrix(y_test75, y_pred)\n",
    "print (\"Confusion Matrix: \\n\", cm)\n",
    "print (\"\\nAccuracy:\", accuracy_score(y_test75, y_pred))"
   ]
  },
  {
   "cell_type": "markdown",
   "id": "966fe678",
   "metadata": {},
   "source": [
    "## Evaluating Logistic Model"
   ]
  },
  {
   "cell_type": "code",
   "execution_count": 118,
   "id": "6ff206b8",
   "metadata": {},
   "outputs": [
    {
     "name": "stdout",
     "output_type": "stream",
     "text": [
      "Warning: Maximum number of iterations has been exceeded.\n",
      "         Current function value: 0.259052\n",
      "         Iterations: 35\n"
     ]
    },
    {
     "name": "stderr",
     "output_type": "stream",
     "text": [
      "/opt/conda/lib/python3.9/site-packages/statsmodels/base/model.py:566: ConvergenceWarning: Maximum Likelihood optimization failed to converge. Check mle_retvals\n",
      "  warnings.warn(\"Maximum Likelihood optimization failed to \"\n"
     ]
    },
    {
     "data": {
      "image/png": "[encoded data removed]",
      "text/plain": [
       "<Figure size 576x432 with 1 Axes>"
      ]
     },
     "metadata": {
      "needs_background": "light"
     },
     "output_type": "display_data"
    }
   ],
   "source": [
    "import matplotlib.pyplot as plt\n",
    "from sklearn.metrics import roc_curve, auc\n",
    "\n",
    "log_reg = sm.Logit(y_train85, X_train_refined).fit()\n",
    "\n",
    "logpredictions = log_reg.predict(X_test_refined) \n",
    "fpr, tpr, _ = roc_curve(y_test85, logpredictions)\n",
    "roc_auc = auc(fpr, tpr)\n",
    "plt.figure(figsize=(8, 6))\n",
    "plt.title('ROC Curve', fontsize=18)\n",
    "plt.xlabel('FPR', fontsize=16)\n",
    "plt.ylabel('TPR', fontsize=16)\n",
    "plt.xlim([-0.01, 1.00])\n",
    "plt.ylim([-0.01, 1.01])\n",
    "plt.plot(fpr, tpr, lw=3, label='Logistic Regression (area = {:0.2f})'.format(roc_auc)) \n",
    "plt.plot([0, 1], [0, 1])\n",
    "plt.show()"
   ]
  },
  {
   "cell_type": "code",
   "execution_count": 119,
   "id": "d2491849",
   "metadata": {},
   "outputs": [
    {
     "data": {
      "text/plain": [
       "0.8656896551724138"
      ]
     },
     "execution_count": 119,
     "metadata": {},
     "output_type": "execute_result"
    }
   ],
   "source": [
    "roc_auc"
   ]
  },
  {
   "cell_type": "code",
   "execution_count": 144,
   "id": "696bd7c0",
   "metadata": {},
   "outputs": [],
   "source": [
    "cutoffs = np.linspace(0,1,100)\n",
    "\n",
    "accuracy_array = np.empty(0)\n",
    "\n",
    "for i in np.arange(len(cutoffs)): \n",
    "    preds = (log_reg.predict(X_test_refined) > cutoffs[i]) * 1\n",
    "    acc = np.count_nonzero(y_test85 == preds) / len(preds)\n",
    "    accuracy_array = np.append(accuracy_array, acc)"
   ]
  },
  {
   "cell_type": "code",
   "execution_count": 152,
   "id": "6f04826c",
   "metadata": {},
   "outputs": [
    {
     "data": {
      "text/plain": [
       "[<matplotlib.lines.Line2D at 0x7fc7f46d62b0>]"
      ]
     },
     "execution_count": 152,
     "metadata": {},
     "output_type": "execute_result"
    },
    {
     "data": {
      "image/png": "[encoded data removed]",
      "text/plain": [
       "<Figure size 432x288 with 1 Axes>"
      ]
     },
     "metadata": {
      "needs_background": "light"
     },
     "output_type": "display_data"
    }
   ],
   "source": [
    "plt.plot(cutoffs, accuracy_array)"
   ]
  },
  {
   "cell_type": "code",
   "execution_count": 148,
   "id": "c54c8785",
   "metadata": {},
   "outputs": [
    {
     "data": {
      "text/plain": [
       "(0.8979591836734694, 0.5555555555555556)"
      ]
     },
     "execution_count": 148,
     "metadata": {},
     "output_type": "execute_result"
    }
   ],
   "source": [
    "accuracy_array[np.argmax(accuracy_array)], cutoffs[np.argmax(accuracy_array)]"
   ]
  },
  {
   "cell_type": "markdown",
   "id": "1377818c",
   "metadata": {},
   "source": [
    "## Random Forest Cross Validation "
   ]
  },
  {
   "cell_type": "code",
   "execution_count": 153,
   "id": "a74223d3",
   "metadata": {},
   "outputs": [],
   "source": [
    "from sklearn.model_selection import RandomizedSearchCV"
   ]
  },
  {
   "cell_type": "code",
   "execution_count": 154,
   "id": "7b1f4c1d",
   "metadata": {},
   "outputs": [],
   "source": [
    "max_features = np.arange(1, 17) / 16\n",
    "random_grid = {'max_features': max_features}"
   ]
  },
  {
   "cell_type": "code",
   "execution_count": 155,
   "id": "88bfbb97",
   "metadata": {},
   "outputs": [
    {
     "name": "stdout",
     "output_type": "stream",
     "text": [
      "Fitting 5 folds for each of 16 candidates, totalling 80 fits\n",
      "[CV] END ................................max_features=0.0625; total time=   0.3s\n",
      "[CV] END ................................max_features=0.0625; total time=   0.3s\n",
      "[CV] END ................................max_features=0.0625; total time=   0.3s\n",
      "[CV] END ................................max_features=0.0625; total time=   0.3s\n",
      "[CV] END ................................max_features=0.0625; total time=   0.3s\n",
      "[CV] END .................................max_features=0.125; total time=   0.4s\n",
      "[CV] END .................................max_features=0.125; total time=   0.4s\n",
      "[CV] END .................................max_features=0.125; total time=   0.3s\n",
      "[CV] END .................................max_features=0.125; total time=   0.3s\n",
      "[CV] END .................................max_features=0.125; total time=   0.3s\n",
      "[CV] END ................................max_features=0.1875; total time=   0.4s\n",
      "[CV] END ................................max_features=0.1875; total time=   0.4s\n",
      "[CV] END ................................max_features=0.1875; total time=   0.4s\n",
      "[CV] END ................................max_features=0.1875; total time=   0.4s\n",
      "[CV] END ................................max_features=0.1875; total time=   0.4s\n",
      "[CV] END ..................................max_features=0.25; total time=   0.4s\n",
      "[CV] END ..................................max_features=0.25; total time=   0.4s\n",
      "[CV] END ..................................max_features=0.25; total time=   0.4s\n",
      "[CV] END ..................................max_features=0.25; total time=   0.4s\n",
      "[CV] END ..................................max_features=0.25; total time=   0.4s\n",
      "[CV] END ................................max_features=0.3125; total time=   0.5s\n",
      "[CV] END ................................max_features=0.3125; total time=   0.5s\n",
      "[CV] END ................................max_features=0.3125; total time=   0.6s\n",
      "[CV] END ................................max_features=0.3125; total time=   0.5s\n",
      "[CV] END ................................max_features=0.3125; total time=   0.5s\n",
      "[CV] END .................................max_features=0.375; total time=   0.6s\n",
      "[CV] END .................................max_features=0.375; total time=   0.6s\n",
      "[CV] END .................................max_features=0.375; total time=   0.6s\n",
      "[CV] END .................................max_features=0.375; total time=   0.6s\n",
      "[CV] END .................................max_features=0.375; total time=   0.6s\n",
      "[CV] END ................................max_features=0.4375; total time=   0.7s\n",
      "[CV] END ................................max_features=0.4375; total time=   0.6s\n",
      "[CV] END ................................max_features=0.4375; total time=   0.6s\n",
      "[CV] END ................................max_features=0.4375; total time=   0.7s\n",
      "[CV] END ................................max_features=0.4375; total time=   0.6s\n",
      "[CV] END ...................................max_features=0.5; total time=   0.7s\n",
      "[CV] END ...................................max_features=0.5; total time=   0.7s\n",
      "[CV] END ...................................max_features=0.5; total time=   0.7s\n",
      "[CV] END ...................................max_features=0.5; total time=   0.7s\n",
      "[CV] END ...................................max_features=0.5; total time=   0.8s\n",
      "[CV] END ................................max_features=0.5625; total time=   0.7s\n",
      "[CV] END ................................max_features=0.5625; total time=   0.7s\n",
      "[CV] END ................................max_features=0.5625; total time=   0.7s\n",
      "[CV] END ................................max_features=0.5625; total time=   0.7s\n",
      "[CV] END ................................max_features=0.5625; total time=   0.7s\n",
      "[CV] END .................................max_features=0.625; total time=   0.9s\n",
      "[CV] END .................................max_features=0.625; total time=   0.8s\n",
      "[CV] END .................................max_features=0.625; total time=   0.9s\n",
      "[CV] END .................................max_features=0.625; total time=   0.8s\n",
      "[CV] END .................................max_features=0.625; total time=   0.8s\n",
      "[CV] END ................................max_features=0.6875; total time=   0.9s\n",
      "[CV] END ................................max_features=0.6875; total time=   0.9s\n",
      "[CV] END ................................max_features=0.6875; total time=   1.0s\n",
      "[CV] END ................................max_features=0.6875; total time=   0.9s\n",
      "[CV] END ................................max_features=0.6875; total time=   0.9s\n",
      "[CV] END ..................................max_features=0.75; total time=   0.9s\n",
      "[CV] END ..................................max_features=0.75; total time=   1.0s\n",
      "[CV] END ..................................max_features=0.75; total time=   0.9s\n",
      "[CV] END ..................................max_features=0.75; total time=   1.0s\n",
      "[CV] END ..................................max_features=0.75; total time=   0.9s\n",
      "[CV] END ................................max_features=0.8125; total time=   1.1s\n",
      "[CV] END ................................max_features=0.8125; total time=   1.1s\n",
      "[CV] END ................................max_features=0.8125; total time=   1.0s\n",
      "[CV] END ................................max_features=0.8125; total time=   1.1s\n",
      "[CV] END ................................max_features=0.8125; total time=   0.9s\n",
      "[CV] END .................................max_features=0.875; total time=   1.0s\n",
      "[CV] END .................................max_features=0.875; total time=   1.0s\n",
      "[CV] END .................................max_features=0.875; total time=   1.1s\n",
      "[CV] END .................................max_features=0.875; total time=   1.1s\n",
      "[CV] END .................................max_features=0.875; total time=   1.0s\n",
      "[CV] END ................................max_features=0.9375; total time=   1.1s\n",
      "[CV] END ................................max_features=0.9375; total time=   1.1s\n",
      "[CV] END ................................max_features=0.9375; total time=   1.2s\n",
      "[CV] END ................................max_features=0.9375; total time=   1.2s\n",
      "[CV] END ................................max_features=0.9375; total time=   1.1s\n",
      "[CV] END ...................................max_features=1.0; total time=   1.3s\n",
      "[CV] END ...................................max_features=1.0; total time=   1.4s\n",
      "[CV] END ...................................max_features=1.0; total time=   1.3s\n",
      "[CV] END ...................................max_features=1.0; total time=   1.2s\n",
      "[CV] END ...................................max_features=1.0; total time=   1.1s\n"
     ]
    },
    {
     "data": {
      "text/plain": [
       "RandomizedSearchCV(cv=5, estimator=RandomForestClassifier(), n_iter=16,\n",
       "                   param_distributions={'max_features': array([0.0625, 0.125 , 0.1875, 0.25  , 0.3125, 0.375 , 0.4375, 0.5   ,\n",
       "       0.5625, 0.625 , 0.6875, 0.75  , 0.8125, 0.875 , 0.9375, 1.    ])},\n",
       "                   random_state=42, verbose=2)"
      ]
     },
     "execution_count": 155,
     "metadata": {},
     "output_type": "execute_result"
    }
   ],
   "source": [
    "rf = RandomForestClassifier()\n",
    "\n",
    "rf_random = RandomizedSearchCV(estimator = rf, param_distributions = random_grid, n_iter = 16, cv = 5, verbose=2, random_state=42)\n",
    "\n",
    "rf_random.fit(X_train_refined, y_train85)"
   ]
  },
  {
   "cell_type": "code",
   "execution_count": 156,
   "id": "9b533df2",
   "metadata": {},
   "outputs": [
    {
     "data": {
      "text/plain": [
       "{'max_features': 0.125}"
      ]
     },
     "execution_count": 156,
     "metadata": {},
     "output_type": "execute_result"
    }
   ],
   "source": [
    "rf_random.best_params_"
   ]
  },
  {
   "cell_type": "code",
   "execution_count": 157,
   "id": "d4634415",
   "metadata": {},
   "outputs": [
    {
     "name": "stderr",
     "output_type": "stream",
     "text": [
      "/opt/conda/lib/python3.9/site-packages/sklearn/model_selection/_search.py:285: UserWarning: The total space of parameters 14 is smaller than n_iter=16. Running 14 iterations. For exhaustive searches, use GridSearchCV.\n",
      "  warnings.warn(\n"
     ]
    },
    {
     "name": "stdout",
     "output_type": "stream",
     "text": [
      "Fitting 5 folds for each of 14 candidates, totalling 70 fits\n",
      "[CV] END .................................min_samples_leaf=1; total time=   0.4s\n",
      "[CV] END .................................min_samples_leaf=1; total time=   0.6s\n",
      "[CV] END .................................min_samples_leaf=1; total time=   0.5s\n",
      "[CV] END .................................min_samples_leaf=1; total time=   0.5s\n",
      "[CV] END .................................min_samples_leaf=1; total time=   0.6s\n",
      "[CV] END .................................min_samples_leaf=2; total time=   0.5s\n",
      "[CV] END .................................min_samples_leaf=2; total time=   0.5s\n",
      "[CV] END .................................min_samples_leaf=2; total time=   0.6s\n",
      "[CV] END .................................min_samples_leaf=2; total time=   0.5s\n",
      "[CV] END .................................min_samples_leaf=2; total time=   0.4s\n",
      "[CV] END .................................min_samples_leaf=3; total time=   0.4s\n",
      "[CV] END .................................min_samples_leaf=3; total time=   0.5s\n",
      "[CV] END .................................min_samples_leaf=3; total time=   0.5s\n",
      "[CV] END .................................min_samples_leaf=3; total time=   0.5s\n",
      "[CV] END .................................min_samples_leaf=3; total time=   0.4s\n",
      "[CV] END .................................min_samples_leaf=4; total time=   0.3s\n",
      "[CV] END .................................min_samples_leaf=4; total time=   0.4s\n",
      "[CV] END .................................min_samples_leaf=4; total time=   0.4s\n",
      "[CV] END .................................min_samples_leaf=4; total time=   0.5s\n",
      "[CV] END .................................min_samples_leaf=4; total time=   0.4s\n",
      "[CV] END .................................min_samples_leaf=5; total time=   0.4s\n",
      "[CV] END .................................min_samples_leaf=5; total time=   0.4s\n",
      "[CV] END .................................min_samples_leaf=5; total time=   0.4s\n",
      "[CV] END .................................min_samples_leaf=5; total time=   0.4s\n",
      "[CV] END .................................min_samples_leaf=5; total time=   0.5s\n",
      "[CV] END .................................min_samples_leaf=6; total time=   0.4s\n",
      "[CV] END .................................min_samples_leaf=6; total time=   0.4s\n",
      "[CV] END .................................min_samples_leaf=6; total time=   0.4s\n",
      "[CV] END .................................min_samples_leaf=6; total time=   0.4s\n",
      "[CV] END .................................min_samples_leaf=6; total time=   0.4s\n",
      "[CV] END .................................min_samples_leaf=7; total time=   0.4s\n",
      "[CV] END .................................min_samples_leaf=7; total time=   0.4s\n",
      "[CV] END .................................min_samples_leaf=7; total time=   0.4s\n",
      "[CV] END .................................min_samples_leaf=7; total time=   0.5s\n",
      "[CV] END .................................min_samples_leaf=7; total time=   0.4s\n",
      "[CV] END .................................min_samples_leaf=8; total time=   0.4s\n",
      "[CV] END .................................min_samples_leaf=8; total time=   0.3s\n",
      "[CV] END .................................min_samples_leaf=8; total time=   0.4s\n",
      "[CV] END .................................min_samples_leaf=8; total time=   0.4s\n",
      "[CV] END .................................min_samples_leaf=8; total time=   0.4s\n",
      "[CV] END .................................min_samples_leaf=9; total time=   0.4s\n",
      "[CV] END .................................min_samples_leaf=9; total time=   0.4s\n",
      "[CV] END .................................min_samples_leaf=9; total time=   0.4s\n",
      "[CV] END .................................min_samples_leaf=9; total time=   0.4s\n",
      "[CV] END .................................min_samples_leaf=9; total time=   0.3s\n",
      "[CV] END ................................min_samples_leaf=10; total time=   0.5s\n",
      "[CV] END ................................min_samples_leaf=10; total time=   0.5s\n",
      "[CV] END ................................min_samples_leaf=10; total time=   0.5s\n",
      "[CV] END ................................min_samples_leaf=10; total time=   0.5s\n",
      "[CV] END ................................min_samples_leaf=10; total time=   0.5s\n",
      "[CV] END ................................min_samples_leaf=11; total time=   0.5s\n",
      "[CV] END ................................min_samples_leaf=11; total time=   0.5s\n",
      "[CV] END ................................min_samples_leaf=11; total time=   0.5s\n",
      "[CV] END ................................min_samples_leaf=11; total time=   0.4s\n",
      "[CV] END ................................min_samples_leaf=11; total time=   0.5s\n",
      "[CV] END ................................min_samples_leaf=12; total time=   0.4s\n",
      "[CV] END ................................min_samples_leaf=12; total time=   0.4s\n",
      "[CV] END ................................min_samples_leaf=12; total time=   0.5s\n",
      "[CV] END ................................min_samples_leaf=12; total time=   0.5s\n",
      "[CV] END ................................min_samples_leaf=12; total time=   0.5s\n",
      "[CV] END ................................min_samples_leaf=13; total time=   0.4s\n",
      "[CV] END ................................min_samples_leaf=13; total time=   0.4s\n",
      "[CV] END ................................min_samples_leaf=13; total time=   0.4s\n",
      "[CV] END ................................min_samples_leaf=13; total time=   0.5s\n",
      "[CV] END ................................min_samples_leaf=13; total time=   0.5s\n",
      "[CV] END ................................min_samples_leaf=14; total time=   0.5s\n",
      "[CV] END ................................min_samples_leaf=14; total time=   0.4s\n",
      "[CV] END ................................min_samples_leaf=14; total time=   0.4s\n",
      "[CV] END ................................min_samples_leaf=14; total time=   0.5s\n",
      "[CV] END ................................min_samples_leaf=14; total time=   0.5s\n"
     ]
    },
    {
     "data": {
      "text/plain": [
       "RandomizedSearchCV(cv=5, estimator=RandomForestClassifier(), n_iter=16,\n",
       "                   param_distributions={'min_samples_leaf': array([ 1,  2,  3,  4,  5,  6,  7,  8,  9, 10, 11, 12, 13, 14])},\n",
       "                   random_state=42, verbose=2)"
      ]
     },
     "execution_count": 157,
     "metadata": {},
     "output_type": "execute_result"
    }
   ],
   "source": [
    "max_features = np.arange(1, 15)\n",
    "random_grid = {'min_samples_leaf': max_features}\n",
    "\n",
    "rf_random = RandomizedSearchCV(estimator = rf, param_distributions = random_grid, n_iter = 16, cv = 5, verbose=2, random_state=42)\n",
    "\n",
    "rf_random.fit(X_train_refined, y_train85)"
   ]
  },
  {
   "cell_type": "code",
   "execution_count": 161,
   "id": "1e40118f",
   "metadata": {},
   "outputs": [
    {
     "data": {
      "text/plain": [
       "{'min_samples_leaf': 3}"
      ]
     },
     "execution_count": 161,
     "metadata": {},
     "output_type": "execute_result"
    }
   ],
   "source": [
    "rf_random.best_params_"
   ]
  },
  {
   "cell_type": "code",
   "execution_count": 162,
   "id": "eb149cba",
   "metadata": {},
   "outputs": [
    {
     "data": {
      "text/plain": [
       "RandomForestClassifier(max_features=0.125, min_samples_leaf=3, n_estimators=500,\n",
       "                       random_state=88)"
      ]
     },
     "execution_count": 162,
     "metadata": {},
     "output_type": "execute_result"
    }
   ],
   "source": [
    "rf = RandomForestClassifier(max_features=0.125, min_samples_leaf=3, n_estimators=500, random_state=88)\n",
    "rf.fit(X_train_refined, y_train85)"
   ]
  },
  {
   "cell_type": "code",
   "execution_count": 163,
   "id": "e1b303ba",
   "metadata": {},
   "outputs": [
    {
     "name": "stdout",
     "output_type": "stream",
     "text": [
      "Confusion Matrix: \n",
      " [[448  16]\n",
      " [ 45  30]]\n",
      "\n",
      "Accuracy: 0.8868274582560297\n"
     ]
    }
   ],
   "source": [
    "y_pred = rf.predict(X_test_refined)\n",
    "cm = confusion_matrix(y_test85, y_pred)\n",
    "print (\"Confusion Matrix: \\n\", cm)\n",
    "print (\"\\nAccuracy:\", accuracy_score(y_test85, y_pred))"
   ]
  },
  {
   "cell_type": "markdown",
   "id": "31ea67d8",
   "metadata": {},
   "source": [
    "## Bootstrapping"
   ]
  },
  {
   "cell_type": "code",
   "execution_count": 165,
   "id": "0e809ebc",
   "metadata": {},
   "outputs": [
    {
     "name": "stdout",
     "output_type": "stream",
     "text": [
      "Processing /home/jovyan/.cache/pip/wheels/a9/7b/e9/000ad8cb18a35a7d68051b362c96a867cd24b7b0c7b478329d/bootstrapped-0.0.2-py2.py3-none-any.whl\n",
      "Requirement already satisfied: pandas>=0.18.1 in /opt/conda/lib/python3.9/site-packages (from bootstrapped) (1.3.4)\n",
      "Requirement already satisfied: numpy>=1.11.1 in /opt/conda/lib/python3.9/site-packages (from bootstrapped) (1.21.3)\n",
      "Requirement already satisfied: matplotlib>=1.5.3 in /opt/conda/lib/python3.9/site-packages (from bootstrapped) (3.4.3)\n",
      "Requirement already satisfied: python-dateutil>=2.7.3 in /opt/conda/lib/python3.9/site-packages (from pandas>=0.18.1->bootstrapped) (2.8.0)\n",
      "Requirement already satisfied: pytz>=2017.3 in /opt/conda/lib/python3.9/site-packages (from pandas>=0.18.1->bootstrapped) (2021.1)\n",
      "Requirement already satisfied: pillow>=6.2.0 in /opt/conda/lib/python3.9/site-packages (from matplotlib>=1.5.3->bootstrapped) (8.3.2)\n",
      "Requirement already satisfied: cycler>=0.10 in /opt/conda/lib/python3.9/site-packages (from matplotlib>=1.5.3->bootstrapped) (0.11.0)\n",
      "Requirement already satisfied: pyparsing>=2.2.1 in /opt/conda/lib/python3.9/site-packages (from matplotlib>=1.5.3->bootstrapped) (2.4.7)\n",
      "Requirement already satisfied: kiwisolver>=1.0.1 in /opt/conda/lib/python3.9/site-packages (from matplotlib>=1.5.3->bootstrapped) (1.3.2)\n",
      "Requirement already satisfied: six>=1.5 in /opt/conda/lib/python3.9/site-packages (from python-dateutil>=2.7.3->pandas>=0.18.1->bootstrapped) (1.16.0)\n",
      "Installing collected packages: bootstrapped\n",
      "Successfully installed bootstrapped-0.0.2\n",
      "Note: you may need to restart the kernel to use updated packages.\n"
     ]
    }
   ],
   "source": [
    "pip install bootstrapped"
   ]
  },
  {
   "cell_type": "code",
   "execution_count": 166,
   "id": "ff0a4e77",
   "metadata": {},
   "outputs": [],
   "source": [
    "import bootstrapped.bootstrap as bs\n",
    "import bootstrapped.stats_functions as bs_stats"
   ]
  },
  {
   "cell_type": "code",
   "execution_count": 167,
   "id": "6f4fca23",
   "metadata": {},
   "outputs": [],
   "source": [
    "import time\n",
    "\n",
    "def bootstrap_validation(test_data, test_label, train_label, model, metrics_list, sample=500, random_state=66):\n",
    "    tic = time.time()\n",
    "    n_sample = sample\n",
    "    n_metrics = len(metrics_list)\n",
    "    output_array=np.zeros([n_sample, n_metrics])\n",
    "    output_array[:]=np.nan\n",
    "    print(output_array.shape)\n",
    "    for bs_iter in range(n_sample):\n",
    "        bs_index = np.random.choice(test_data.index, len(test_data.index), replace=True)\n",
    "        bs_data = test_data.loc[bs_index]\n",
    "        bs_label = test_label.loc[bs_index]\n",
    "        bs_predicted = model.predict(bs_data)\n",
    "        for metrics_iter in range(n_metrics):\n",
    "            metrics = metrics_list[metrics_iter]\n",
    "            output_array[bs_iter, metrics_iter]=metrics(bs_predicted,bs_label,train_label)\n",
    "#         if bs_iter % 100 == 0:\n",
    "#             print(bs_iter, time.time()-tic)\n",
    "    output_df = pd.DataFrame(output_array)\n",
    "    return output_df"
   ]
  },
  {
   "cell_type": "code",
   "execution_count": 205,
   "id": "47dd0243",
   "metadata": {},
   "outputs": [],
   "source": [
    "def OS_R_squared(predictions, y_test,y_train):\n",
    "    SSE = np.sum((y_test-predictions)**2)\n",
    "    SST = np.sum((y_test-np.mean(y_train))**2)\n",
    "    r2 = 1-SSE/SST\n",
    "    return r2\n",
    "\n",
    "def mean_squared_error(predictions, y_test,y_train):\n",
    "    MSE = np.mean((y_test-predictions)**2)\n",
    "    return MSE\n",
    "\n",
    "def mean_absolute_error(predictions, y_test,y_train):\n",
    "    MAE = np.mean(np.abs(y_test-predictions))\n",
    "    return MAE\n",
    "\n",
    "def accuracy(predictions, y_test, y_train): \n",
    "    ACC = np.count_nonzero(((predictions >0.5555)*1) == y_test) / len(y_test)\n",
    "    return ACC"
   ]
  },
  {
   "cell_type": "code",
   "execution_count": 189,
   "id": "79b7be72",
   "metadata": {},
   "outputs": [
    {
     "name": "stdout",
     "output_type": "stream",
     "text": [
      "(1000, 1)\n"
     ]
    }
   ],
   "source": [
    "bs_output1 = bootstrap_validation(X_test_refined,y_test85,y_train85,rf,\n",
    "                                 metrics_list=[accuracy],\n",
    "                                 sample = 1000)"
   ]
  },
  {
   "cell_type": "code",
   "execution_count": 190,
   "id": "35564289",
   "metadata": {},
   "outputs": [
    {
     "data": {
      "text/plain": [
       "(-0.05, 0.05)"
      ]
     },
     "execution_count": 190,
     "metadata": {},
     "output_type": "execute_result"
    },
    {
     "data": {
      "image/png": "[encoded data removed]",
      "text/plain": [
       "<Figure size 864x360 with 2 Axes>"
      ]
     },
     "metadata": {
      "needs_background": "light"
     },
     "output_type": "display_data"
    }
   ],
   "source": [
    "rf_test_accuracy = 0.8868274582560297\n",
    "fig, axs = plt.subplots(ncols=2, figsize=(12,5))\n",
    "axs[0].set_xlabel('Bootstrap Accuracy Estimate', fontsize=16)\n",
    "axs[1].set_xlabel('Boot Accuracy - Test Set Accuracy', fontsize=16)\n",
    "axs[0].set_ylabel('Count', fontsize=16)\n",
    "axs[0].hist(bs_output1.iloc[:,0], bins=20,edgecolor='green', linewidth=2,color = \"grey\")\n",
    "axs[0].set_xlim([0.825,0.93])\n",
    "axs[1].hist(bs_output1.iloc[:,0]-rf_test_accuracy, bins=20,edgecolor='green', linewidth=2,color = \"grey\")\n",
    "axs[1].set_xlim([-0.05,0.05])"
   ]
  },
  {
   "cell_type": "code",
   "execution_count": 191,
   "id": "096e320a",
   "metadata": {},
   "outputs": [
    {
     "name": "stdout",
     "output_type": "stream",
     "text": [
      "The 95-percent confidence interval of OSR2 is [-0.02782931  0.02597403]\n"
     ]
    }
   ],
   "source": [
    "# The 95% confidence interval\n",
    "CI = [0,0]\n",
    "CI_0 = np.quantile(bs_output1.iloc[:,0]-rf_test_accuracy,np.array([0.025,0.975]))\n",
    "CI[0] = rf_test_accuracy - CI_0[1]\n",
    "CI[1] = rf_test_accuracy - CI_0[0]\n",
    "print(\"The 95-percent confidence interval of OSR2 is %s\" % CI_0) #0.5,0.64"
   ]
  },
  {
   "cell_type": "code",
   "execution_count": 199,
   "id": "076f1afd",
   "metadata": {},
   "outputs": [
    {
     "data": {
      "text/plain": [
       "<matplotlib.collections.LineCollection at 0x7fc7f3ed0ca0>"
      ]
     },
     "execution_count": 199,
     "metadata": {},
     "output_type": "execute_result"
    },
    {
     "data": {
      "image/png": "[encoded data removed]",
      "text/plain": [
       "<Figure size 576x432 with 1 Axes>"
      ]
     },
     "metadata": {
      "needs_background": "light"
     },
     "output_type": "display_data"
    }
   ],
   "source": [
    "fig, axs = plt.subplots(ncols=1, figsize=(8,6))\n",
    "axs.set_xlabel('Boot Accuracy - Test Set Accuracy', fontsize=16)\n",
    "axs.set_ylabel('Count', fontsize=16)\n",
    "axs.hist(bs_output1.iloc[:,0]-rf_test_accuracy, bins=20,edgecolor='green', linewidth=2,color = \"grey\")\n",
    "axs.set_xlim([-0.040,0.040])\n",
    "axs.vlines(x=-0.02782931, ymin = 0, ymax =200, color = \"black\")\n",
    "axs.vlines(x=0.02597403, ymin = 0, ymax =200, color = \"black\")\n"
   ]
  },
  {
   "cell_type": "code",
   "execution_count": 206,
   "id": "b51d336d",
   "metadata": {},
   "outputs": [
    {
     "name": "stdout",
     "output_type": "stream",
     "text": [
      "(1000, 1)\n"
     ]
    }
   ],
   "source": [
    "bs_output = bootstrap_validation(X_test_refined,y_test85,y_train85,log_reg,\n",
    "                                 metrics_list=[accuracy],\n",
    "                                 sample = 1000)"
   ]
  },
  {
   "cell_type": "code",
   "execution_count": 210,
   "id": "3a1c0784",
   "metadata": {},
   "outputs": [
    {
     "data": {
      "text/plain": [
       "(-0.05, 0.05)"
      ]
     },
     "execution_count": 210,
     "metadata": {},
     "output_type": "execute_result"
    },
    {
     "data": {
      "image/png": "[encoded data removed]",
      "text/plain": [
       "<Figure size 864x360 with 2 Axes>"
      ]
     },
     "metadata": {
      "needs_background": "light"
     },
     "output_type": "display_data"
    }
   ],
   "source": [
    "log_test_accuracy = 0.8979591836734694\n",
    "fig, axs = plt.subplots(ncols=2, figsize=(12,5))\n",
    "axs[0].set_xlabel('Bootstrap Accuracy Estimate', fontsize=16)\n",
    "axs[1].set_xlabel('Boot Accuracy - Test Set Accuracy', fontsize=16)\n",
    "axs[0].set_ylabel('Count', fontsize=16)\n",
    "axs[0].hist(bs_output.iloc[:,0], bins=20,edgecolor='green', linewidth=2,color = \"grey\")\n",
    "axs[0].set_xlim([0.850,0.94])\n",
    "axs[1].hist(bs_output.iloc[:,0]-log_test_accuracy, bins=20,edgecolor='green', linewidth=2,color = \"grey\")\n",
    "axs[1].set_xlim([-0.05,0.05])"
   ]
  },
  {
   "cell_type": "code",
   "execution_count": 211,
   "id": "63f9c646",
   "metadata": {},
   "outputs": [
    {
     "name": "stdout",
     "output_type": "stream",
     "text": [
      "The 95-percent confidence interval of OSR2 is [-0.02411874  0.02411874]\n"
     ]
    }
   ],
   "source": [
    "# The 95% confidence interval\n",
    "CI = [0,0]\n",
    "CI_0 = np.quantile(bs_output.iloc[:,0]-log_test_accuracy,np.array([0.025,0.975]))\n",
    "CI[0] = rf_test_accuracy - CI_0[1]\n",
    "CI[1] = rf_test_accuracy - CI_0[0]\n",
    "print(\"The 95-percent confidence interval of OSR2 is %s\" % CI_0) #0.5,0.64"
   ]
  },
  {
   "cell_type": "code",
   "execution_count": 213,
   "id": "06269940",
   "metadata": {},
   "outputs": [
    {
     "data": {
      "text/plain": [
       "<matplotlib.collections.LineCollection at 0x7fc7f41d5940>"
      ]
     },
     "execution_count": 213,
     "metadata": {},
     "output_type": "execute_result"
    },
    {
     "data": {
      "image/png": "[encoded data removed]",
      "text/plain": [
       "<Figure size 576x432 with 1 Axes>"
      ]
     },
     "metadata": {
      "needs_background": "light"
     },
     "output_type": "display_data"
    }
   ],
   "source": [
    "fig, axs = plt.subplots(ncols=1, figsize=(8,6))\n",
    "axs.set_xlabel('Boot Accuracy - Test Set Accuracy', fontsize=16)\n",
    "axs.set_ylabel('Count', fontsize=16)\n",
    "axs.hist(bs_output.iloc[:,0]-log_test_accuracy, bins=20,edgecolor='green', linewidth=2,color = \"grey\")\n",
    "axs.set_xlim([-0.040,0.040])\n",
    "axs.vlines(x=-0.02411874, ymin = 0, ymax =200, color = \"black\")\n",
    "axs.vlines(x=0.02411874, ymin = 0, ymax =200, color = \"black\")"
   ]
  }
 ],
 "metadata": {
  "kernelspec": {
   "display_name": "Python 3 (ipykernel)",
   "language": "python",
   "name": "python3"
  },
  "language_info": {
   "codemirror_mode": {
    "name": "ipython",
    "version": 3
   },
   "file_extension": ".py",
   "mimetype": "text/x-python",
   "name": "python",
   "nbconvert_exporter": "python",
   "pygments_lexer": "ipython3",
   "version": "3.9.7"
  }
 },
 "nbformat": 4,
 "nbformat_minor": 5
}
